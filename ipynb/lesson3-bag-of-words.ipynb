{
 "cells": [
  {
   "cell_type": "markdown",
   "metadata": {},
   "source": [
    "# Lesson 5 // Bag-of-words models\n",
    "\n",
    "In a bag-of-words model, a text document is represented by the set of words used in the document. This is a simplified representation that ignores much of the more subtle structure of text, like the order that words appear in and grammar. Frequency counts of the words used in a document can be used to cluster documents or as features in predictive modelling.\n",
    "\n",
    "For example, say we have a collection of newspaper articles drawn from entertainment and business categories. The set of documents is known as the *corpus*. The set of all unique words used in any of the articles consitutes our bag-of-words, also called the *vocabulary*. We can represent this data as a matrix, in which each article is a row, each word is a column, and the entry in row *i* and column *j* contains the number of times word *j* appears in document *i* (many of these values will be zero, so we have a sparse matrix). A final column contains our response variable, indicating the type of article (entertainment or business). We could use the word frequencies as features to build a model that, on the basis of frequencies of different words, predicts whether an article is about business or entertainment. This is a typical kind of use for a bag-of-words model. Some hypothetical data is shown below.\n",
    "\n",
    "\n",
    "|document | sing | money | the | happy | dividend |... | response\n",
    "|---------|-----|-----|-----|-------|-----|----------\n",
    "|1 | 5 | 0 | 15 | 0 | 0 | ... | ent\n",
    "|2 | 0 | 5 | 12 | 2 | 0 |... | bus\n",
    "|3 | 0 | 0 | 3 | 0 | 6 | ... | bus\n",
    "|... | ... | ... | ... | ... | ... | ... | ...\n",
    "|100 | 10 | 0 | 13 | 10 | 2 | ... | ent\n",
    "\n",
    "\n",
    "This notebook covers bag-of-words models. In the notebook we:\n",
    "\n",
    "1. Show how to extract bag-of-words features from a text document.\n",
    "2. Build a classification tree with bag-of-words to predict whether a Trump tweet was made before or after he became president, on the basis of the content of that tweet.\n",
    "3. Show how to test that model using in- and out-of-sample validation.\n",
    "4. Introduce *tf-idf* (term frequency-inverse-document-frequency), a way of weighting word frequencies that adjusts for how common a word is across documents (and hence how \"special\" a word is to a particular document).\n",
    "5. Build another classification tree, based on tf-idf weighted bag-of-words features, and see whether we get more accurate predictions.\n",
    "\n",
    "[Chapter 3](http://tidytextmining.com/tfidf.html) of TMR covers tf-idf and related topics."
   ]
  },
  {
   "cell_type": "markdown",
   "metadata": {},
   "source": [
    "We'll start by loading the packages we need, loading the data containing the tweets, and doing some wrangling. Most of this is the same as before - we\n",
    "* parse the date the tweet was created, \n",
    "* make a new variable indicating whether the tweet was made while president, \n",
    "* do some cleaning of the tweets to remove links, retweets. Note that this time we do **not** remove stop words as we handle these via the downweighting performed by tf-idf. The relevant line of code has been commented out below - you can remove the comment and hence remove stop words (there is nothing \"wrong\" with doing this) and see what happens.\n",
    "* turn the data into tidy text data by tokenization by word (plus some stuff important to tweets, like hashtags). \n",
    "\n",
    "This is mostly the same as what we did in previous notebooks, so refer back to them if anything is not clear.\n",
    "\n",
    "In addition, we take a sample of 1000 tweets before and after he became president. That will be enough to build a model later - you can always use more data if you want."
   ]
  },
  {
   "cell_type": "code",
   "execution_count": 29,
   "metadata": {},
   "outputs": [],
   "source": [
    "library(tidyverse)\n",
    "library(stringr)\n",
    "library(lubridate)\n",
    "library(tidytext)\n",
    "library(rpart) \n",
    "\n",
    "options(repr.plot.width=4, repr.plot.height=3) # set plot size in the notebook\n",
    "\n",
    "load(\"../data/trump-tweets-2018.RData\")\n",
    "\n",
    "# make data a tibble\n",
    "tweets <- as_tibble(tweets)\n",
    "\n",
    "# parse the date and add some date related variables\n",
    "tweets <- tweets %>% \n",
    "  mutate(date = parse_datetime(str_sub(tweets$created_at,5,30), \"%b %d %H:%M:%S %z %Y\")) %>% \n",
    "  mutate(is_prez = (date > ymd(20161108))) %>%\n",
    "  mutate(month = make_date(year(date), month(date)))\n",
    "\n",
    "# take a random sample of 1000 tweets before and after became president\n",
    "set.seed(98) #100\n",
    "tweets <- tweets %>% group_by(is_prez) %>% sample_n(1000)\n",
    "\n",
    "# turn into tidy text \n",
    "replace_reg <- \"(https?:.*?([\\\\s]|[a-zA-Z0-9]$))|(www:.*?([\\\\s]|[a-zA-Z0-9]$))|&amp;|&lt;|&gt;|RT\"\n",
    "unnest_reg <- \"[^A-Za-z_\\\\d#@']\"\n",
    "tidy_tweets <- tweets %>% \n",
    "    filter(!str_detect(text, \"^RT\")) %>% # remove retweets\n",
    "    mutate(text = str_replace_all(text, replace_reg, \"\")) %>% # remove stuff we don't want like links\n",
    "    unnest_tokens(word, text, token = \"regex\", pattern = unnest_reg) %>% # tokenize\n",
    "    # filter(!word %in% stop_words$word, str_detect(word, \"[a-z]\")) %>% # WE LEAVE THE STOP WORDS IN THIS TIME\n",
    "    filter(!str_detect(word, \"@realdonaldtrump\")) %>% # remove @realdonald trump, which we know is highly predictive\n",
    "    select(date,word,is_prez,favorite_count,id_str,month) # choose the variables we need"
   ]
  },
  {
   "cell_type": "markdown",
   "metadata": {},
   "source": [
    "Let's look at the most popular words:"
   ]
  },
  {
   "cell_type": "code",
   "execution_count": 30,
   "metadata": {},
   "outputs": [
    {
     "data": {
      "text/html": [
       "<table>\n",
       "<caption>A tibble: 9 × 2</caption>\n",
       "<thead>\n",
       "\t<tr><th scope=col>word</th><th scope=col>n</th></tr>\n",
       "\t<tr><th scope=col>&lt;chr&gt;</th><th scope=col>&lt;int&gt;</th></tr>\n",
       "</thead>\n",
       "<tbody>\n",
       "\t<tr><td>the</td><td>88</td></tr>\n",
       "\t<tr><td>to </td><td>63</td></tr>\n",
       "\t<tr><td>and</td><td>45</td></tr>\n",
       "\t<tr><td>a  </td><td>36</td></tr>\n",
       "\t<tr><td>is </td><td>30</td></tr>\n",
       "\t<tr><td>in </td><td>29</td></tr>\n",
       "\t<tr><td>of </td><td>29</td></tr>\n",
       "\t<tr><td>for</td><td>26</td></tr>\n",
       "\t<tr><td>on </td><td>23</td></tr>\n",
       "</tbody>\n",
       "</table>\n"
      ],
      "text/latex": [
       "A tibble: 9 × 2\n",
       "\\begin{tabular}{r|ll}\n",
       " word & n\\\\\n",
       " <chr> & <int>\\\\\n",
       "\\hline\n",
       "\t the & 88\\\\\n",
       "\t to  & 63\\\\\n",
       "\t and & 45\\\\\n",
       "\t a   & 36\\\\\n",
       "\t is  & 30\\\\\n",
       "\t in  & 29\\\\\n",
       "\t of  & 29\\\\\n",
       "\t for & 26\\\\\n",
       "\t on  & 23\\\\\n",
       "\\end{tabular}\n"
      ],
      "text/markdown": [
       "\n",
       "A tibble: 9 × 2\n",
       "\n",
       "| word &lt;chr&gt; | n &lt;int&gt; |\n",
       "|---|---|\n",
       "| the | 88 |\n",
       "| to  | 63 |\n",
       "| and | 45 |\n",
       "| a   | 36 |\n",
       "| is  | 30 |\n",
       "| in  | 29 |\n",
       "| of  | 29 |\n",
       "| for | 26 |\n",
       "| on  | 23 |\n",
       "\n"
      ],
      "text/plain": [
       "  word n \n",
       "1 the  88\n",
       "2 to   63\n",
       "3 and  45\n",
       "4 a    36\n",
       "5 is   30\n",
       "6 in   29\n",
       "7 of   29\n",
       "8 for  26\n",
       "9 on   23"
      ]
     },
     "metadata": {},
     "output_type": "display_data"
    }
   ],
   "source": [
    "tidy_tweets %>%\n",
    "  group_by(word) %>%\n",
    "  count() %>%\n",
    "  ungroup() %>% \n",
    "  arrange(desc(n)) %>%\n",
    "  filter(rank(desc(n)) <= 10)"
   ]
  },
  {
   "cell_type": "markdown",
   "metadata": {},
   "source": [
    "## Extracting bag-of-words data from text\n",
    "\n",
    "We now put our data into \"bag-of-words\" form, by \n",
    "\n",
    "* finding all unique words used in 2000 tweets,\n",
    "* counting how many times each of these words was used in each tweet.\n",
    "\n",
    "Here we simplify things by looking only at the frequency of the 200 most popular words. We first find out what the 200 most commonly used words are. We're doing this a slightly different way to the previous block of code, where we first sorted (by the count variable `n`, using `arrange`), and then filtered by rank. Here we use the `top_n()` , a convenience function that selects the top or bottom entries in each group, ordered by `wt`.   "
   ]
  },
  {
   "cell_type": "code",
   "execution_count": 31,
   "metadata": {},
   "outputs": [],
   "source": [
    "word_bag <- tidy_tweets %>%\n",
    "  group_by(word) %>%\n",
    "  count() %>%\n",
    "  ungroup() %>%\n",
    "  top_n(200, wt = n) %>%\n",
    "  select(-n)"
   ]
  },
  {
   "cell_type": "markdown",
   "metadata": {},
   "source": [
    "We actually end up with more than 200 words, because the 200 in `top_n()` refers to the rank of the last observation that gets included. All words tied for the last rank (200) get included, and we end up with more than 200 words. That's really not a problem here - because the main goal of the subsetting is just to reduce the full problem to something more manageable in the notebook, we don't really care if we have exactly 200 words to use as features."
   ]
  },
  {
   "cell_type": "code",
   "execution_count": 32,
   "metadata": {},
   "outputs": [
    {
     "data": {
      "text/html": [
       "249"
      ],
      "text/latex": [
       "249"
      ],
      "text/markdown": [
       "249"
      ],
      "text/plain": [
       "[1] 249"
      ]
     },
     "metadata": {},
     "output_type": "display_data"
    }
   ],
   "source": [
    "nrow(word_bag)"
   ]
  },
  {
   "cell_type": "markdown",
   "metadata": {},
   "source": [
    "Now we calculate the number of times each of these words was used in each of the 2000 tweets. Note that because we're using a subset of words, we might find that some tweets don't contain *any* of these words in them. These observations are dropped from the analysis. "
   ]
  },
  {
   "cell_type": "code",
   "execution_count": 33,
   "metadata": {},
   "outputs": [
    {
     "name": "stderr",
     "output_type": "stream",
     "text": [
      "Joining, by = \"word\"\n"
     ]
    }
   ],
   "source": [
    "tweets_tdf <- tidy_tweets %>%\n",
    "  inner_join(word_bag) %>%\n",
    "  group_by(id_str,word) %>%\n",
    "  count() %>%  \n",
    "  group_by(id_str) %>%\n",
    "  mutate(total = sum(n)) %>%\n",
    "  ungroup()"
   ]
  },
  {
   "cell_type": "markdown",
   "metadata": {},
   "source": [
    "We now reshape the dataset to get it into traditional format for predictive modelling, using `spread()`. This means that each tweet will be in its own row, and each word in its own column. Note that we're moving here from a tidy to untidy format, because that is the format required by **rpart** the classification tree package we're going to use to do further modelling."
   ]
  },
  {
   "cell_type": "code",
   "execution_count": 34,
   "metadata": {},
   "outputs": [
    {
     "name": "stderr",
     "output_type": "stream",
     "text": [
      "Joining, by = \"id_str\"\n"
     ]
    },
    {
     "data": {
      "text/html": [
       "109"
      ],
      "text/latex": [
       "109"
      ],
      "text/markdown": [
       "109"
      ],
      "text/plain": [
       "[1] 109"
      ]
     },
     "metadata": {},
     "output_type": "display_data"
    },
    {
     "data": {
      "text/html": [
       "251"
      ],
      "text/latex": [
       "251"
      ],
      "text/markdown": [
       "251"
      ],
      "text/plain": [
       "[1] 251"
      ]
     },
     "metadata": {},
     "output_type": "display_data"
    }
   ],
   "source": [
    "bag_of_words <- tweets_tdf %>% \n",
    "  select(id_str,word,n) %>% \n",
    "  spread(key = word, value = n, fill = 0) %>%\n",
    "  left_join(tweets %>% select(id_str,is_prez)) %>%\n",
    "  select(id_str, is_prez, everything())\n",
    "\n",
    "# number of tweets\n",
    "nrow(bag_of_words)\n",
    "# number of variables (words, plus id and response)\n",
    "ncol(bag_of_words)"
   ]
  },
  {
   "cell_type": "markdown",
   "metadata": {},
   "source": [
    "Losing some tweets is actually a bit of a problem. There are two reasons we want the same number of tweets in both \"before\" and \"after\" classes of the response. First, many predictive modelling approaches do better with balanced data. Second, it gives us an easy benchmark (50%) to evaluate our results against. So we should check whether the dropped tweets have come disproportionately from one response class. Or equivalently, if the classes are still baalnced."
   ]
  },
  {
   "cell_type": "code",
   "execution_count": 35,
   "metadata": {},
   "outputs": [
    {
     "data": {
      "text/plain": [
       "\n",
       "FALSE  TRUE \n",
       "   64    45 "
      ]
     },
     "metadata": {},
     "output_type": "display_data"
    }
   ],
   "source": [
    "table(bag_of_words$is_prez)"
   ]
  },
  {
   "cell_type": "markdown",
   "metadata": {},
   "source": [
    "The classes are close to an even split, so we probably don't need to worry too much but, to be precise, we will drop the excess observations from the larger class at random."
   ]
  },
  {
   "cell_type": "code",
   "execution_count": 36,
   "metadata": {},
   "outputs": [
    {
     "data": {
      "text/plain": [
       "\n",
       "FALSE  TRUE \n",
       "   45    45 "
      ]
     },
     "metadata": {},
     "output_type": "display_data"
    }
   ],
   "source": [
    "min_class_size <- min(table(bag_of_words$is_prez))\n",
    "bag_of_words <- bag_of_words %>% group_by(is_prez) %>% sample_n(min_class_size) %>% ungroup()\n",
    "table(bag_of_words$is_prez)"
   ]
  },
  {
   "cell_type": "markdown",
   "metadata": {},
   "source": [
    "## Building a bag-of-words classifier \n",
    "\n",
    "Now we'd like to know whether we can use these word frequencies to predict whether a Trump tweet was made while he was president or not. We have a binary response, and continuous (integer) predictors, so we can use a variety of approaches to model this problem. Here we'll use a binary classification tree constructed using the CART algorithm, implemented in the **rpart** package. \n",
    "\n",
    "Before building the tree, we split our data into training and test sets. I've included 70% of the data in the training set and left the rest for testing."
   ]
  },
  {
   "cell_type": "code",
   "execution_count": 37,
   "metadata": {},
   "outputs": [],
   "source": [
    "set.seed(321)\n",
    "training_ids <- bag_of_words %>% \n",
    "  group_by(is_prez) %>% \n",
    "  sample_frac(0.7) %>% \n",
    "  ungroup() %>%\n",
    "  select(id_str)\n",
    "\n",
    "training_tweets <- bag_of_words %>% \n",
    "  right_join(training_ids, by = \"id_str\") %>%\n",
    "  select(-id_str)\n",
    "\n",
    "test_tweets <- bag_of_words %>% \n",
    "  anti_join(training_ids, by = \"id_str\") %>%\n",
    "  select(-id_str)"
   ]
  },
  {
   "cell_type": "markdown",
   "metadata": {},
   "source": [
    "We then fit a tree to the training data."
   ]
  },
  {
   "cell_type": "code",
   "execution_count": 38,
   "metadata": {},
   "outputs": [],
   "source": [
    "fit <- rpart(factor(is_prez) ~ ., training_tweets)"
   ]
  },
  {
   "cell_type": "markdown",
   "metadata": {},
   "source": [
    "And plot the full tree."
   ]
  },
  {
   "cell_type": "code",
   "execution_count": 39,
   "metadata": {},
   "outputs": [
    {
     "data": {
      "image/png": "[encoded data removed]",
      "text/plain": [
       "Plot with title “Full Classification Tree”"
      ]
     },
     "metadata": {},
     "output_type": "display_data"
    }
   ],
   "source": [
    "options(repr.plot.width=8, repr.plot.height=10)\n",
    "plot(fit, main=\"Full Classification Tree\")\n",
    "text(fit, use.n=TRUE, all=TRUE, cex=.8)"
   ]
  },
  {
   "cell_type": "markdown",
   "metadata": {},
   "source": [
    "We can assess the accuracy in training dataset by extracting a cross-table of predicted against observed classifications, and calculating the percentage of classification the model got correct. Because we have balanced class sizes (the same number of tweets before and after presidency)"
   ]
  },
  {
   "cell_type": "code",
   "execution_count": 40,
   "metadata": {},
   "outputs": [
    {
     "data": {
      "text/plain": [
       "       fittedtrain\n",
       "        FALSE TRUE\n",
       "  FALSE    17   14\n",
       "  TRUE      3   28"
      ]
     },
     "metadata": {},
     "output_type": "display_data"
    },
    {
     "data": {
      "text/html": [
       "0.725806451612903"
      ],
      "text/latex": [
       "0.725806451612903"
      ],
      "text/markdown": [
       "0.725806451612903"
      ],
      "text/plain": [
       "[1] 0.7258065"
      ]
     },
     "metadata": {},
     "output_type": "display_data"
    }
   ],
   "source": [
    "fittedtrain <- predict(fit,type=\"class\")\n",
    "predtrain <- table(training_tweets$is_prez,fittedtrain)\n",
    "predtrain\n",
    "sum(diag(predtrain))/sum(predtrain) # training accuracy"
   ]
  },
  {
   "cell_type": "markdown",
   "metadata": {},
   "source": [
    "We can do the same in the test dataset - this is the accuracy we would be most interested in."
   ]
  },
  {
   "cell_type": "code",
   "execution_count": 41,
   "metadata": {},
   "outputs": [
    {
     "data": {
      "text/plain": [
       "       fittedtest\n",
       "        FALSE TRUE\n",
       "  FALSE     3   11\n",
       "  TRUE      4   10"
      ]
     },
     "metadata": {},
     "output_type": "display_data"
    },
    {
     "data": {
      "text/html": [
       "0.464285714285714"
      ],
      "text/latex": [
       "0.464285714285714"
      ],
      "text/markdown": [
       "0.464285714285714"
      ],
      "text/plain": [
       "[1] 0.4642857"
      ]
     },
     "metadata": {},
     "output_type": "display_data"
    }
   ],
   "source": [
    "fittedtest <- predict(fit,newdata=test_tweets,type=\"class\")\n",
    "predtest <- table(test_tweets$is_prez,fittedtest)\n",
    "predtest\n",
    "sum(diag(predtest))/sum(predtest) # test accuracy"
   ]
  },
  {
   "cell_type": "markdown",
   "metadata": {},
   "source": [
    "## Term frequency-inverse-document-frequency (tf-idf)\n",
    "\n",
    "In the previous section we used the words contained in tweets, and specifically the frequencies of those words, to discriminate between a tweet made by Donald Trump was made while he was president or not. This is standard practice in text mining: we describe a document by the words that are contained in the document. \n",
    "\n",
    "How do we decide what words are \"important\" to a document - by which we mean distinguish that document from another? One approach is to use word frequency. If a word like \"apple\" appears frequently in a document, it is more likely to be about a recipe or health than about politics, for example. However some words that appear frequently are *not* particularly useful: words like \"the\", \"a\", and so on. These are words that may appear frequently in a particular document, but are not interesting to us *because they also appear frequently in many other documents*.\n",
    "\n",
    "We've previously encountered these as **stop words**, and we've typically removed them from the analysis to reveal more interesting underlying patterns. Another approach is, rather than removing the stop words, is to **downweight** them. This is what tf-idf (term frequency-inverse document frequency) does. Here \"term\" is just used as a general indicator of the unit of text we are interested in, like \"token\". Tf-idf is composed of two parts: \n",
    "\n",
    "* The **tf** part: A term's frequency increases with how many times it is used *in that document*. For tf-idf we use *relative* frequencies: the number of times a word appears, divided by the total number of words in that document.\n",
    "* The **idf**: A term’s inverse document frequency is a measure of how many documents (in the corpus) contain that term. It decreases the weight for commonly used words (which all or most documents will use) relative to words that are not used by many documents in a corpus.\n",
    "\n",
    "Specifically, we are going to replace the term frequencies we were using before with new values called \"inverse document frequency weighted term frequencies\" or tf-idf for short. So each term in each document will get its own tf-idf \"score\", which we denote $tfidf(\\text{term t in document i})$.\n",
    "\n",
    "Then:\n",
    "\n",
    "$$tfidf(\\text{term t in document i}) = tf(\\text{term t in document i}) \\times idf(\\text{term t})$$\n",
    "\n",
    "where\n",
    "\n",
    "$$tf(\\text{term t in document i}) = \\displaystyle\\frac{\\text{Number of times term t appears in document i}}{\\text{Number of terms in document i}}$$  \n",
    "\n",
    "and \n",
    "\n",
    "$$idf(\\text{term t}) = \\ln\\biggl(\\displaystyle\\frac{\\text{Number of documents in corpus}}{\\text{Number of documents containing term t}}\\biggr)$$ \n",
    "\n",
    "The log function increases in its argument, and the number of documents in the corpus is fixed, so as the number of documents containing a term increases (the denominator above), the idf part decreases. The log transform ensures that this decrease is steep initally, and then levels off. Below I show how the idf weight changes with the number of documents (out of a total of 100 documents) that have a term."
   ]
  },
  {
   "cell_type": "code",
   "execution_count": 42,
   "metadata": {},
   "outputs": [
    {
     "data": {
      "image/png": "[encoded data removed]",
      "text/plain": [
       "plot without title"
      ]
     },
     "metadata": {},
     "output_type": "display_data"
    }
   ],
   "source": [
    "options(repr.plot.width=6, repr.plot.height=3) # set plot size in the notebook\n",
    "plot(1:100, log(100/1:100), type = \"l\", \n",
    "     xlab = \"Number of documents (out of 100) containing term t\", ylab = \"idf(t)\")"
   ]
  },
  {
   "cell_type": "markdown",
   "metadata": {},
   "source": [
    "As a bonus, we no longer have to carry around stop word dictionaries around with us - using idf allows us to include all words and let idf downweight the ones that are most common.\n",
    "\n",
    "Below we carry out the calculations above to work out tf-idf values for the words (terms) in our tweets (documents)."
   ]
  },
  {
   "cell_type": "code",
   "execution_count": 43,
   "metadata": {},
   "outputs": [],
   "source": [
    "ndocs <- length(unique(tweets_tdf$id_str))\n",
    "\n",
    "idf <- tweets_tdf %>% \n",
    "  group_by(word) %>% \n",
    "  summarize(docs_with_word = n()) %>% \n",
    "  ungroup() %>%\n",
    "  mutate(idf = log(ndocs / docs_with_word)) %>% arrange(desc(idf))\n",
    "\n",
    "tweets_tdf <- tweets_tdf %>% \n",
    "    left_join(idf, by = \"word\") %>% \n",
    "    mutate(tf = n/total, tf_idf = tf * idf)"
   ]
  },
  {
   "cell_type": "markdown",
   "metadata": {},
   "source": [
    "Let's explore how the weighting affects the terms that come up as \"most important\", by looking at one particular tweet."
   ]
  },
  {
   "cell_type": "code",
   "execution_count": 44,
   "metadata": {},
   "outputs": [
    {
     "name": "stderr",
     "output_type": "stream",
     "text": [
      "Adding missing grouping variables: `is_prez`\n"
     ]
    },
    {
     "data": {
      "text/html": [
       "<table>\n",
       "<caption>A grouped_df: 1 × 2</caption>\n",
       "<thead>\n",
       "\t<tr><th scope=col>is_prez</th><th scope=col>text</th></tr>\n",
       "\t<tr><th scope=col>&lt;lgl&gt;</th><th scope=col>&lt;chr&gt;</th></tr>\n",
       "</thead>\n",
       "<tbody>\n",
       "\t<tr><td>FALSE</td><td>\"We all have the capability to read, or sense, what's happening with others. It can often give you the edge (cont) http://t.co/IyxNQdSD6u</td></tr>\n",
       "</tbody>\n",
       "</table>\n"
      ],
      "text/latex": [
       "A grouped_df: 1 × 2\n",
       "\\begin{tabular}{r|ll}\n",
       " is\\_prez & text\\\\\n",
       " <lgl> & <chr>\\\\\n",
       "\\hline\n",
       "\t FALSE & \"We all have the capability to read, or sense, what's happening with others. It can often give you the edge (cont) http://t.co/IyxNQdSD6u\\\\\n",
       "\\end{tabular}\n"
      ],
      "text/markdown": [
       "\n",
       "A grouped_df: 1 × 2\n",
       "\n",
       "| is_prez &lt;lgl&gt; | text &lt;chr&gt; |\n",
       "|---|---|\n",
       "| FALSE | \"We all have the capability to read, or sense, what's happening with others. It can often give you the edge (cont) http://t.co/IyxNQdSD6u |\n",
       "\n"
      ],
      "text/plain": [
       "  is_prez\n",
       "1 FALSE  \n",
       "  text                                                                                                                                     \n",
       "1 \"We all have the capability to read, or sense, what's happening with others. It can often give you the edge (cont) http://t.co/IyxNQdSD6u"
      ]
     },
     "metadata": {},
     "output_type": "display_data"
    }
   ],
   "source": [
    "set.seed(987)\n",
    "random_tweet <- sample(tweets_tdf$id_str,1)\n",
    "tweets %>% filter(id_str == random_tweet) %>% select(text)"
   ]
  },
  {
   "cell_type": "markdown",
   "metadata": {},
   "source": [
    "Below we rank words in descending order of importance by the criterion of word frequency (`n`). By changing this to inverse document frequency (`idf`) and tf-idf (`tf_idf`) you can see which words become more or less important, and get a sense for why."
   ]
  },
  {
   "cell_type": "code",
   "execution_count": 45,
   "metadata": {},
   "outputs": [
    {
     "data": {
      "text/html": [
       "<table>\n",
       "<caption>A tibble: 14 × 8</caption>\n",
       "<thead>\n",
       "\t<tr><th scope=col>id_str</th><th scope=col>word</th><th scope=col>n</th><th scope=col>total</th><th scope=col>docs_with_word</th><th scope=col>idf</th><th scope=col>tf</th><th scope=col>tf_idf</th></tr>\n",
       "\t<tr><th scope=col>&lt;chr&gt;</th><th scope=col>&lt;chr&gt;</th><th scope=col>&lt;int&gt;</th><th scope=col>&lt;int&gt;</th><th scope=col>&lt;int&gt;</th><th scope=col>&lt;dbl&gt;</th><th scope=col>&lt;dbl&gt;</th><th scope=col>&lt;dbl&gt;</th></tr>\n",
       "</thead>\n",
       "<tbody>\n",
       "\t<tr><td>357866417607016448</td><td>the   </td><td>2</td><td>15</td><td>56</td><td>0.6659962</td><td>0.13333333</td><td>0.08879949</td></tr>\n",
       "\t<tr><td>357866417607016448</td><td>all   </td><td>1</td><td>15</td><td> 9</td><td>2.4941233</td><td>0.06666667</td><td>0.16627489</td></tr>\n",
       "\t<tr><td>357866417607016448</td><td>can   </td><td>1</td><td>15</td><td> 3</td><td>3.5927356</td><td>0.06666667</td><td>0.23951571</td></tr>\n",
       "\t<tr><td>357866417607016448</td><td>cont  </td><td>1</td><td>15</td><td>18</td><td>1.8009761</td><td>0.06666667</td><td>0.12006507</td></tr>\n",
       "\t<tr><td>357866417607016448</td><td>give  </td><td>1</td><td>15</td><td> 2</td><td>3.9982007</td><td>0.06666667</td><td>0.26654671</td></tr>\n",
       "\t<tr><td>357866417607016448</td><td>have  </td><td>1</td><td>15</td><td>11</td><td>2.2934526</td><td>0.06666667</td><td>0.15289684</td></tr>\n",
       "\t<tr><td>357866417607016448</td><td>it    </td><td>1</td><td>15</td><td>11</td><td>2.2934526</td><td>0.06666667</td><td>0.15289684</td></tr>\n",
       "\t<tr><td>357866417607016448</td><td>or    </td><td>1</td><td>15</td><td> 2</td><td>3.9982007</td><td>0.06666667</td><td>0.26654671</td></tr>\n",
       "\t<tr><td>357866417607016448</td><td>read  </td><td>1</td><td>15</td><td> 2</td><td>3.9982007</td><td>0.06666667</td><td>0.26654671</td></tr>\n",
       "\t<tr><td>357866417607016448</td><td>to    </td><td>1</td><td>15</td><td>50</td><td>0.7793249</td><td>0.06666667</td><td>0.05195499</td></tr>\n",
       "\t<tr><td>357866417607016448</td><td>we    </td><td>1</td><td>15</td><td>15</td><td>1.9832977</td><td>0.06666667</td><td>0.13221985</td></tr>\n",
       "\t<tr><td>357866417607016448</td><td>what's</td><td>1</td><td>15</td><td> 2</td><td>3.9982007</td><td>0.06666667</td><td>0.26654671</td></tr>\n",
       "\t<tr><td>357866417607016448</td><td>with  </td><td>1</td><td>15</td><td>15</td><td>1.9832977</td><td>0.06666667</td><td>0.13221985</td></tr>\n",
       "\t<tr><td>357866417607016448</td><td>you   </td><td>1</td><td>15</td><td> 6</td><td>2.8995884</td><td>0.06666667</td><td>0.19330589</td></tr>\n",
       "</tbody>\n",
       "</table>\n"
      ],
      "text/latex": [
       "A tibble: 14 × 8\n",
       "\\begin{tabular}{r|llllllll}\n",
       " id\\_str & word & n & total & docs\\_with\\_word & idf & tf & tf\\_idf\\\\\n",
       " <chr> & <chr> & <int> & <int> & <int> & <dbl> & <dbl> & <dbl>\\\\\n",
       "\\hline\n",
       "\t 357866417607016448 & the    & 2 & 15 & 56 & 0.6659962 & 0.13333333 & 0.08879949\\\\\n",
       "\t 357866417607016448 & all    & 1 & 15 &  9 & 2.4941233 & 0.06666667 & 0.16627489\\\\\n",
       "\t 357866417607016448 & can    & 1 & 15 &  3 & 3.5927356 & 0.06666667 & 0.23951571\\\\\n",
       "\t 357866417607016448 & cont   & 1 & 15 & 18 & 1.8009761 & 0.06666667 & 0.12006507\\\\\n",
       "\t 357866417607016448 & give   & 1 & 15 &  2 & 3.9982007 & 0.06666667 & 0.26654671\\\\\n",
       "\t 357866417607016448 & have   & 1 & 15 & 11 & 2.2934526 & 0.06666667 & 0.15289684\\\\\n",
       "\t 357866417607016448 & it     & 1 & 15 & 11 & 2.2934526 & 0.06666667 & 0.15289684\\\\\n",
       "\t 357866417607016448 & or     & 1 & 15 &  2 & 3.9982007 & 0.06666667 & 0.26654671\\\\\n",
       "\t 357866417607016448 & read   & 1 & 15 &  2 & 3.9982007 & 0.06666667 & 0.26654671\\\\\n",
       "\t 357866417607016448 & to     & 1 & 15 & 50 & 0.7793249 & 0.06666667 & 0.05195499\\\\\n",
       "\t 357866417607016448 & we     & 1 & 15 & 15 & 1.9832977 & 0.06666667 & 0.13221985\\\\\n",
       "\t 357866417607016448 & what's & 1 & 15 &  2 & 3.9982007 & 0.06666667 & 0.26654671\\\\\n",
       "\t 357866417607016448 & with   & 1 & 15 & 15 & 1.9832977 & 0.06666667 & 0.13221985\\\\\n",
       "\t 357866417607016448 & you    & 1 & 15 &  6 & 2.8995884 & 0.06666667 & 0.19330589\\\\\n",
       "\\end{tabular}\n"
      ],
      "text/markdown": [
       "\n",
       "A tibble: 14 × 8\n",
       "\n",
       "| id_str &lt;chr&gt; | word &lt;chr&gt; | n &lt;int&gt; | total &lt;int&gt; | docs_with_word &lt;int&gt; | idf &lt;dbl&gt; | tf &lt;dbl&gt; | tf_idf &lt;dbl&gt; |\n",
       "|---|---|---|---|---|---|---|---|\n",
       "| 357866417607016448 | the    | 2 | 15 | 56 | 0.6659962 | 0.13333333 | 0.08879949 |\n",
       "| 357866417607016448 | all    | 1 | 15 |  9 | 2.4941233 | 0.06666667 | 0.16627489 |\n",
       "| 357866417607016448 | can    | 1 | 15 |  3 | 3.5927356 | 0.06666667 | 0.23951571 |\n",
       "| 357866417607016448 | cont   | 1 | 15 | 18 | 1.8009761 | 0.06666667 | 0.12006507 |\n",
       "| 357866417607016448 | give   | 1 | 15 |  2 | 3.9982007 | 0.06666667 | 0.26654671 |\n",
       "| 357866417607016448 | have   | 1 | 15 | 11 | 2.2934526 | 0.06666667 | 0.15289684 |\n",
       "| 357866417607016448 | it     | 1 | 15 | 11 | 2.2934526 | 0.06666667 | 0.15289684 |\n",
       "| 357866417607016448 | or     | 1 | 15 |  2 | 3.9982007 | 0.06666667 | 0.26654671 |\n",
       "| 357866417607016448 | read   | 1 | 15 |  2 | 3.9982007 | 0.06666667 | 0.26654671 |\n",
       "| 357866417607016448 | to     | 1 | 15 | 50 | 0.7793249 | 0.06666667 | 0.05195499 |\n",
       "| 357866417607016448 | we     | 1 | 15 | 15 | 1.9832977 | 0.06666667 | 0.13221985 |\n",
       "| 357866417607016448 | what's | 1 | 15 |  2 | 3.9982007 | 0.06666667 | 0.26654671 |\n",
       "| 357866417607016448 | with   | 1 | 15 | 15 | 1.9832977 | 0.06666667 | 0.13221985 |\n",
       "| 357866417607016448 | you    | 1 | 15 |  6 | 2.8995884 | 0.06666667 | 0.19330589 |\n",
       "\n"
      ],
      "text/plain": [
       "   id_str             word   n total docs_with_word idf       tf        \n",
       "1  357866417607016448 the    2 15    56             0.6659962 0.13333333\n",
       "2  357866417607016448 all    1 15     9             2.4941233 0.06666667\n",
       "3  357866417607016448 can    1 15     3             3.5927356 0.06666667\n",
       "4  357866417607016448 cont   1 15    18             1.8009761 0.06666667\n",
       "5  357866417607016448 give   1 15     2             3.9982007 0.06666667\n",
       "6  357866417607016448 have   1 15    11             2.2934526 0.06666667\n",
       "7  357866417607016448 it     1 15    11             2.2934526 0.06666667\n",
       "8  357866417607016448 or     1 15     2             3.9982007 0.06666667\n",
       "9  357866417607016448 read   1 15     2             3.9982007 0.06666667\n",
       "10 357866417607016448 to     1 15    50             0.7793249 0.06666667\n",
       "11 357866417607016448 we     1 15    15             1.9832977 0.06666667\n",
       "12 357866417607016448 what's 1 15     2             3.9982007 0.06666667\n",
       "13 357866417607016448 with   1 15    15             1.9832977 0.06666667\n",
       "14 357866417607016448 you    1 15     6             2.8995884 0.06666667\n",
       "   tf_idf    \n",
       "1  0.08879949\n",
       "2  0.16627489\n",
       "3  0.23951571\n",
       "4  0.12006507\n",
       "5  0.26654671\n",
       "6  0.15289684\n",
       "7  0.15289684\n",
       "8  0.26654671\n",
       "9  0.26654671\n",
       "10 0.05195499\n",
       "11 0.13221985\n",
       "12 0.26654671\n",
       "13 0.13221985\n",
       "14 0.19330589"
      ]
     },
     "metadata": {},
     "output_type": "display_data"
    }
   ],
   "source": [
    "tweets_tdf %>% filter(id_str == random_tweet) %>% arrange(desc(n))"
   ]
  },
  {
   "cell_type": "markdown",
   "metadata": {},
   "source": [
    "We've done the tf-idf calculation \"from scratch\" to better understanding of what is happening. The **tidytext** package has a function `bind_tf_idf()` that does the same thing."
   ]
  },
  {
   "cell_type": "code",
   "execution_count": 46,
   "metadata": {},
   "outputs": [
    {
     "data": {
      "text/html": [
       "<table>\n",
       "<caption>A tibble: 14 × 8</caption>\n",
       "<thead>\n",
       "\t<tr><th scope=col>id_str</th><th scope=col>word</th><th scope=col>n</th><th scope=col>total</th><th scope=col>docs_with_word</th><th scope=col>tf</th><th scope=col>idf</th><th scope=col>tf_idf</th></tr>\n",
       "\t<tr><th scope=col>&lt;chr&gt;</th><th scope=col>&lt;chr&gt;</th><th scope=col>&lt;int&gt;</th><th scope=col>&lt;int&gt;</th><th scope=col>&lt;int&gt;</th><th scope=col>&lt;dbl&gt;</th><th scope=col>&lt;dbl&gt;</th><th scope=col>&lt;dbl&gt;</th></tr>\n",
       "</thead>\n",
       "<tbody>\n",
       "\t<tr><td>357866417607016448</td><td>the   </td><td>2</td><td>15</td><td>56</td><td>0.13333333</td><td>0.6659962</td><td>0.08879949</td></tr>\n",
       "\t<tr><td>357866417607016448</td><td>all   </td><td>1</td><td>15</td><td> 9</td><td>0.06666667</td><td>2.4941233</td><td>0.16627489</td></tr>\n",
       "\t<tr><td>357866417607016448</td><td>can   </td><td>1</td><td>15</td><td> 3</td><td>0.06666667</td><td>3.5927356</td><td>0.23951571</td></tr>\n",
       "\t<tr><td>357866417607016448</td><td>cont  </td><td>1</td><td>15</td><td>18</td><td>0.06666667</td><td>1.8009761</td><td>0.12006507</td></tr>\n",
       "\t<tr><td>357866417607016448</td><td>give  </td><td>1</td><td>15</td><td> 2</td><td>0.06666667</td><td>3.9982007</td><td>0.26654671</td></tr>\n",
       "\t<tr><td>357866417607016448</td><td>have  </td><td>1</td><td>15</td><td>11</td><td>0.06666667</td><td>2.2934526</td><td>0.15289684</td></tr>\n",
       "\t<tr><td>357866417607016448</td><td>it    </td><td>1</td><td>15</td><td>11</td><td>0.06666667</td><td>2.2934526</td><td>0.15289684</td></tr>\n",
       "\t<tr><td>357866417607016448</td><td>or    </td><td>1</td><td>15</td><td> 2</td><td>0.06666667</td><td>3.9982007</td><td>0.26654671</td></tr>\n",
       "\t<tr><td>357866417607016448</td><td>read  </td><td>1</td><td>15</td><td> 2</td><td>0.06666667</td><td>3.9982007</td><td>0.26654671</td></tr>\n",
       "\t<tr><td>357866417607016448</td><td>to    </td><td>1</td><td>15</td><td>50</td><td>0.06666667</td><td>0.7793249</td><td>0.05195499</td></tr>\n",
       "\t<tr><td>357866417607016448</td><td>we    </td><td>1</td><td>15</td><td>15</td><td>0.06666667</td><td>1.9832977</td><td>0.13221985</td></tr>\n",
       "\t<tr><td>357866417607016448</td><td>what's</td><td>1</td><td>15</td><td> 2</td><td>0.06666667</td><td>3.9982007</td><td>0.26654671</td></tr>\n",
       "\t<tr><td>357866417607016448</td><td>with  </td><td>1</td><td>15</td><td>15</td><td>0.06666667</td><td>1.9832977</td><td>0.13221985</td></tr>\n",
       "\t<tr><td>357866417607016448</td><td>you   </td><td>1</td><td>15</td><td> 6</td><td>0.06666667</td><td>2.8995884</td><td>0.19330589</td></tr>\n",
       "</tbody>\n",
       "</table>\n"
      ],
      "text/latex": [
       "A tibble: 14 × 8\n",
       "\\begin{tabular}{r|llllllll}\n",
       " id\\_str & word & n & total & docs\\_with\\_word & tf & idf & tf\\_idf\\\\\n",
       " <chr> & <chr> & <int> & <int> & <int> & <dbl> & <dbl> & <dbl>\\\\\n",
       "\\hline\n",
       "\t 357866417607016448 & the    & 2 & 15 & 56 & 0.13333333 & 0.6659962 & 0.08879949\\\\\n",
       "\t 357866417607016448 & all    & 1 & 15 &  9 & 0.06666667 & 2.4941233 & 0.16627489\\\\\n",
       "\t 357866417607016448 & can    & 1 & 15 &  3 & 0.06666667 & 3.5927356 & 0.23951571\\\\\n",
       "\t 357866417607016448 & cont   & 1 & 15 & 18 & 0.06666667 & 1.8009761 & 0.12006507\\\\\n",
       "\t 357866417607016448 & give   & 1 & 15 &  2 & 0.06666667 & 3.9982007 & 0.26654671\\\\\n",
       "\t 357866417607016448 & have   & 1 & 15 & 11 & 0.06666667 & 2.2934526 & 0.15289684\\\\\n",
       "\t 357866417607016448 & it     & 1 & 15 & 11 & 0.06666667 & 2.2934526 & 0.15289684\\\\\n",
       "\t 357866417607016448 & or     & 1 & 15 &  2 & 0.06666667 & 3.9982007 & 0.26654671\\\\\n",
       "\t 357866417607016448 & read   & 1 & 15 &  2 & 0.06666667 & 3.9982007 & 0.26654671\\\\\n",
       "\t 357866417607016448 & to     & 1 & 15 & 50 & 0.06666667 & 0.7793249 & 0.05195499\\\\\n",
       "\t 357866417607016448 & we     & 1 & 15 & 15 & 0.06666667 & 1.9832977 & 0.13221985\\\\\n",
       "\t 357866417607016448 & what's & 1 & 15 &  2 & 0.06666667 & 3.9982007 & 0.26654671\\\\\n",
       "\t 357866417607016448 & with   & 1 & 15 & 15 & 0.06666667 & 1.9832977 & 0.13221985\\\\\n",
       "\t 357866417607016448 & you    & 1 & 15 &  6 & 0.06666667 & 2.8995884 & 0.19330589\\\\\n",
       "\\end{tabular}\n"
      ],
      "text/markdown": [
       "\n",
       "A tibble: 14 × 8\n",
       "\n",
       "| id_str &lt;chr&gt; | word &lt;chr&gt; | n &lt;int&gt; | total &lt;int&gt; | docs_with_word &lt;int&gt; | tf &lt;dbl&gt; | idf &lt;dbl&gt; | tf_idf &lt;dbl&gt; |\n",
       "|---|---|---|---|---|---|---|---|\n",
       "| 357866417607016448 | the    | 2 | 15 | 56 | 0.13333333 | 0.6659962 | 0.08879949 |\n",
       "| 357866417607016448 | all    | 1 | 15 |  9 | 0.06666667 | 2.4941233 | 0.16627489 |\n",
       "| 357866417607016448 | can    | 1 | 15 |  3 | 0.06666667 | 3.5927356 | 0.23951571 |\n",
       "| 357866417607016448 | cont   | 1 | 15 | 18 | 0.06666667 | 1.8009761 | 0.12006507 |\n",
       "| 357866417607016448 | give   | 1 | 15 |  2 | 0.06666667 | 3.9982007 | 0.26654671 |\n",
       "| 357866417607016448 | have   | 1 | 15 | 11 | 0.06666667 | 2.2934526 | 0.15289684 |\n",
       "| 357866417607016448 | it     | 1 | 15 | 11 | 0.06666667 | 2.2934526 | 0.15289684 |\n",
       "| 357866417607016448 | or     | 1 | 15 |  2 | 0.06666667 | 3.9982007 | 0.26654671 |\n",
       "| 357866417607016448 | read   | 1 | 15 |  2 | 0.06666667 | 3.9982007 | 0.26654671 |\n",
       "| 357866417607016448 | to     | 1 | 15 | 50 | 0.06666667 | 0.7793249 | 0.05195499 |\n",
       "| 357866417607016448 | we     | 1 | 15 | 15 | 0.06666667 | 1.9832977 | 0.13221985 |\n",
       "| 357866417607016448 | what's | 1 | 15 |  2 | 0.06666667 | 3.9982007 | 0.26654671 |\n",
       "| 357866417607016448 | with   | 1 | 15 | 15 | 0.06666667 | 1.9832977 | 0.13221985 |\n",
       "| 357866417607016448 | you    | 1 | 15 |  6 | 0.06666667 | 2.8995884 | 0.19330589 |\n",
       "\n"
      ],
      "text/plain": [
       "   id_str             word   n total docs_with_word tf         idf      \n",
       "1  357866417607016448 the    2 15    56             0.13333333 0.6659962\n",
       "2  357866417607016448 all    1 15     9             0.06666667 2.4941233\n",
       "3  357866417607016448 can    1 15     3             0.06666667 3.5927356\n",
       "4  357866417607016448 cont   1 15    18             0.06666667 1.8009761\n",
       "5  357866417607016448 give   1 15     2             0.06666667 3.9982007\n",
       "6  357866417607016448 have   1 15    11             0.06666667 2.2934526\n",
       "7  357866417607016448 it     1 15    11             0.06666667 2.2934526\n",
       "8  357866417607016448 or     1 15     2             0.06666667 3.9982007\n",
       "9  357866417607016448 read   1 15     2             0.06666667 3.9982007\n",
       "10 357866417607016448 to     1 15    50             0.06666667 0.7793249\n",
       "11 357866417607016448 we     1 15    15             0.06666667 1.9832977\n",
       "12 357866417607016448 what's 1 15     2             0.06666667 3.9982007\n",
       "13 357866417607016448 with   1 15    15             0.06666667 1.9832977\n",
       "14 357866417607016448 you    1 15     6             0.06666667 2.8995884\n",
       "   tf_idf    \n",
       "1  0.08879949\n",
       "2  0.16627489\n",
       "3  0.23951571\n",
       "4  0.12006507\n",
       "5  0.26654671\n",
       "6  0.15289684\n",
       "7  0.15289684\n",
       "8  0.26654671\n",
       "9  0.26654671\n",
       "10 0.05195499\n",
       "11 0.13221985\n",
       "12 0.26654671\n",
       "13 0.13221985\n",
       "14 0.19330589"
      ]
     },
     "metadata": {},
     "output_type": "display_data"
    }
   ],
   "source": [
    "tweets_tdf <- tweets_tdf %>% \n",
    "    select(-idf, -tf, -tf_idf) %>% # remove the old ones we worked out\n",
    "  bind_tf_idf(word, id_str, n) # replace with values from tidytext\n",
    "\n",
    "tweets_tdf %>% filter(id_str == random_tweet) %>% arrange(desc(n)) # check same as above"
   ]
  },
  {
   "cell_type": "markdown",
   "metadata": {},
   "source": [
    "# Redoing the classification tree, this time with tf-idf features \n",
    "\n",
    "Tf-idf features often give better accuracy in predictive modelling than using word frequencies. In this section we repeat the earlier analysis, building a classification tree to predict whether a tweet was made before or after becoming president, but replacing the word frequency features with the tf-idf values calculated above. \n",
    "\n",
    "We start by reshaping the dataset:"
   ]
  },
  {
   "cell_type": "code",
   "execution_count": 47,
   "metadata": {},
   "outputs": [
    {
     "name": "stderr",
     "output_type": "stream",
     "text": [
      "Joining, by = \"id_str\"\n"
     ]
    }
   ],
   "source": [
    "bag_of_words <- tweets_tdf %>% \n",
    "  select(id_str, word, tf_idf) %>%  # note the change, using tf-idf\n",
    "  spread(key = word, value = tf_idf, fill = 0) %>%  \n",
    "  left_join(tweets %>% select(id_str,is_prez))"
   ]
  },
  {
   "cell_type": "markdown",
   "metadata": {},
   "source": [
    "We use same training and test sets as before."
   ]
  },
  {
   "cell_type": "code",
   "execution_count": 48,
   "metadata": {},
   "outputs": [],
   "source": [
    "training_tweets <- bag_of_words %>% \n",
    "  right_join(training_ids, by = \"id_str\") %>%\n",
    "  select(-id_str)\n",
    "\n",
    "test_tweets <- bag_of_words %>% \n",
    "  anti_join(training_ids, by = \"id_str\") %>%\n",
    "  select(-id_str)"
   ]
  },
  {
   "cell_type": "markdown",
   "metadata": {},
   "source": [
    "We fit a tree to training data:"
   ]
  },
  {
   "cell_type": "code",
   "execution_count": 49,
   "metadata": {},
   "outputs": [],
   "source": [
    "fit <- rpart(factor(is_prez) ~ ., training_tweets)"
   ]
  },
  {
   "cell_type": "markdown",
   "metadata": {},
   "source": [
    "Plot the tree we just created:"
   ]
  },
  {
   "cell_type": "code",
   "execution_count": 50,
   "metadata": {},
   "outputs": [
    {
     "data": {
      "image/png": "[encoded data removed]",
      "text/plain": [
       "Plot with title “Full Classification Tree”"
      ]
     },
     "metadata": {},
     "output_type": "display_data"
    }
   ],
   "source": [
    "options(repr.plot.width=8, repr.plot.height=10)\n",
    "plot(fit, main=\"Full Classification Tree\")\n",
    "text(fit, use.n=TRUE, all=TRUE, cex=.8)"
   ]
  },
  {
   "cell_type": "markdown",
   "metadata": {},
   "source": [
    "And check the accuracy in training and test datasets:"
   ]
  },
  {
   "cell_type": "code",
   "execution_count": 51,
   "metadata": {},
   "outputs": [
    {
     "data": {
      "text/plain": [
       "       fittedtrain\n",
       "        FALSE TRUE\n",
       "  FALSE    19   12\n",
       "  TRUE      4   27"
      ]
     },
     "metadata": {},
     "output_type": "display_data"
    },
    {
     "data": {
      "text/html": [
       "0.741935483870968"
      ],
      "text/latex": [
       "0.741935483870968"
      ],
      "text/markdown": [
       "0.741935483870968"
      ],
      "text/plain": [
       "[1] 0.7419355"
      ]
     },
     "metadata": {},
     "output_type": "display_data"
    }
   ],
   "source": [
    "fittedtrain <- predict(fit,type=\"class\")\n",
    "predtrain <- table(training_tweets$is_prez,fittedtrain)\n",
    "predtrain\n",
    "sum(diag(predtrain))/sum(predtrain) # training accuracy"
   ]
  },
  {
   "cell_type": "code",
   "execution_count": 52,
   "metadata": {},
   "outputs": [
    {
     "data": {
      "text/plain": [
       "       fittedtest\n",
       "        FALSE TRUE\n",
       "  FALSE    14   19\n",
       "  TRUE      5    9"
      ]
     },
     "metadata": {},
     "output_type": "display_data"
    },
    {
     "data": {
      "text/html": [
       "0.48936170212766"
      ],
      "text/latex": [
       "0.48936170212766"
      ],
      "text/markdown": [
       "0.48936170212766"
      ],
      "text/plain": [
       "[1] 0.4893617"
      ]
     },
     "metadata": {},
     "output_type": "display_data"
    }
   ],
   "source": [
    "fittedtest <- predict(fit,newdata=test_tweets,type=\"class\")\n",
    "predtest <- table(test_tweets$is_prez,fittedtest)\n",
    "predtest\n",
    "sum(diag(predtest))/sum(predtest) # test accuracy"
   ]
  },
  {
   "cell_type": "markdown",
   "metadata": {},
   "source": [
    "We get a very slight improvement in accuracy from replacing word frequency features with ones based on tf-idf."
   ]
  },
  {
   "cell_type": "markdown",
   "metadata": {},
   "source": [
    "## Exercises\n",
    "\n",
    "1. Try and improve on the classification models described above. Try the following (for example):\n",
    "    + use bigrams rather than words as tokens.\n",
    "    + include other explanatory variables included in the `tweets` data frame.\n",
    "    + remove stopwords.\n",
    "    + use more than 200 words in the bag-of-words.\n",
    "    "
   ]
  }
 ],
 "metadata": {
  "kernelspec": {
   "display_name": "R",
   "language": "R",
   "name": "ir"
  },
  "language_info": {
   "codemirror_mode": "r",
   "file_extension": ".r",
   "mimetype": "text/x-r-source",
   "name": "R",
   "pygments_lexer": "r",
   "version": "3.5.1"
  }
 },
 "nbformat": 4,
 "nbformat_minor": 2
}
