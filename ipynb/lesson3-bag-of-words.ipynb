{
 "cells": [
  {
   "cell_type": "markdown",
   "metadata": {},
   "source": [
    "# Lesson 3 // Bag-of-words models\n",
    "\n",
    "In a bag-of-words model, a text document is represented by the set of words used in the document. This is a simplified representation that ignores much of the more subtle structure of text, like the order that words appear in and grammar. Frequency counts of the words used in a document can be used to cluster documents or as features in predictive modelling.\n",
    "\n",
    "For example, say we have a collection of newspaper articles drawn from entertainment and business categories. The set of documents is known as the *corpus*. The set of all unique words used in any of the articles consitutes our bag-of-words, also called the *vocabulary*. We can represent this data as a matrix, in which each article is a row, each word is a column, and the entry in row *i* and column *j* contains the number of times word *j* appears in document *i* (many of these values will be zero, so we have a sparse matrix). A final column contains our response variable, indicating the type of article (entertainment or business). We could use the word frequencies as features to build a model that, on the basis of frequencies of different words, predicts whether an article is about business or entertainment. This is a typical kind of use for a bag-of-words model. Some hypothetical data is shown below.\n",
    "\n",
    "| doc | sing | money | the | day | response |\n",
    "|---|---|---|---|---|---|\n",
    "| 1 | 3 | 0 | 12 | 3 | ent |\n",
    "| 2 | 5 | 1 | 13 | 0 | ent |\n",
    "| 3 | 0 | 5 | 14 | 4 | bus |\n",
    "\n",
    "\n",
    "This notebook covers bag-of-words models. In the notebook we:\n",
    "\n",
    "1. Show how to extract bag-of-words features from a text document.\n",
    "2. Build a classification tree with bag-of-words to predict whether a Trump tweet was made before or after he became president, on the basis of the content of that tweet.\n",
    "3. Show how to test that model using in- and out-of-sample validation.\n",
    "4. Introduce *tf-idf* (term frequency-inverse-document-frequency), a way of weighting word frequencies that adjusts for how common a word is across documents (and hence how \"special\" a word is to a particular document).\n",
    "5. Build another classification tree, based on tf-idf weighted bag-of-words features, and see whether we get more accurate predictions.\n",
    "\n",
    "[Chapter 3](http://tidytextmining.com/tfidf.html) of TMR covers tf-idf and related topics."
   ]
  },
  {
   "cell_type": "markdown",
   "metadata": {},
   "source": [
    "We'll start by loading the packages we need, loading the data containing the tweets, and doing some wrangling. Most of this is the same as before - we\n",
    "* parse the date the tweet was created, \n",
    "* make a new variable indicating whether the tweet was made while president, \n",
    "* do some cleaning of the tweets to remove links, retweets. Note that this time we do **not** remove stop words as we handle these via the downweighting performed by tf-idf. The relevant line of code has been commented out below - you can remove the comment and hence remove stop words (there is nothing \"wrong\" with doing this) and see what happens.\n",
    "* turn the data into tidy text data by tokenization by word (plus some stuff important to tweets, like hashtags). \n",
    "\n",
    "This is mostly the same as what we did in previous notebooks, so refer back to them if anything is not clear.\n",
    "\n",
    "In addition, we take a sample of 1000 tweets before and after he became president. That will be enough to build a model later - you can always use more data if you want."
   ]
  },
  {
   "cell_type": "code",
   "execution_count": 83,
   "metadata": {},
   "outputs": [],
   "source": [
    "library(tidyverse)\n",
    "library(stringr)\n",
    "library(lubridate)\n",
    "library(tidytext)\n",
    "library(rpart) \n",
    "\n",
    "options(repr.plot.width=4, repr.plot.height=3) # set plot size in the notebook\n",
    "\n",
    "load(\"../data/trump-tweets-2018.RData\")\n",
    "\n",
    "# make data a tibble\n",
    "tweets <- as_tibble(tweets)\n",
    "\n",
    "# parse the date and add some date related variables\n",
    "tweets <- tweets %>% \n",
    "  mutate(date = parse_datetime(str_sub(tweets$created_at,5,30), \"%b %d %H:%M:%S %z %Y\")) %>% \n",
    "  mutate(is_prez = (date > ymd(20161108))) %>%\n",
    "  mutate(month = make_date(year(date), month(date)))\n",
    "\n",
    "# take a random sample of 1000 tweets before and after became president\n",
    "set.seed(98) #100\n",
    "tweets <- tweets %>% group_by(is_prez) %>% sample_n(1000) %>% ungroup()\n",
    "\n",
    "# turn into tidy text \n",
    "replace_reg <- \"(https?:.*?([\\\\s]|[a-zA-Z0-9]$))|(www:.*?([\\\\s]|[a-zA-Z0-9]$))|&amp;|&lt;|&gt;|RT\"\n",
    "unnest_reg <- \"[^A-Za-z_\\\\d#@']\"\n",
    "tidy_tweets <- tweets %>% \n",
    "    filter(!str_detect(text, \"^RT\")) %>% # remove retweets\n",
    "    mutate(text = str_replace_all(text, replace_reg, \"\")) %>% # remove stuff we don't want like links\n",
    "    unnest_tokens(word, text, token = \"regex\", pattern = unnest_reg) %>% # tokenize\n",
    "    # filter(!word %in% stop_words$word, str_detect(word, \"[a-z]\")) %>% # WE LEAVE THE STOP WORDS IN THIS TIME\n",
    "    filter(!str_detect(word, \"@realdonaldtrump\")) %>% # remove @realdonald trump, which we know is highly predictive\n",
    "    select(date,word,is_prez,favorite_count,id_str,month) # choose the variables we need"
   ]
  },
  {
   "cell_type": "markdown",
   "metadata": {},
   "source": [
    "Let's look at the most popular words:"
   ]
  },
  {
   "cell_type": "code",
   "execution_count": 84,
   "metadata": {},
   "outputs": [
    {
     "data": {
      "text/html": [
       "<table>\n",
       "<caption>A tibble: 10 × 2</caption>\n",
       "<thead>\n",
       "\t<tr><th scope=col>word</th><th scope=col>n</th></tr>\n",
       "\t<tr><th scope=col>&lt;chr&gt;</th><th scope=col>&lt;int&gt;</th></tr>\n",
       "</thead>\n",
       "<tbody>\n",
       "\t<tr><td>the</td><td>1589</td></tr>\n",
       "\t<tr><td>to </td><td> 959</td></tr>\n",
       "\t<tr><td>and</td><td> 764</td></tr>\n",
       "\t<tr><td>of </td><td> 678</td></tr>\n",
       "\t<tr><td>a  </td><td> 644</td></tr>\n",
       "\t<tr><td>in </td><td> 564</td></tr>\n",
       "\t<tr><td>is </td><td> 534</td></tr>\n",
       "\t<tr><td>i  </td><td> 427</td></tr>\n",
       "\t<tr><td>for</td><td> 420</td></tr>\n",
       "\t<tr><td>on </td><td> 374</td></tr>\n",
       "</tbody>\n",
       "</table>\n"
      ],
      "text/latex": [
       "A tibble: 10 × 2\n",
       "\\begin{tabular}{r|ll}\n",
       " word & n\\\\\n",
       " <chr> & <int>\\\\\n",
       "\\hline\n",
       "\t the & 1589\\\\\n",
       "\t to  &  959\\\\\n",
       "\t and &  764\\\\\n",
       "\t of  &  678\\\\\n",
       "\t a   &  644\\\\\n",
       "\t in  &  564\\\\\n",
       "\t is  &  534\\\\\n",
       "\t i   &  427\\\\\n",
       "\t for &  420\\\\\n",
       "\t on  &  374\\\\\n",
       "\\end{tabular}\n"
      ],
      "text/markdown": [
       "\n",
       "A tibble: 10 × 2\n",
       "\n",
       "| word &lt;chr&gt; | n &lt;int&gt; |\n",
       "|---|---|\n",
       "| the | 1589 |\n",
       "| to  |  959 |\n",
       "| and |  764 |\n",
       "| of  |  678 |\n",
       "| a   |  644 |\n",
       "| in  |  564 |\n",
       "| is  |  534 |\n",
       "| i   |  427 |\n",
       "| for |  420 |\n",
       "| on  |  374 |\n",
       "\n"
      ],
      "text/plain": [
       "   word n   \n",
       "1  the  1589\n",
       "2  to    959\n",
       "3  and   764\n",
       "4  of    678\n",
       "5  a     644\n",
       "6  in    564\n",
       "7  is    534\n",
       "8  i     427\n",
       "9  for   420\n",
       "10 on    374"
      ]
     },
     "metadata": {},
     "output_type": "display_data"
    }
   ],
   "source": [
    "tidy_tweets %>%\n",
    "  group_by(word) %>%\n",
    "  count() %>%\n",
    "  ungroup() %>% \n",
    "  arrange(desc(n)) %>%\n",
    "  filter(rank(desc(n)) <= 10)"
   ]
  },
  {
   "cell_type": "markdown",
   "metadata": {},
   "source": [
    "## Extracting bag-of-words data from text\n",
    "\n",
    "We now put our data into \"bag-of-words\" form, by \n",
    "\n",
    "* finding all unique words used in 2000 tweets,\n",
    "* counting how many times each of these words was used in each tweet.\n",
    "\n",
    "Here we simplify things by looking only at the frequency of the 200 most popular words. We first find out what the 200 most commonly used words are. We're doing this a slightly different way to the previous block of code, where we first sorted (by the count variable `n`, using `arrange`), and then filtered by rank. Here we use the `top_n()` , a convenience function that selects the top or bottom entries in each group, ordered by `wt`.   "
   ]
  },
  {
   "cell_type": "code",
   "execution_count": 85,
   "metadata": {},
   "outputs": [],
   "source": [
    "word_bag <- tidy_tweets %>%\n",
    "  group_by(word) %>%\n",
    "  count() %>%\n",
    "  ungroup() %>%\n",
    "  top_n(200, wt = n) %>%\n",
    "  select(-n)"
   ]
  },
  {
   "cell_type": "markdown",
   "metadata": {},
   "source": [
    "We actually end up with more than 200 words, because the 200 in `top_n()` refers to the rank of the last observation that gets included. All words tied for the last rank (200) get included, and we end up with more than 200 words. That's really not a problem here - because the main goal of the subsetting is just to reduce the full problem to something more manageable in the notebook, we don't really care if we have exactly 200 words to use as features."
   ]
  },
  {
   "cell_type": "code",
   "execution_count": 86,
   "metadata": {},
   "outputs": [
    {
     "data": {
      "text/html": [
       "208"
      ],
      "text/latex": [
       "208"
      ],
      "text/markdown": [
       "208"
      ],
      "text/plain": [
       "[1] 208"
      ]
     },
     "metadata": {},
     "output_type": "display_data"
    }
   ],
   "source": [
    "nrow(word_bag)"
   ]
  },
  {
   "cell_type": "markdown",
   "metadata": {},
   "source": [
    "Now we calculate the number of times each of these words was used in each of the 2000 tweets. Note that because we're using a subset of words, we might find that some tweets don't contain *any* of these words in them. These observations are dropped from the analysis. "
   ]
  },
  {
   "cell_type": "code",
   "execution_count": 87,
   "metadata": {},
   "outputs": [
    {
     "name": "stderr",
     "output_type": "stream",
     "text": [
      "Joining, by = \"word\"\n"
     ]
    }
   ],
   "source": [
    "tweets_tdf <- tidy_tweets %>%\n",
    "  inner_join(word_bag) %>%\n",
    "  group_by(id_str,word) %>%\n",
    "  count() %>%  \n",
    "  group_by(id_str) %>%\n",
    "  mutate(total = sum(n)) %>%\n",
    "  ungroup()"
   ]
  },
  {
   "cell_type": "markdown",
   "metadata": {},
   "source": [
    "We now reshape the dataset to get it into traditional format for predictive modelling, using `spread()`. This means that each tweet will be in its own row, and each word in its own column. Note that we're moving here from a tidy to untidy format, because that is the format required by **rpart** the classification tree package we're going to use to do further modelling."
   ]
  },
  {
   "cell_type": "code",
   "execution_count": 88,
   "metadata": {},
   "outputs": [
    {
     "name": "stderr",
     "output_type": "stream",
     "text": [
      "Joining, by = \"id_str\"\n"
     ]
    },
    {
     "data": {
      "text/html": [
       "1853"
      ],
      "text/latex": [
       "1853"
      ],
      "text/markdown": [
       "1853"
      ],
      "text/plain": [
       "[1] 1853"
      ]
     },
     "metadata": {},
     "output_type": "display_data"
    },
    {
     "data": {
      "text/html": [
       "210"
      ],
      "text/latex": [
       "210"
      ],
      "text/markdown": [
       "210"
      ],
      "text/plain": [
       "[1] 210"
      ]
     },
     "metadata": {},
     "output_type": "display_data"
    }
   ],
   "source": [
    "bag_of_words <- tweets_tdf %>% \n",
    "  select(id_str,word,n) %>% \n",
    "  spread(key = word, value = n, fill = 0) %>%\n",
    "  left_join(tweets %>% select(id_str,is_prez)) %>%\n",
    "  select(id_str, is_prez, everything())\n",
    "\n",
    "# number of tweets\n",
    "nrow(bag_of_words)\n",
    "# number of variables (words, plus id and response)\n",
    "ncol(bag_of_words)"
   ]
  },
  {
   "cell_type": "markdown",
   "metadata": {},
   "source": [
    "Losing some tweets is actually a bit of a problem. There are two reasons we want the same number of tweets in both \"before\" and \"after\" classes of the response. First, many predictive modelling approaches do better with balanced data. Second, it gives us an easy benchmark (50%) to evaluate our results against. So we should check whether the dropped tweets have come disproportionately from one response class. Or equivalently, if the classes are still baalnced."
   ]
  },
  {
   "cell_type": "code",
   "execution_count": 89,
   "metadata": {},
   "outputs": [
    {
     "data": {
      "text/plain": [
       "\n",
       "FALSE  TRUE \n",
       "  973   880 "
      ]
     },
     "metadata": {},
     "output_type": "display_data"
    }
   ],
   "source": [
    "table(bag_of_words$is_prez)"
   ]
  },
  {
   "cell_type": "markdown",
   "metadata": {},
   "source": [
    "The classes are close to an even split, so we probably don't need to worry too much but, to be precise, we will drop the excess observations from the larger class at random."
   ]
  },
  {
   "cell_type": "code",
   "execution_count": 90,
   "metadata": {},
   "outputs": [
    {
     "data": {
      "text/plain": [
       "\n",
       "FALSE  TRUE \n",
       "  880   880 "
      ]
     },
     "metadata": {},
     "output_type": "display_data"
    }
   ],
   "source": [
    "min_class_size <- min(table(bag_of_words$is_prez))\n",
    "bag_of_words <- bag_of_words %>% group_by(is_prez) %>% sample_n(min_class_size) %>% ungroup()\n",
    "table(bag_of_words$is_prez)"
   ]
  },
  {
   "cell_type": "markdown",
   "metadata": {},
   "source": [
    "## Building a bag-of-words classifier \n",
    "\n",
    "Now we'd like to know whether we can use these word frequencies to predict whether a Trump tweet was made while he was president or not. We have a binary response, and continuous (integer) predictors, so we can use a variety of approaches to model this problem. Here we'll use a binary classification tree constructed using the CART algorithm, implemented in the **rpart** package. \n",
    "\n",
    "Before building the tree, we split our data into training and test sets. I've included 70% of the data in the training set and left the rest for testing."
   ]
  },
  {
   "cell_type": "code",
   "execution_count": 91,
   "metadata": {},
   "outputs": [],
   "source": [
    "set.seed(321)\n",
    "training_ids <- bag_of_words %>% \n",
    "  group_by(is_prez) %>% \n",
    "  sample_frac(0.7) %>% \n",
    "  ungroup() %>%\n",
    "  select(id_str)\n",
    "\n",
    "training_tweets <- bag_of_words %>% \n",
    "  right_join(training_ids, by = \"id_str\") %>%\n",
    "  select(-id_str)\n",
    "\n",
    "test_tweets <- bag_of_words %>% \n",
    "  anti_join(training_ids, by = \"id_str\") %>%\n",
    "  select(-id_str)"
   ]
  },
  {
   "cell_type": "markdown",
   "metadata": {},
   "source": [
    "We then fit a tree to the training data."
   ]
  },
  {
   "cell_type": "code",
   "execution_count": 92,
   "metadata": {},
   "outputs": [],
   "source": [
    "fit <- rpart(factor(is_prez) ~ ., training_tweets)"
   ]
  },
  {
   "cell_type": "markdown",
   "metadata": {},
   "source": [
    "And plot the full tree."
   ]
  },
  {
   "cell_type": "code",
   "execution_count": 93,
   "metadata": {},
   "outputs": [
    {
     "data": {
      "image/png": "[encoded data removed]",
      "text/plain": [
       "Plot with title “Full Classification Tree”"
      ]
     },
     "metadata": {},
     "output_type": "display_data"
    }
   ],
   "source": [
    "options(repr.plot.width=8, repr.plot.height=10)\n",
    "plot(fit, main=\"Full Classification Tree\")\n",
    "text(fit, use.n=TRUE, all=TRUE, cex=.8)"
   ]
  },
  {
   "cell_type": "markdown",
   "metadata": {},
   "source": [
    "We can assess the accuracy in training dataset by extracting a cross-table of predicted against observed classifications, and calculating the percentage of classification the model got correct. Because we have balanced class sizes (the same number of tweets before and after presidency)"
   ]
  },
  {
   "cell_type": "code",
   "execution_count": 94,
   "metadata": {},
   "outputs": [
    {
     "data": {
      "text/plain": [
       "       fittedtrain\n",
       "        FALSE TRUE\n",
       "  FALSE   540   76\n",
       "  TRUE    275  341"
      ]
     },
     "metadata": {},
     "output_type": "display_data"
    },
    {
     "data": {
      "text/html": [
       "0.715097402597403"
      ],
      "text/latex": [
       "0.715097402597403"
      ],
      "text/markdown": [
       "0.715097402597403"
      ],
      "text/plain": [
       "[1] 0.7150974"
      ]
     },
     "metadata": {},
     "output_type": "display_data"
    }
   ],
   "source": [
    "fittedtrain <- predict(fit,type=\"class\")\n",
    "predtrain <- table(training_tweets$is_prez,fittedtrain)\n",
    "predtrain\n",
    "sum(diag(predtrain))/sum(predtrain) # training accuracy"
   ]
  },
  {
   "cell_type": "markdown",
   "metadata": {},
   "source": [
    "We can do the same in the test dataset - this is the accuracy we would be most interested in."
   ]
  },
  {
   "cell_type": "code",
   "execution_count": 95,
   "metadata": {},
   "outputs": [
    {
     "data": {
      "text/plain": [
       "       fittedtest\n",
       "        FALSE TRUE\n",
       "  FALSE   210   54\n",
       "  TRUE    129  135"
      ]
     },
     "metadata": {},
     "output_type": "display_data"
    },
    {
     "data": {
      "text/html": [
       "0.653409090909091"
      ],
      "text/latex": [
       "0.653409090909091"
      ],
      "text/markdown": [
       "0.653409090909091"
      ],
      "text/plain": [
       "[1] 0.6534091"
      ]
     },
     "metadata": {},
     "output_type": "display_data"
    }
   ],
   "source": [
    "fittedtest <- predict(fit,newdata=test_tweets,type=\"class\")\n",
    "predtest <- table(test_tweets$is_prez,fittedtest)\n",
    "predtest\n",
    "sum(diag(predtest))/sum(predtest) # test accuracy"
   ]
  },
  {
   "cell_type": "markdown",
   "metadata": {},
   "source": [
    "## Term frequency-inverse-document-frequency (tf-idf)\n",
    "\n",
    "In the previous section we used the words contained in tweets, and specifically the frequencies of those words, to discriminate between a tweet made by Donald Trump was made while he was president or not. This is standard practice in text mining: we describe a document by the words that are contained in the document. \n",
    "\n",
    "How do we decide what words are \"important\" to a document - by which we mean distinguish that document from another? One approach is to use word frequency. If a word like \"apple\" appears frequently in a document, it is more likely to be about a recipe or health than about politics, for example. However some words that appear frequently are *not* particularly useful: words like \"the\", \"a\", and so on. These are words that may appear frequently in a particular document, but are not interesting to us *because they also appear frequently in many other documents*.\n",
    "\n",
    "We've previously encountered these as **stop words**, and we've typically removed them from the analysis to reveal more interesting underlying patterns. Another approach is, rather than removing the stop words, is to **downweight** them. This is what tf-idf (term frequency-inverse document frequency) does. Here \"term\" is just used as a general indicator of the unit of text we are interested in, like \"token\". Tf-idf is composed of two parts: \n",
    "\n",
    "* The **tf** part: A term's frequency increases with how many times it is used *in that document*. For tf-idf we use *relative* frequencies: the number of times a word appears, divided by the total number of words in that document.\n",
    "* The **idf**: A term’s inverse document frequency is a measure of how many documents (in the corpus) contain that term. It decreases the weight for commonly used words (which all or most documents will use) relative to words that are not used by many documents in a corpus.\n",
    "\n",
    "Specifically, we are going to replace the term frequencies we were using before with new values called \"inverse document frequency weighted term frequencies\" or tf-idf for short. So each term in each document will get its own tf-idf \"score\", which we denote $tfidf(\\text{term t in document i})$.\n",
    "\n",
    "Then:\n",
    "\n",
    "$$tfidf(\\text{term t in document i}) = tf(\\text{term t in document i}) \\times idf(\\text{term t})$$\n",
    "\n",
    "where\n",
    "\n",
    "$$tf(\\text{term t in document i}) = \\displaystyle\\frac{\\text{Number of times term t appears in document i}}{\\text{Number of terms in document i}}$$  \n",
    "\n",
    "and \n",
    "\n",
    "$$idf(\\text{term t}) = \\ln\\biggl(\\displaystyle\\frac{\\text{Number of documents in corpus}}{\\text{Number of documents containing term t}}\\biggr)$$ \n",
    "\n",
    "The log function increases in its argument, and the number of documents in the corpus is fixed, so as the number of documents containing a term increases (the denominator above), the idf part decreases. The log transform ensures that this decrease is steep initally, and then levels off. Below I show how the idf weight changes with the number of documents (out of a total of 100 documents) that have a term."
   ]
  },
  {
   "cell_type": "code",
   "execution_count": 96,
   "metadata": {},
   "outputs": [
    {
     "data": {
      "image/png": "[encoded data removed]",
      "text/plain": [
       "plot without title"
      ]
     },
     "metadata": {},
     "output_type": "display_data"
    }
   ],
   "source": [
    "options(repr.plot.width=6, repr.plot.height=3) # set plot size in the notebook\n",
    "plot(1:100, log(100/1:100), type = \"l\", \n",
    "     xlab = \"Number of documents (out of 100) containing term t\", ylab = \"idf(t)\")"
   ]
  },
  {
   "cell_type": "markdown",
   "metadata": {},
   "source": [
    "As a bonus, we no longer have to carry around stop word dictionaries around with us - using idf allows us to include all words and let idf downweight the ones that are most common.\n",
    "\n",
    "Below we carry out the calculations above to work out tf-idf values for the words (terms) in our tweets (documents)."
   ]
  },
  {
   "cell_type": "code",
   "execution_count": 97,
   "metadata": {},
   "outputs": [],
   "source": [
    "ndocs <- length(unique(tweets_tdf$id_str))\n",
    "\n",
    "idf <- tweets_tdf %>% \n",
    "  group_by(word) %>% \n",
    "  summarize(docs_with_word = n()) %>% \n",
    "  ungroup() %>%\n",
    "  mutate(idf = log(ndocs / docs_with_word)) %>% arrange(desc(idf))\n",
    "\n",
    "tweets_tdf <- tweets_tdf %>% \n",
    "    left_join(idf, by = \"word\") %>% \n",
    "    mutate(tf = n/total, tf_idf = tf * idf)"
   ]
  },
  {
   "cell_type": "markdown",
   "metadata": {},
   "source": [
    "Let's explore how the weighting affects the terms that come up as \"most important\", by looking at one particular tweet."
   ]
  },
  {
   "cell_type": "code",
   "execution_count": 98,
   "metadata": {},
   "outputs": [
    {
     "data": {
      "text/html": [
       "<table>\n",
       "<caption>A tibble: 1 × 1</caption>\n",
       "<thead>\n",
       "\t<tr><th scope=col>text</th></tr>\n",
       "\t<tr><th scope=col>&lt;chr&gt;</th></tr>\n",
       "</thead>\n",
       "<tbody>\n",
       "\t<tr><td>I will be making my Supreme Court pick on Thursday of next week.Thank you!</td></tr>\n",
       "</tbody>\n",
       "</table>\n"
      ],
      "text/latex": [
       "A tibble: 1 × 1\n",
       "\\begin{tabular}{r|l}\n",
       " text\\\\\n",
       " <chr>\\\\\n",
       "\\hline\n",
       "\t I will be making my Supreme Court pick on Thursday of next week.Thank you!\\\\\n",
       "\\end{tabular}\n"
      ],
      "text/markdown": [
       "\n",
       "A tibble: 1 × 1\n",
       "\n",
       "| text &lt;chr&gt; |\n",
       "|---|\n",
       "| I will be making my Supreme Court pick on Thursday of next week.Thank you! |\n",
       "\n"
      ],
      "text/plain": [
       "  text                                                                      \n",
       "1 I will be making my Supreme Court pick on Thursday of next week.Thank you!"
      ]
     },
     "metadata": {},
     "output_type": "display_data"
    }
   ],
   "source": [
    "set.seed(987)\n",
    "random_tweet <- sample(tweets_tdf$id_str,1)\n",
    "tweets %>% filter(id_str == random_tweet) %>% select(text)"
   ]
  },
  {
   "cell_type": "markdown",
   "metadata": {},
   "source": [
    "Below we rank words in descending order of importance by the criterion of word frequency (`n`). By changing this to inverse document frequency (`idf`) and tf-idf (`tf_idf`) you can see which words become more or less important, and get a sense for why."
   ]
  },
  {
   "cell_type": "code",
   "execution_count": 99,
   "metadata": {},
   "outputs": [
    {
     "data": {
      "text/html": [
       "<table>\n",
       "<caption>A tibble: 8 × 8</caption>\n",
       "<thead>\n",
       "\t<tr><th scope=col>id_str</th><th scope=col>word</th><th scope=col>n</th><th scope=col>total</th><th scope=col>docs_with_word</th><th scope=col>idf</th><th scope=col>tf</th><th scope=col>tf_idf</th></tr>\n",
       "\t<tr><th scope=col>&lt;chr&gt;</th><th scope=col>&lt;chr&gt;</th><th scope=col>&lt;int&gt;</th><th scope=col>&lt;int&gt;</th><th scope=col>&lt;int&gt;</th><th scope=col>&lt;dbl&gt;</th><th scope=col>&lt;dbl&gt;</th><th scope=col>&lt;dbl&gt;</th></tr>\n",
       "</thead>\n",
       "<tbody>\n",
       "\t<tr><td>824229586091307008</td><td>be   </td><td>1</td><td>8</td><td>296</td><td>1.834202</td><td>0.125</td><td>0.2292752</td></tr>\n",
       "\t<tr><td>824229586091307008</td><td>i    </td><td>1</td><td>8</td><td>360</td><td>1.638457</td><td>0.125</td><td>0.2048071</td></tr>\n",
       "\t<tr><td>824229586091307008</td><td>my   </td><td>1</td><td>8</td><td>147</td><td>2.534129</td><td>0.125</td><td>0.3167661</td></tr>\n",
       "\t<tr><td>824229586091307008</td><td>of   </td><td>1</td><td>8</td><td>553</td><td>1.209203</td><td>0.125</td><td>0.1511504</td></tr>\n",
       "\t<tr><td>824229586091307008</td><td>on   </td><td>1</td><td>8</td><td>346</td><td>1.678122</td><td>0.125</td><td>0.2097653</td></tr>\n",
       "\t<tr><td>824229586091307008</td><td>thank</td><td>1</td><td>8</td><td>114</td><td>2.788363</td><td>0.125</td><td>0.3485453</td></tr>\n",
       "\t<tr><td>824229586091307008</td><td>will </td><td>1</td><td>8</td><td>260</td><td>1.963880</td><td>0.125</td><td>0.2454849</td></tr>\n",
       "\t<tr><td>824229586091307008</td><td>you  </td><td>1</td><td>8</td><td>301</td><td>1.817451</td><td>0.125</td><td>0.2271814</td></tr>\n",
       "</tbody>\n",
       "</table>\n"
      ],
      "text/latex": [
       "A tibble: 8 × 8\n",
       "\\begin{tabular}{r|llllllll}\n",
       " id\\_str & word & n & total & docs\\_with\\_word & idf & tf & tf\\_idf\\\\\n",
       " <chr> & <chr> & <int> & <int> & <int> & <dbl> & <dbl> & <dbl>\\\\\n",
       "\\hline\n",
       "\t 824229586091307008 & be    & 1 & 8 & 296 & 1.834202 & 0.125 & 0.2292752\\\\\n",
       "\t 824229586091307008 & i     & 1 & 8 & 360 & 1.638457 & 0.125 & 0.2048071\\\\\n",
       "\t 824229586091307008 & my    & 1 & 8 & 147 & 2.534129 & 0.125 & 0.3167661\\\\\n",
       "\t 824229586091307008 & of    & 1 & 8 & 553 & 1.209203 & 0.125 & 0.1511504\\\\\n",
       "\t 824229586091307008 & on    & 1 & 8 & 346 & 1.678122 & 0.125 & 0.2097653\\\\\n",
       "\t 824229586091307008 & thank & 1 & 8 & 114 & 2.788363 & 0.125 & 0.3485453\\\\\n",
       "\t 824229586091307008 & will  & 1 & 8 & 260 & 1.963880 & 0.125 & 0.2454849\\\\\n",
       "\t 824229586091307008 & you   & 1 & 8 & 301 & 1.817451 & 0.125 & 0.2271814\\\\\n",
       "\\end{tabular}\n"
      ],
      "text/markdown": [
       "\n",
       "A tibble: 8 × 8\n",
       "\n",
       "| id_str &lt;chr&gt; | word &lt;chr&gt; | n &lt;int&gt; | total &lt;int&gt; | docs_with_word &lt;int&gt; | idf &lt;dbl&gt; | tf &lt;dbl&gt; | tf_idf &lt;dbl&gt; |\n",
       "|---|---|---|---|---|---|---|---|\n",
       "| 824229586091307008 | be    | 1 | 8 | 296 | 1.834202 | 0.125 | 0.2292752 |\n",
       "| 824229586091307008 | i     | 1 | 8 | 360 | 1.638457 | 0.125 | 0.2048071 |\n",
       "| 824229586091307008 | my    | 1 | 8 | 147 | 2.534129 | 0.125 | 0.3167661 |\n",
       "| 824229586091307008 | of    | 1 | 8 | 553 | 1.209203 | 0.125 | 0.1511504 |\n",
       "| 824229586091307008 | on    | 1 | 8 | 346 | 1.678122 | 0.125 | 0.2097653 |\n",
       "| 824229586091307008 | thank | 1 | 8 | 114 | 2.788363 | 0.125 | 0.3485453 |\n",
       "| 824229586091307008 | will  | 1 | 8 | 260 | 1.963880 | 0.125 | 0.2454849 |\n",
       "| 824229586091307008 | you   | 1 | 8 | 301 | 1.817451 | 0.125 | 0.2271814 |\n",
       "\n"
      ],
      "text/plain": [
       "  id_str             word  n total docs_with_word idf      tf    tf_idf   \n",
       "1 824229586091307008 be    1 8     296            1.834202 0.125 0.2292752\n",
       "2 824229586091307008 i     1 8     360            1.638457 0.125 0.2048071\n",
       "3 824229586091307008 my    1 8     147            2.534129 0.125 0.3167661\n",
       "4 824229586091307008 of    1 8     553            1.209203 0.125 0.1511504\n",
       "5 824229586091307008 on    1 8     346            1.678122 0.125 0.2097653\n",
       "6 824229586091307008 thank 1 8     114            2.788363 0.125 0.3485453\n",
       "7 824229586091307008 will  1 8     260            1.963880 0.125 0.2454849\n",
       "8 824229586091307008 you   1 8     301            1.817451 0.125 0.2271814"
      ]
     },
     "metadata": {},
     "output_type": "display_data"
    }
   ],
   "source": [
    "tweets_tdf %>% filter(id_str == random_tweet) %>% arrange(desc(n))"
   ]
  },
  {
   "cell_type": "markdown",
   "metadata": {},
   "source": [
    "We've done the tf-idf calculation \"from scratch\" to better understanding of what is happening. The **tidytext** package has a function `bind_tf_idf()` that does the same thing."
   ]
  },
  {
   "cell_type": "code",
   "execution_count": 100,
   "metadata": {},
   "outputs": [
    {
     "data": {
      "text/html": [
       "<table>\n",
       "<caption>A tibble: 8 × 8</caption>\n",
       "<thead>\n",
       "\t<tr><th scope=col>id_str</th><th scope=col>word</th><th scope=col>n</th><th scope=col>total</th><th scope=col>docs_with_word</th><th scope=col>tf</th><th scope=col>idf</th><th scope=col>tf_idf</th></tr>\n",
       "\t<tr><th scope=col>&lt;chr&gt;</th><th scope=col>&lt;chr&gt;</th><th scope=col>&lt;int&gt;</th><th scope=col>&lt;int&gt;</th><th scope=col>&lt;int&gt;</th><th scope=col>&lt;dbl&gt;</th><th scope=col>&lt;dbl&gt;</th><th scope=col>&lt;dbl&gt;</th></tr>\n",
       "</thead>\n",
       "<tbody>\n",
       "\t<tr><td>824229586091307008</td><td>be   </td><td>1</td><td>8</td><td>296</td><td>0.125</td><td>1.834202</td><td>0.2292752</td></tr>\n",
       "\t<tr><td>824229586091307008</td><td>i    </td><td>1</td><td>8</td><td>360</td><td>0.125</td><td>1.638457</td><td>0.2048071</td></tr>\n",
       "\t<tr><td>824229586091307008</td><td>my   </td><td>1</td><td>8</td><td>147</td><td>0.125</td><td>2.534129</td><td>0.3167661</td></tr>\n",
       "\t<tr><td>824229586091307008</td><td>of   </td><td>1</td><td>8</td><td>553</td><td>0.125</td><td>1.209203</td><td>0.1511504</td></tr>\n",
       "\t<tr><td>824229586091307008</td><td>on   </td><td>1</td><td>8</td><td>346</td><td>0.125</td><td>1.678122</td><td>0.2097653</td></tr>\n",
       "\t<tr><td>824229586091307008</td><td>thank</td><td>1</td><td>8</td><td>114</td><td>0.125</td><td>2.788363</td><td>0.3485453</td></tr>\n",
       "\t<tr><td>824229586091307008</td><td>will </td><td>1</td><td>8</td><td>260</td><td>0.125</td><td>1.963880</td><td>0.2454849</td></tr>\n",
       "\t<tr><td>824229586091307008</td><td>you  </td><td>1</td><td>8</td><td>301</td><td>0.125</td><td>1.817451</td><td>0.2271814</td></tr>\n",
       "</tbody>\n",
       "</table>\n"
      ],
      "text/latex": [
       "A tibble: 8 × 8\n",
       "\\begin{tabular}{r|llllllll}\n",
       " id\\_str & word & n & total & docs\\_with\\_word & tf & idf & tf\\_idf\\\\\n",
       " <chr> & <chr> & <int> & <int> & <int> & <dbl> & <dbl> & <dbl>\\\\\n",
       "\\hline\n",
       "\t 824229586091307008 & be    & 1 & 8 & 296 & 0.125 & 1.834202 & 0.2292752\\\\\n",
       "\t 824229586091307008 & i     & 1 & 8 & 360 & 0.125 & 1.638457 & 0.2048071\\\\\n",
       "\t 824229586091307008 & my    & 1 & 8 & 147 & 0.125 & 2.534129 & 0.3167661\\\\\n",
       "\t 824229586091307008 & of    & 1 & 8 & 553 & 0.125 & 1.209203 & 0.1511504\\\\\n",
       "\t 824229586091307008 & on    & 1 & 8 & 346 & 0.125 & 1.678122 & 0.2097653\\\\\n",
       "\t 824229586091307008 & thank & 1 & 8 & 114 & 0.125 & 2.788363 & 0.3485453\\\\\n",
       "\t 824229586091307008 & will  & 1 & 8 & 260 & 0.125 & 1.963880 & 0.2454849\\\\\n",
       "\t 824229586091307008 & you   & 1 & 8 & 301 & 0.125 & 1.817451 & 0.2271814\\\\\n",
       "\\end{tabular}\n"
      ],
      "text/markdown": [
       "\n",
       "A tibble: 8 × 8\n",
       "\n",
       "| id_str &lt;chr&gt; | word &lt;chr&gt; | n &lt;int&gt; | total &lt;int&gt; | docs_with_word &lt;int&gt; | tf &lt;dbl&gt; | idf &lt;dbl&gt; | tf_idf &lt;dbl&gt; |\n",
       "|---|---|---|---|---|---|---|---|\n",
       "| 824229586091307008 | be    | 1 | 8 | 296 | 0.125 | 1.834202 | 0.2292752 |\n",
       "| 824229586091307008 | i     | 1 | 8 | 360 | 0.125 | 1.638457 | 0.2048071 |\n",
       "| 824229586091307008 | my    | 1 | 8 | 147 | 0.125 | 2.534129 | 0.3167661 |\n",
       "| 824229586091307008 | of    | 1 | 8 | 553 | 0.125 | 1.209203 | 0.1511504 |\n",
       "| 824229586091307008 | on    | 1 | 8 | 346 | 0.125 | 1.678122 | 0.2097653 |\n",
       "| 824229586091307008 | thank | 1 | 8 | 114 | 0.125 | 2.788363 | 0.3485453 |\n",
       "| 824229586091307008 | will  | 1 | 8 | 260 | 0.125 | 1.963880 | 0.2454849 |\n",
       "| 824229586091307008 | you   | 1 | 8 | 301 | 0.125 | 1.817451 | 0.2271814 |\n",
       "\n"
      ],
      "text/plain": [
       "  id_str             word  n total docs_with_word tf    idf      tf_idf   \n",
       "1 824229586091307008 be    1 8     296            0.125 1.834202 0.2292752\n",
       "2 824229586091307008 i     1 8     360            0.125 1.638457 0.2048071\n",
       "3 824229586091307008 my    1 8     147            0.125 2.534129 0.3167661\n",
       "4 824229586091307008 of    1 8     553            0.125 1.209203 0.1511504\n",
       "5 824229586091307008 on    1 8     346            0.125 1.678122 0.2097653\n",
       "6 824229586091307008 thank 1 8     114            0.125 2.788363 0.3485453\n",
       "7 824229586091307008 will  1 8     260            0.125 1.963880 0.2454849\n",
       "8 824229586091307008 you   1 8     301            0.125 1.817451 0.2271814"
      ]
     },
     "metadata": {},
     "output_type": "display_data"
    }
   ],
   "source": [
    "tweets_tdf <- tweets_tdf %>% \n",
    "    select(-idf, -tf, -tf_idf) %>% # remove the old ones we worked out\n",
    "  bind_tf_idf(word, id_str, n) # replace with values from tidytext\n",
    "\n",
    "tweets_tdf %>% filter(id_str == random_tweet) %>% arrange(desc(n)) # check same as above"
   ]
  },
  {
   "cell_type": "markdown",
   "metadata": {},
   "source": [
    "# Redoing the classification tree, this time with tf-idf features \n",
    "\n",
    "Tf-idf features often give better accuracy in predictive modelling than using word frequencies. In this section we repeat the earlier analysis, building a classification tree to predict whether a tweet was made before or after becoming president, but replacing the word frequency features with the tf-idf values calculated above. \n",
    "\n",
    "We start by reshaping the dataset:"
   ]
  },
  {
   "cell_type": "code",
   "execution_count": 101,
   "metadata": {},
   "outputs": [
    {
     "name": "stderr",
     "output_type": "stream",
     "text": [
      "Joining, by = \"id_str\"\n"
     ]
    }
   ],
   "source": [
    "bag_of_words <- tweets_tdf %>% \n",
    "  select(id_str, word, tf_idf) %>%  # note the change, using tf-idf\n",
    "  spread(key = word, value = tf_idf, fill = 0) %>%  \n",
    "  left_join(tweets %>% select(id_str,is_prez))"
   ]
  },
  {
   "cell_type": "markdown",
   "metadata": {},
   "source": [
    "We use same training and test sets as before."
   ]
  },
  {
   "cell_type": "code",
   "execution_count": 102,
   "metadata": {},
   "outputs": [],
   "source": [
    "training_tweets <- bag_of_words %>% \n",
    "  right_join(training_ids, by = \"id_str\") %>%\n",
    "  select(-id_str)\n",
    "\n",
    "test_tweets <- bag_of_words %>% \n",
    "  anti_join(training_ids, by = \"id_str\") %>%\n",
    "  select(-id_str)"
   ]
  },
  {
   "cell_type": "markdown",
   "metadata": {},
   "source": [
    "We fit a tree to training data:"
   ]
  },
  {
   "cell_type": "code",
   "execution_count": 103,
   "metadata": {},
   "outputs": [],
   "source": [
    "fit <- rpart(factor(is_prez) ~ ., training_tweets)"
   ]
  },
  {
   "cell_type": "markdown",
   "metadata": {},
   "source": [
    "Plot the tree we just created:"
   ]
  },
  {
   "cell_type": "code",
   "execution_count": 104,
   "metadata": {},
   "outputs": [
    {
     "data": {
      "image/png": "[encoded data removed]",
      "text/plain": [
       "Plot with title “Full Classification Tree”"
      ]
     },
     "metadata": {},
     "output_type": "display_data"
    }
   ],
   "source": [
    "options(repr.plot.width=8, repr.plot.height=10)\n",
    "plot(fit, main=\"Full Classification Tree\")\n",
    "text(fit, use.n=TRUE, all=TRUE, cex=.8)"
   ]
  },
  {
   "cell_type": "markdown",
   "metadata": {},
   "source": [
    "And check the accuracy in training and test datasets:"
   ]
  },
  {
   "cell_type": "code",
   "execution_count": 105,
   "metadata": {},
   "outputs": [
    {
     "data": {
      "text/plain": [
       "       fittedtrain\n",
       "        FALSE TRUE\n",
       "  FALSE   457  159\n",
       "  TRUE    186  430"
      ]
     },
     "metadata": {},
     "output_type": "display_data"
    },
    {
     "data": {
      "text/html": [
       "0.719967532467532"
      ],
      "text/latex": [
       "0.719967532467532"
      ],
      "text/markdown": [
       "0.719967532467532"
      ],
      "text/plain": [
       "[1] 0.7199675"
      ]
     },
     "metadata": {},
     "output_type": "display_data"
    }
   ],
   "source": [
    "fittedtrain <- predict(fit,type=\"class\")\n",
    "predtrain <- table(training_tweets$is_prez,fittedtrain)\n",
    "predtrain\n",
    "sum(diag(predtrain))/sum(predtrain) # training accuracy"
   ]
  },
  {
   "cell_type": "code",
   "execution_count": 106,
   "metadata": {},
   "outputs": [
    {
     "data": {
      "text/plain": [
       "       fittedtest\n",
       "        FALSE TRUE\n",
       "  FALSE   238  119\n",
       "  TRUE     82  182"
      ]
     },
     "metadata": {},
     "output_type": "display_data"
    },
    {
     "data": {
      "text/html": [
       "0.676328502415459"
      ],
      "text/latex": [
       "0.676328502415459"
      ],
      "text/markdown": [
       "0.676328502415459"
      ],
      "text/plain": [
       "[1] 0.6763285"
      ]
     },
     "metadata": {},
     "output_type": "display_data"
    }
   ],
   "source": [
    "fittedtest <- predict(fit,newdata=test_tweets,type=\"class\")\n",
    "predtest <- table(test_tweets$is_prez,fittedtest)\n",
    "predtest\n",
    "sum(diag(predtest))/sum(predtest) # test accuracy"
   ]
  },
  {
   "cell_type": "markdown",
   "metadata": {},
   "source": [
    "We get a very slight improvement in accuracy from replacing word frequency features with ones based on tf-idf."
   ]
  },
  {
   "cell_type": "markdown",
   "metadata": {},
   "source": [
    "## Exercises\n",
    "\n",
    "1. Try and improve on the classification models described above. Try the following (for example):\n",
    "    + use bigrams rather than words as tokens.\n",
    "    + include other explanatory variables included in the `tweets` data frame.\n",
    "    + remove stopwords.\n",
    "    + use more than 200 words in the bag-of-words.\n",
    "    "
   ]
  }
 ],
 "metadata": {
  "kernelspec": {
   "display_name": "R",
   "language": "R",
   "name": "ir"
  },
  "language_info": {
   "codemirror_mode": "r",
   "file_extension": ".r",
   "mimetype": "text/x-r-source",
   "name": "R",
   "pygments_lexer": "r",
   "version": "3.5.1"
  }
 },
 "nbformat": 4,
 "nbformat_minor": 2
}
