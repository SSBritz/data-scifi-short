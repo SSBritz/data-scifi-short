{
 "cells": [
  {
   "cell_type": "markdown",
   "metadata": {},
   "source": [
    "# Recommender systems"
   ]
  },
  {
   "cell_type": "markdown",
   "metadata": {},
   "source": [
    "In this lesson we'll:\n",
    "\n",
    "1. introduce recommender systems based on collaborative filtering\n",
    "2. build recommender systems based on various kinds of collaborative filtering\n",
    "    + user-based collaborative filtering\n",
    "    + item-based collaborative filtering\n",
    "    + matrix factorization\n",
    "3. introduce L2 regularization and bias terms, two ways of improving recommender systems based on matrix factorization.\n",
    "4. use these approaches to build a system for recommending movies to users based on their past viewing habits.\n",
    "\n",
    "This notebook is based quite closely on the following sources:\n",
    "\n",
    "* Chapter 22 of Joel Grus' [\"Data Science from Scratch: First Principles with Python\"](http://shop.oreilly.com/product/0636920033400.do). The (Python) code from the book is [here](https://github.com/joelgrus/data-science-from-scratch).\n",
    "* Part of [Lesson 4](http://course.fast.ai/lessons/lesson4.html) of the fast.ai course \"Practical Deep Learning for Coders\". There's a timeline of the lesson [here](http://wiki.fast.ai/index.php/Lesson_4_Timeline). Code (also in Python) is [here](https://github.com/fastai/courses/tree/master/deeplearning1). "
   ]
  },
  {
   "cell_type": "markdown",
   "metadata": {},
   "source": [
    "### Load required packages and the dataset we created last lesson"
   ]
  },
  {
   "cell_type": "code",
   "execution_count": 118,
   "metadata": {},
   "outputs": [],
   "source": [
    "library(tidyverse)\n",
    "\n",
    "load(\"output/recommender_class_ex.RData\")"
   ]
  },
  {
   "cell_type": "markdown",
   "metadata": {},
   "source": [
    "We need to convert the data to a matrix form or else some the later functions we use will give an error (see what happens if you don't make the change)"
   ]
  },
  {
   "cell_type": "code",
   "execution_count": 120,
   "metadata": {},
   "outputs": [
    {
     "data": {
      "text/html": [
       "<table>\n",
       "<caption>A tibble: 15 × 21</caption>\n",
       "<thead>\n",
       "\t<tr><th scope=col>userId</th><th scope=col>2001: A Space Odyssey (1968)</th><th scope=col>Apocalypse Now (1979)</th><th scope=col>Big Lebowski, The (1998)</th><th scope=col>Bourne Identity, The (2002)</th><th scope=col>Clear and Present Danger (1994)</th><th scope=col>Crouching Tiger, Hidden Dragon (Wo hu cang long) (2000)</th><th scope=col>Departed, The (2006)</th><th scope=col>Donnie Darko (2001)</th><th scope=col>Ferris Bueller's Day Off (1986)</th><th scope=col>⋯</th><th scope=col>Harry Potter and the Sorcerer's Stone (a.k.a. Harry Potter and the Philosopher's Stone) (2001)</th><th scope=col>Indiana Jones and the Temple of Doom (1984)</th><th scope=col>Interview with the Vampire: The Vampire Chronicles (1994)</th><th scope=col>Jumanji (1995)</th><th scope=col>Kill Bill: Vol. 2 (2004)</th><th scope=col>Shining, The (1980)</th><th scope=col>Sleepless in Seattle (1993)</th><th scope=col>Star Trek: Generations (1994)</th><th scope=col>There's Something About Mary (1998)</th><th scope=col>Up (2009)</th></tr>\n",
       "\t<tr><th scope=col>&lt;int&gt;</th><th scope=col>&lt;dbl&gt;</th><th scope=col>&lt;dbl&gt;</th><th scope=col>&lt;dbl&gt;</th><th scope=col>&lt;dbl&gt;</th><th scope=col>&lt;dbl&gt;</th><th scope=col>&lt;dbl&gt;</th><th scope=col>&lt;dbl&gt;</th><th scope=col>&lt;dbl&gt;</th><th scope=col>&lt;dbl&gt;</th><th scope=col>⋯</th><th scope=col>&lt;dbl&gt;</th><th scope=col>&lt;dbl&gt;</th><th scope=col>&lt;dbl&gt;</th><th scope=col>&lt;dbl&gt;</th><th scope=col>&lt;dbl&gt;</th><th scope=col>&lt;dbl&gt;</th><th scope=col>&lt;dbl&gt;</th><th scope=col>&lt;dbl&gt;</th><th scope=col>&lt;dbl&gt;</th><th scope=col>&lt;dbl&gt;</th></tr>\n",
       "</thead>\n",
       "<tbody>\n",
       "\t<tr><td>  1</td><td> NA</td><td>4.0</td><td>5.0</td><td> NA</td><td>4.0</td><td> NA</td><td> NA</td><td> NA</td><td> NA</td><td>⋯</td><td> NA</td><td>5.0</td><td> NA</td><td> NA</td><td> NA</td><td>3.0</td><td> NA</td><td>NA</td><td> NA</td><td> NA</td></tr>\n",
       "\t<tr><td> 20</td><td> NA</td><td> NA</td><td> NA</td><td>3.0</td><td> NA</td><td>3.5</td><td> NA</td><td> NA</td><td> NA</td><td>⋯</td><td>4.5</td><td> NA</td><td> NA</td><td>3.0</td><td> NA</td><td> NA</td><td> NA</td><td>NA</td><td> NA</td><td> NA</td></tr>\n",
       "\t<tr><td>187</td><td>4.0</td><td> NA</td><td>5.0</td><td> NA</td><td> NA</td><td>3.0</td><td> NA</td><td>3.5</td><td> NA</td><td>⋯</td><td> NA</td><td> NA</td><td>3.5</td><td> NA</td><td>4.0</td><td>4.5</td><td> NA</td><td>NA</td><td> NA</td><td> NA</td></tr>\n",
       "\t<tr><td>198</td><td>4.0</td><td> NA</td><td>3.0</td><td> NA</td><td> NA</td><td>3.0</td><td> NA</td><td> NA</td><td> NA</td><td>⋯</td><td> NA</td><td>3.0</td><td> NA</td><td> NA</td><td> NA</td><td>3.0</td><td> NA</td><td>NA</td><td> NA</td><td> NA</td></tr>\n",
       "\t<tr><td>212</td><td>4.0</td><td> NA</td><td>3.0</td><td> NA</td><td> NA</td><td> NA</td><td> NA</td><td> NA</td><td>2.5</td><td>⋯</td><td>3.5</td><td> NA</td><td> NA</td><td> NA</td><td> NA</td><td>4.0</td><td> NA</td><td>NA</td><td> NA</td><td>3.0</td></tr>\n",
       "\t<tr><td>222</td><td> NA</td><td>3.5</td><td>3.5</td><td> NA</td><td> NA</td><td> NA</td><td>4.5</td><td> NA</td><td> NA</td><td>⋯</td><td> NA</td><td> NA</td><td> NA</td><td>2.5</td><td>4.0</td><td> NA</td><td> NA</td><td>NA</td><td>3.0</td><td>2.5</td></tr>\n",
       "\t<tr><td>282</td><td> NA</td><td>4.5</td><td>4.0</td><td>4.5</td><td> NA</td><td> NA</td><td>4.5</td><td> NA</td><td>4.5</td><td>⋯</td><td> NA</td><td>4.0</td><td> NA</td><td> NA</td><td>3.5</td><td>4.0</td><td> NA</td><td>NA</td><td> NA</td><td> NA</td></tr>\n",
       "\t<tr><td>328</td><td>4.0</td><td>4.0</td><td>3.5</td><td>4.0</td><td> NA</td><td> NA</td><td>3.5</td><td>1.0</td><td>2.0</td><td>⋯</td><td>4.0</td><td>4.0</td><td> NA</td><td> NA</td><td>5.0</td><td>4.0</td><td> NA</td><td>NA</td><td> NA</td><td>4.5</td></tr>\n",
       "\t<tr><td>330</td><td>1.5</td><td>2.5</td><td>5.0</td><td>2.0</td><td> NA</td><td>4.5</td><td>4.5</td><td>4.5</td><td>4.0</td><td>⋯</td><td>4.5</td><td> NA</td><td>4.5</td><td>1.5</td><td>5.0</td><td>4.0</td><td>2.0</td><td>NA</td><td>5.0</td><td> NA</td></tr>\n",
       "\t<tr><td>372</td><td>2.0</td><td>5.0</td><td> NA</td><td> NA</td><td> NA</td><td> NA</td><td> NA</td><td> NA</td><td> NA</td><td>⋯</td><td> NA</td><td> NA</td><td> NA</td><td> NA</td><td> NA</td><td>4.0</td><td> NA</td><td>NA</td><td> NA</td><td> NA</td></tr>\n",
       "\t<tr><td>432</td><td> NA</td><td> NA</td><td> NA</td><td>4.5</td><td> NA</td><td> NA</td><td>2.5</td><td> NA</td><td> NA</td><td>⋯</td><td> NA</td><td> NA</td><td>4.5</td><td>4.0</td><td>2.5</td><td>3.0</td><td> NA</td><td>NA</td><td> NA</td><td>4.0</td></tr>\n",
       "\t<tr><td>434</td><td>4.5</td><td>3.5</td><td>4.5</td><td>4.0</td><td>3.5</td><td>4.5</td><td>5.0</td><td>5.0</td><td>3.5</td><td>⋯</td><td>2.5</td><td>4.5</td><td> NA</td><td>2.5</td><td>4.5</td><td>5.0</td><td> NA</td><td>NA</td><td>3.5</td><td>3.5</td></tr>\n",
       "\t<tr><td>495</td><td> NA</td><td>4.5</td><td>5.0</td><td> NA</td><td> NA</td><td> NA</td><td>5.0</td><td> NA</td><td>4.5</td><td>⋯</td><td> NA</td><td> NA</td><td> NA</td><td> NA</td><td>5.0</td><td> NA</td><td> NA</td><td>NA</td><td> NA</td><td> NA</td></tr>\n",
       "\t<tr><td>562</td><td> NA</td><td> NA</td><td> NA</td><td> NA</td><td> NA</td><td> NA</td><td> NA</td><td> NA</td><td>5.0</td><td>⋯</td><td> NA</td><td> NA</td><td> NA</td><td> NA</td><td> NA</td><td>4.0</td><td>4.5</td><td>NA</td><td> NA</td><td> NA</td></tr>\n",
       "\t<tr><td>594</td><td> NA</td><td>3.0</td><td> NA</td><td> NA</td><td> NA</td><td> NA</td><td> NA</td><td> NA</td><td> NA</td><td>⋯</td><td> NA</td><td> NA</td><td>0.5</td><td>4.0</td><td> NA</td><td> NA</td><td>5.0</td><td> 4</td><td>4.0</td><td> NA</td></tr>\n",
       "</tbody>\n",
       "</table>\n"
      ],
      "text/latex": [
       "A tibble: 15 × 21\n",
       "\\begin{tabular}{r|lllllllllllllllllllll}\n",
       " userId & 2001: A Space Odyssey (1968) & Apocalypse Now (1979) & Big Lebowski, The (1998) & Bourne Identity, The (2002) & Clear and Present Danger (1994) & Crouching Tiger, Hidden Dragon (Wo hu cang long) (2000) & Departed, The (2006) & Donnie Darko (2001) & Ferris Bueller's Day Off (1986) & Green Mile, The (1999) & Harry Potter and the Sorcerer's Stone (a.k.a. Harry Potter and the Philosopher's Stone) (2001) & Indiana Jones and the Temple of Doom (1984) & Interview with the Vampire: The Vampire Chronicles (1994) & Jumanji (1995) & Kill Bill: Vol. 2 (2004) & Shining, The (1980) & Sleepless in Seattle (1993) & Star Trek: Generations (1994) & There's Something About Mary (1998) & Up (2009)\\\\\n",
       " <int> & <dbl> & <dbl> & <dbl> & <dbl> & <dbl> & <dbl> & <dbl> & <dbl> & <dbl> & <dbl> & <dbl> & <dbl> & <dbl> & <dbl> & <dbl> & <dbl> & <dbl> & <dbl> & <dbl> & <dbl>\\\\\n",
       "\\hline\n",
       "\t   1 &  NA & 4.0 & 5.0 &  NA & 4.0 &  NA &  NA &  NA &  NA & 5.0 &  NA & 5.0 &  NA &  NA &  NA & 3.0 &  NA & NA &  NA &  NA\\\\\n",
       "\t  20 &  NA &  NA &  NA & 3.0 &  NA & 3.5 &  NA &  NA &  NA &  NA & 4.5 &  NA &  NA & 3.0 &  NA &  NA &  NA & NA &  NA &  NA\\\\\n",
       "\t 187 & 4.0 &  NA & 5.0 &  NA &  NA & 3.0 &  NA & 3.5 &  NA &  NA &  NA &  NA & 3.5 &  NA & 4.0 & 4.5 &  NA & NA &  NA &  NA\\\\\n",
       "\t 198 & 4.0 &  NA & 3.0 &  NA &  NA & 3.0 &  NA &  NA &  NA & 5.0 &  NA & 3.0 &  NA &  NA &  NA & 3.0 &  NA & NA &  NA &  NA\\\\\n",
       "\t 212 & 4.0 &  NA & 3.0 &  NA &  NA &  NA &  NA &  NA & 2.5 &  NA & 3.5 &  NA &  NA &  NA &  NA & 4.0 &  NA & NA &  NA & 3.0\\\\\n",
       "\t 222 &  NA & 3.5 & 3.5 &  NA &  NA &  NA & 4.5 &  NA &  NA &  NA &  NA &  NA &  NA & 2.5 & 4.0 &  NA &  NA & NA & 3.0 & 2.5\\\\\n",
       "\t 282 &  NA & 4.5 & 4.0 & 4.5 &  NA &  NA & 4.5 &  NA & 4.5 & 4.0 &  NA & 4.0 &  NA &  NA & 3.5 & 4.0 &  NA & NA &  NA &  NA\\\\\n",
       "\t 328 & 4.0 & 4.0 & 3.5 & 4.0 &  NA &  NA & 3.5 & 1.0 & 2.0 &  NA & 4.0 & 4.0 &  NA &  NA & 5.0 & 4.0 &  NA & NA &  NA & 4.5\\\\\n",
       "\t 330 & 1.5 & 2.5 & 5.0 & 2.0 &  NA & 4.5 & 4.5 & 4.5 & 4.0 & 4.0 & 4.5 &  NA & 4.5 & 1.5 & 5.0 & 4.0 & 2.0 & NA & 5.0 &  NA\\\\\n",
       "\t 372 & 2.0 & 5.0 &  NA &  NA &  NA &  NA &  NA &  NA &  NA &  NA &  NA &  NA &  NA &  NA &  NA & 4.0 &  NA & NA &  NA &  NA\\\\\n",
       "\t 432 &  NA &  NA &  NA & 4.5 &  NA &  NA & 2.5 &  NA &  NA & 4.0 &  NA &  NA & 4.5 & 4.0 & 2.5 & 3.0 &  NA & NA &  NA & 4.0\\\\\n",
       "\t 434 & 4.5 & 3.5 & 4.5 & 4.0 & 3.5 & 4.5 & 5.0 & 5.0 & 3.5 & 4.5 & 2.5 & 4.5 &  NA & 2.5 & 4.5 & 5.0 &  NA & NA & 3.5 & 3.5\\\\\n",
       "\t 495 &  NA & 4.5 & 5.0 &  NA &  NA &  NA & 5.0 &  NA & 4.5 &  NA &  NA &  NA &  NA &  NA & 5.0 &  NA &  NA & NA &  NA &  NA\\\\\n",
       "\t 562 &  NA &  NA &  NA &  NA &  NA &  NA &  NA &  NA & 5.0 & 4.0 &  NA &  NA &  NA &  NA &  NA & 4.0 & 4.5 & NA &  NA &  NA\\\\\n",
       "\t 594 &  NA & 3.0 &  NA &  NA &  NA &  NA &  NA &  NA &  NA &  NA &  NA &  NA & 0.5 & 4.0 &  NA &  NA & 5.0 &  4 & 4.0 &  NA\\\\\n",
       "\\end{tabular}\n"
      ],
      "text/markdown": [
       "\n",
       "A tibble: 15 × 21\n",
       "\n",
       "| userId &lt;int&gt; | 2001: A Space Odyssey (1968) &lt;dbl&gt; | Apocalypse Now (1979) &lt;dbl&gt; | Big Lebowski, The (1998) &lt;dbl&gt; | Bourne Identity, The (2002) &lt;dbl&gt; | Clear and Present Danger (1994) &lt;dbl&gt; | Crouching Tiger, Hidden Dragon (Wo hu cang long) (2000) &lt;dbl&gt; | Departed, The (2006) &lt;dbl&gt; | Donnie Darko (2001) &lt;dbl&gt; | Ferris Bueller's Day Off (1986) &lt;dbl&gt; | ⋯ ⋯ | Harry Potter and the Sorcerer's Stone (a.k.a. Harry Potter and the Philosopher's Stone) (2001) &lt;dbl&gt; | Indiana Jones and the Temple of Doom (1984) &lt;dbl&gt; | Interview with the Vampire: The Vampire Chronicles (1994) &lt;dbl&gt; | Jumanji (1995) &lt;dbl&gt; | Kill Bill: Vol. 2 (2004) &lt;dbl&gt; | Shining, The (1980) &lt;dbl&gt; | Sleepless in Seattle (1993) &lt;dbl&gt; | Star Trek: Generations (1994) &lt;dbl&gt; | There's Something About Mary (1998) &lt;dbl&gt; | Up (2009) &lt;dbl&gt; |\n",
       "|---|---|---|---|---|---|---|---|---|---|---|---|---|---|---|---|---|---|---|---|---|\n",
       "|   1 |  NA | 4.0 | 5.0 |  NA | 4.0 |  NA |  NA |  NA |  NA | ⋯ |  NA | 5.0 |  NA |  NA |  NA | 3.0 |  NA | NA |  NA |  NA |\n",
       "|  20 |  NA |  NA |  NA | 3.0 |  NA | 3.5 |  NA |  NA |  NA | ⋯ | 4.5 |  NA |  NA | 3.0 |  NA |  NA |  NA | NA |  NA |  NA |\n",
       "| 187 | 4.0 |  NA | 5.0 |  NA |  NA | 3.0 |  NA | 3.5 |  NA | ⋯ |  NA |  NA | 3.5 |  NA | 4.0 | 4.5 |  NA | NA |  NA |  NA |\n",
       "| 198 | 4.0 |  NA | 3.0 |  NA |  NA | 3.0 |  NA |  NA |  NA | ⋯ |  NA | 3.0 |  NA |  NA |  NA | 3.0 |  NA | NA |  NA |  NA |\n",
       "| 212 | 4.0 |  NA | 3.0 |  NA |  NA |  NA |  NA |  NA | 2.5 | ⋯ | 3.5 |  NA |  NA |  NA |  NA | 4.0 |  NA | NA |  NA | 3.0 |\n",
       "| 222 |  NA | 3.5 | 3.5 |  NA |  NA |  NA | 4.5 |  NA |  NA | ⋯ |  NA |  NA |  NA | 2.5 | 4.0 |  NA |  NA | NA | 3.0 | 2.5 |\n",
       "| 282 |  NA | 4.5 | 4.0 | 4.5 |  NA |  NA | 4.5 |  NA | 4.5 | ⋯ |  NA | 4.0 |  NA |  NA | 3.5 | 4.0 |  NA | NA |  NA |  NA |\n",
       "| 328 | 4.0 | 4.0 | 3.5 | 4.0 |  NA |  NA | 3.5 | 1.0 | 2.0 | ⋯ | 4.0 | 4.0 |  NA |  NA | 5.0 | 4.0 |  NA | NA |  NA | 4.5 |\n",
       "| 330 | 1.5 | 2.5 | 5.0 | 2.0 |  NA | 4.5 | 4.5 | 4.5 | 4.0 | ⋯ | 4.5 |  NA | 4.5 | 1.5 | 5.0 | 4.0 | 2.0 | NA | 5.0 |  NA |\n",
       "| 372 | 2.0 | 5.0 |  NA |  NA |  NA |  NA |  NA |  NA |  NA | ⋯ |  NA |  NA |  NA |  NA |  NA | 4.0 |  NA | NA |  NA |  NA |\n",
       "| 432 |  NA |  NA |  NA | 4.5 |  NA |  NA | 2.5 |  NA |  NA | ⋯ |  NA |  NA | 4.5 | 4.0 | 2.5 | 3.0 |  NA | NA |  NA | 4.0 |\n",
       "| 434 | 4.5 | 3.5 | 4.5 | 4.0 | 3.5 | 4.5 | 5.0 | 5.0 | 3.5 | ⋯ | 2.5 | 4.5 |  NA | 2.5 | 4.5 | 5.0 |  NA | NA | 3.5 | 3.5 |\n",
       "| 495 |  NA | 4.5 | 5.0 |  NA |  NA |  NA | 5.0 |  NA | 4.5 | ⋯ |  NA |  NA |  NA |  NA | 5.0 |  NA |  NA | NA |  NA |  NA |\n",
       "| 562 |  NA |  NA |  NA |  NA |  NA |  NA |  NA |  NA | 5.0 | ⋯ |  NA |  NA |  NA |  NA |  NA | 4.0 | 4.5 | NA |  NA |  NA |\n",
       "| 594 |  NA | 3.0 |  NA |  NA |  NA |  NA |  NA |  NA |  NA | ⋯ |  NA |  NA | 0.5 | 4.0 |  NA |  NA | 5.0 |  4 | 4.0 |  NA |\n",
       "\n"
      ],
      "text/plain": [
       "   userId 2001: A Space Odyssey (1968) Apocalypse Now (1979)\n",
       "1    1     NA                          4.0                  \n",
       "2   20     NA                           NA                  \n",
       "3  187    4.0                           NA                  \n",
       "4  198    4.0                           NA                  \n",
       "5  212    4.0                           NA                  \n",
       "6  222     NA                          3.5                  \n",
       "7  282     NA                          4.5                  \n",
       "8  328    4.0                          4.0                  \n",
       "9  330    1.5                          2.5                  \n",
       "10 372    2.0                          5.0                  \n",
       "11 432     NA                           NA                  \n",
       "12 434    4.5                          3.5                  \n",
       "13 495     NA                          4.5                  \n",
       "14 562     NA                           NA                  \n",
       "15 594     NA                          3.0                  \n",
       "   Big Lebowski, The (1998) Bourne Identity, The (2002)\n",
       "1  5.0                       NA                        \n",
       "2   NA                      3.0                        \n",
       "3  5.0                       NA                        \n",
       "4  3.0                       NA                        \n",
       "5  3.0                       NA                        \n",
       "6  3.5                       NA                        \n",
       "7  4.0                      4.5                        \n",
       "8  3.5                      4.0                        \n",
       "9  5.0                      2.0                        \n",
       "10  NA                       NA                        \n",
       "11  NA                      4.5                        \n",
       "12 4.5                      4.0                        \n",
       "13 5.0                       NA                        \n",
       "14  NA                       NA                        \n",
       "15  NA                       NA                        \n",
       "   Clear and Present Danger (1994)\n",
       "1  4.0                            \n",
       "2   NA                            \n",
       "3   NA                            \n",
       "4   NA                            \n",
       "5   NA                            \n",
       "6   NA                            \n",
       "7   NA                            \n",
       "8   NA                            \n",
       "9   NA                            \n",
       "10  NA                            \n",
       "11  NA                            \n",
       "12 3.5                            \n",
       "13  NA                            \n",
       "14  NA                            \n",
       "15  NA                            \n",
       "   Crouching Tiger, Hidden Dragon (Wo hu cang long) (2000) Departed, The (2006)\n",
       "1   NA                                                      NA                 \n",
       "2  3.5                                                      NA                 \n",
       "3  3.0                                                      NA                 \n",
       "4  3.0                                                      NA                 \n",
       "5   NA                                                      NA                 \n",
       "6   NA                                                     4.5                 \n",
       "7   NA                                                     4.5                 \n",
       "8   NA                                                     3.5                 \n",
       "9  4.5                                                     4.5                 \n",
       "10  NA                                                      NA                 \n",
       "11  NA                                                     2.5                 \n",
       "12 4.5                                                     5.0                 \n",
       "13  NA                                                     5.0                 \n",
       "14  NA                                                      NA                 \n",
       "15  NA                                                      NA                 \n",
       "   Donnie Darko (2001) Ferris Bueller's Day Off (1986) ⋯\n",
       "1   NA                  NA                             ⋯\n",
       "2   NA                  NA                             ⋯\n",
       "3  3.5                  NA                             ⋯\n",
       "4   NA                  NA                             ⋯\n",
       "5   NA                 2.5                             ⋯\n",
       "6   NA                  NA                             ⋯\n",
       "7   NA                 4.5                             ⋯\n",
       "8  1.0                 2.0                             ⋯\n",
       "9  4.5                 4.0                             ⋯\n",
       "10  NA                  NA                             ⋯\n",
       "11  NA                  NA                             ⋯\n",
       "12 5.0                 3.5                             ⋯\n",
       "13  NA                 4.5                             ⋯\n",
       "14  NA                 5.0                             ⋯\n",
       "15  NA                  NA                             ⋯\n",
       "   Harry Potter and the Sorcerer's Stone (a.k.a. Harry Potter and the Philosopher's Stone) (2001)\n",
       "1   NA                                                                                           \n",
       "2  4.5                                                                                           \n",
       "3   NA                                                                                           \n",
       "4   NA                                                                                           \n",
       "5  3.5                                                                                           \n",
       "6   NA                                                                                           \n",
       "7   NA                                                                                           \n",
       "8  4.0                                                                                           \n",
       "9  4.5                                                                                           \n",
       "10  NA                                                                                           \n",
       "11  NA                                                                                           \n",
       "12 2.5                                                                                           \n",
       "13  NA                                                                                           \n",
       "14  NA                                                                                           \n",
       "15  NA                                                                                           \n",
       "   Indiana Jones and the Temple of Doom (1984)\n",
       "1  5.0                                        \n",
       "2   NA                                        \n",
       "3   NA                                        \n",
       "4  3.0                                        \n",
       "5   NA                                        \n",
       "6   NA                                        \n",
       "7  4.0                                        \n",
       "8  4.0                                        \n",
       "9   NA                                        \n",
       "10  NA                                        \n",
       "11  NA                                        \n",
       "12 4.5                                        \n",
       "13  NA                                        \n",
       "14  NA                                        \n",
       "15  NA                                        \n",
       "   Interview with the Vampire: The Vampire Chronicles (1994) Jumanji (1995)\n",
       "1   NA                                                        NA           \n",
       "2   NA                                                       3.0           \n",
       "3  3.5                                                        NA           \n",
       "4   NA                                                        NA           \n",
       "5   NA                                                        NA           \n",
       "6   NA                                                       2.5           \n",
       "7   NA                                                        NA           \n",
       "8   NA                                                        NA           \n",
       "9  4.5                                                       1.5           \n",
       "10  NA                                                        NA           \n",
       "11 4.5                                                       4.0           \n",
       "12  NA                                                       2.5           \n",
       "13  NA                                                        NA           \n",
       "14  NA                                                        NA           \n",
       "15 0.5                                                       4.0           \n",
       "   Kill Bill: Vol. 2 (2004) Shining, The (1980) Sleepless in Seattle (1993)\n",
       "1   NA                      3.0                  NA                        \n",
       "2   NA                       NA                  NA                        \n",
       "3  4.0                      4.5                  NA                        \n",
       "4   NA                      3.0                  NA                        \n",
       "5   NA                      4.0                  NA                        \n",
       "6  4.0                       NA                  NA                        \n",
       "7  3.5                      4.0                  NA                        \n",
       "8  5.0                      4.0                  NA                        \n",
       "9  5.0                      4.0                 2.0                        \n",
       "10  NA                      4.0                  NA                        \n",
       "11 2.5                      3.0                  NA                        \n",
       "12 4.5                      5.0                  NA                        \n",
       "13 5.0                       NA                  NA                        \n",
       "14  NA                      4.0                 4.5                        \n",
       "15  NA                       NA                 5.0                        \n",
       "   Star Trek: Generations (1994) There's Something About Mary (1998) Up (2009)\n",
       "1  NA                             NA                                  NA      \n",
       "2  NA                             NA                                  NA      \n",
       "3  NA                             NA                                  NA      \n",
       "4  NA                             NA                                  NA      \n",
       "5  NA                             NA                                 3.0      \n",
       "6  NA                            3.0                                 2.5      \n",
       "7  NA                             NA                                  NA      \n",
       "8  NA                             NA                                 4.5      \n",
       "9  NA                            5.0                                  NA      \n",
       "10 NA                             NA                                  NA      \n",
       "11 NA                             NA                                 4.0      \n",
       "12 NA                            3.5                                 3.5      \n",
       "13 NA                             NA                                  NA      \n",
       "14 NA                             NA                                  NA      \n",
       "15  4                            4.0                                  NA      "
      ]
     },
     "metadata": {},
     "output_type": "display_data"
    }
   ],
   "source": [
    "sorted_my_users <- as.character(unlist(viewed_movies[,1]))\n",
    "viewed_movies <- as.matrix(viewed_movies[,-1])\n",
    "row.names(viewed_movies) <- sorted_my_users\n",
    "viewed_movies <- rated_movies\n",
    "viewed_movies"
   ]
  },
  {
   "cell_type": "markdown",
   "metadata": {},
   "source": [
    "## User-based collaborative filtering"
   ]
  },
  {
   "cell_type": "markdown",
   "metadata": {},
   "source": [
    "### The basic idea behind user-based collaborative filtering\n",
    "\n",
    "A really simple recommender system would just recommend the most popular movies (that a user hasn't seen before). This information is obtained by summing the values of each column of *viewed movies*"
   ]
  },
  {
   "cell_type": "code",
   "execution_count": 88,
   "metadata": {},
   "outputs": [
    {
     "data": {
      "text/html": [
       "<dl class=dl-horizontal>\n",
       "\t<dt>Beautiful Mind, A (2001)</dt>\n",
       "\t\t<dd>9</dd>\n",
       "\t<dt>American Pie (1999)</dt>\n",
       "\t\t<dd>8</dd>\n",
       "\t<dt>Armageddon (1998)</dt>\n",
       "\t\t<dd>8</dd>\n",
       "\t<dt>Kill Bill: Vol. 1 (2003)</dt>\n",
       "\t\t<dd>8</dd>\n",
       "\t<dt>Inception (2010)</dt>\n",
       "\t\t<dd>7</dd>\n",
       "\t<dt>Wizard of Oz, The (1939)</dt>\n",
       "\t\t<dd>7</dd>\n",
       "\t<dt>Apocalypse Now (1979)</dt>\n",
       "\t\t<dd>6</dd>\n",
       "\t<dt>Breakfast Club, The (1985)</dt>\n",
       "\t\t<dd>6</dd>\n",
       "\t<dt>Fifth Element, The (1997)</dt>\n",
       "\t\t<dd>6</dd>\n",
       "\t<dt>Minority Report (2002)</dt>\n",
       "\t\t<dd>6</dd>\n",
       "\t<dt>Rain Man (1988)</dt>\n",
       "\t\t<dd>6</dd>\n",
       "\t<dt>Crouching Tiger, Hidden Dragon (Wo hu cang long) (2000)</dt>\n",
       "\t\t<dd>5</dd>\n",
       "\t<dt>Austin Powers: The Spy Who Shagged Me (1999)</dt>\n",
       "\t\t<dd>4</dd>\n",
       "\t<dt>Stand by Me (1986)</dt>\n",
       "\t\t<dd>4</dd>\n",
       "\t<dt>Outbreak (1995)</dt>\n",
       "\t\t<dd>3</dd>\n",
       "\t<dt>Star Trek: Generations (1994)</dt>\n",
       "\t\t<dd>3</dd>\n",
       "\t<dt>Taxi Driver (1976)</dt>\n",
       "\t\t<dd>3</dd>\n",
       "\t<dt>Waterworld (1995)</dt>\n",
       "\t\t<dd>3</dd>\n",
       "\t<dt>Casablanca (1942)</dt>\n",
       "\t\t<dd>2</dd>\n",
       "\t<dt>Clear and Present Danger (1994)</dt>\n",
       "\t\t<dd>2</dd>\n",
       "</dl>\n"
      ],
      "text/latex": [
       "\\begin{description*}\n",
       "\\item[Beautiful Mind, A (2001)] 9\n",
       "\\item[American Pie (1999)] 8\n",
       "\\item[Armageddon (1998)] 8\n",
       "\\item[Kill Bill: Vol. 1 (2003)] 8\n",
       "\\item[Inception (2010)] 7\n",
       "\\item[Wizard of Oz, The (1939)] 7\n",
       "\\item[Apocalypse Now (1979)] 6\n",
       "\\item[Breakfast Club, The (1985)] 6\n",
       "\\item[Fifth Element, The (1997)] 6\n",
       "\\item[Minority Report (2002)] 6\n",
       "\\item[Rain Man (1988)] 6\n",
       "\\item[Crouching Tiger, Hidden Dragon (Wo hu cang long) (2000)] 5\n",
       "\\item[Austin Powers: The Spy Who Shagged Me (1999)] 4\n",
       "\\item[Stand by Me (1986)] 4\n",
       "\\item[Outbreak (1995)] 3\n",
       "\\item[Star Trek: Generations (1994)] 3\n",
       "\\item[Taxi Driver (1976)] 3\n",
       "\\item[Waterworld (1995)] 3\n",
       "\\item[Casablanca (1942)] 2\n",
       "\\item[Clear and Present Danger (1994)] 2\n",
       "\\end{description*}\n"
      ],
      "text/markdown": [
       "Beautiful Mind, A (2001)\n",
       ":   9American Pie (1999)\n",
       ":   8Armageddon (1998)\n",
       ":   8Kill Bill: Vol. 1 (2003)\n",
       ":   8Inception (2010)\n",
       ":   7Wizard of Oz, The (1939)\n",
       ":   7Apocalypse Now (1979)\n",
       ":   6Breakfast Club, The (1985)\n",
       ":   6Fifth Element, The (1997)\n",
       ":   6Minority Report (2002)\n",
       ":   6Rain Man (1988)\n",
       ":   6Crouching Tiger, Hidden Dragon (Wo hu cang long) (2000)\n",
       ":   5Austin Powers: The Spy Who Shagged Me (1999)\n",
       ":   4Stand by Me (1986)\n",
       ":   4Outbreak (1995)\n",
       ":   3Star Trek: Generations (1994)\n",
       ":   3Taxi Driver (1976)\n",
       ":   3Waterworld (1995)\n",
       ":   3Casablanca (1942)\n",
       ":   2Clear and Present Danger (1994)\n",
       ":   2\n",
       "\n"
      ],
      "text/plain": [
       "                               Beautiful Mind, A (2001) \n",
       "                                                      9 \n",
       "                                    American Pie (1999) \n",
       "                                                      8 \n",
       "                                      Armageddon (1998) \n",
       "                                                      8 \n",
       "                               Kill Bill: Vol. 1 (2003) \n",
       "                                                      8 \n",
       "                                       Inception (2010) \n",
       "                                                      7 \n",
       "                               Wizard of Oz, The (1939) \n",
       "                                                      7 \n",
       "                                  Apocalypse Now (1979) \n",
       "                                                      6 \n",
       "                             Breakfast Club, The (1985) \n",
       "                                                      6 \n",
       "                              Fifth Element, The (1997) \n",
       "                                                      6 \n",
       "                                 Minority Report (2002) \n",
       "                                                      6 \n",
       "                                        Rain Man (1988) \n",
       "                                                      6 \n",
       "Crouching Tiger, Hidden Dragon (Wo hu cang long) (2000) \n",
       "                                                      5 \n",
       "           Austin Powers: The Spy Who Shagged Me (1999) \n",
       "                                                      4 \n",
       "                                     Stand by Me (1986) \n",
       "                                                      4 \n",
       "                                        Outbreak (1995) \n",
       "                                                      3 \n",
       "                          Star Trek: Generations (1994) \n",
       "                                                      3 \n",
       "                                     Taxi Driver (1976) \n",
       "                                                      3 \n",
       "                                      Waterworld (1995) \n",
       "                                                      3 \n",
       "                                      Casablanca (1942) \n",
       "                                                      2 \n",
       "                        Clear and Present Danger (1994) \n",
       "                                                      2 "
      ]
     },
     "metadata": {},
     "output_type": "display_data"
    }
   ],
   "source": [
    "sort(apply(viewed_movies,2,sum),decreasing = T)"
   ]
  },
  {
   "cell_type": "markdown",
   "metadata": {},
   "source": [
    "This approach has an intuitive appeal but is pretty unsophisticated (everyone gets the same recommendations, barring the filtering out of seen movies!) In other words, everyone's vote counts the same.\n",
    "\n",
    "User-based CF extends the approach by changing how much each person's vote counts. Specifically, when recommending what I should watch next, a user-based CF system will upweight the votes of people that are \"more similar\" to me. In this context \"similar\" means \"has seen many of the same movies as me\". You can think of this as replacing the 1's in the *viewed_movies* matrix will a number that increases with similarity to the user we're trying to recommend a movie to.\n",
    "\n",
    "There are lots of different similarity measures. The one we'll use is called cosine similarity and is widely used, but search online for others and try them out."
   ]
  },
  {
   "cell_type": "code",
   "execution_count": 89,
   "metadata": {},
   "outputs": [],
   "source": [
    "# function calculating cosine similarity\n",
    "cosine_sim <- function(a,b){crossprod(a,b)/sqrt(crossprod(a)*crossprod(b))}\n"
   ]
  },
  {
   "cell_type": "markdown",
   "metadata": {},
   "source": [
    "Cosine similarity lies between 0 and 1 inclusive and increases with similarity. Here are a few test cases to get a feel for it:"
   ]
  },
  {
   "cell_type": "code",
   "execution_count": 90,
   "metadata": {},
   "outputs": [
    {
     "data": {
      "text/html": [
       "<table>\n",
       "<caption>A matrix: 1 × 1 of type dbl</caption>\n",
       "<tbody>\n",
       "\t<tr><td>1</td></tr>\n",
       "</tbody>\n",
       "</table>\n"
      ],
      "text/latex": [
       "A matrix: 1 × 1 of type dbl\n",
       "\\begin{tabular}{l}\n",
       "\t 1\\\\\n",
       "\\end{tabular}\n"
      ],
      "text/markdown": [
       "\n",
       "A matrix: 1 × 1 of type dbl\n",
       "\n",
       "| 1 |\n",
       "\n"
      ],
      "text/plain": [
       "     [,1]\n",
       "[1,] 1   "
      ]
     },
     "metadata": {},
     "output_type": "display_data"
    }
   ],
   "source": [
    "# maximally similar\n",
    "x1 <- c(1,1,1,0,0)\n",
    "x2 <- c(1,1,1,0,0)\n",
    "cosine_sim(x1,x2)"
   ]
  },
  {
   "cell_type": "code",
   "execution_count": 91,
   "metadata": {},
   "outputs": [
    {
     "data": {
      "text/html": [
       "<table>\n",
       "<caption>A matrix: 1 × 1 of type dbl</caption>\n",
       "<tbody>\n",
       "\t<tr><td>0</td></tr>\n",
       "</tbody>\n",
       "</table>\n"
      ],
      "text/latex": [
       "A matrix: 1 × 1 of type dbl\n",
       "\\begin{tabular}{l}\n",
       "\t 0\\\\\n",
       "\\end{tabular}\n"
      ],
      "text/markdown": [
       "\n",
       "A matrix: 1 × 1 of type dbl\n",
       "\n",
       "| 0 |\n",
       "\n"
      ],
      "text/plain": [
       "     [,1]\n",
       "[1,] 0   "
      ]
     },
     "metadata": {},
     "output_type": "display_data"
    }
   ],
   "source": [
    "# maximally dissimilar\n",
    "x1 <- c(1,1,1,0,0)\n",
    "x2 <- c(0,0,0,1,1)\n",
    "cosine_sim(x1,x2)"
   ]
  },
  {
   "cell_type": "code",
   "execution_count": 92,
   "metadata": {},
   "outputs": [
    {
     "data": {
      "text/html": [
       "<table>\n",
       "<caption>A matrix: 1 × 1 of type dbl</caption>\n",
       "<tbody>\n",
       "\t<tr><td>0</td></tr>\n",
       "</tbody>\n",
       "</table>\n"
      ],
      "text/latex": [
       "A matrix: 1 × 1 of type dbl\n",
       "\\begin{tabular}{l}\n",
       "\t 0\\\\\n",
       "\\end{tabular}\n"
      ],
      "text/markdown": [
       "\n",
       "A matrix: 1 × 1 of type dbl\n",
       "\n",
       "| 0 |\n",
       "\n"
      ],
      "text/plain": [
       "     [,1]\n",
       "[1,] 0   "
      ]
     },
     "metadata": {},
     "output_type": "display_data"
    }
   ],
   "source": [
    "# but also\n",
    "x1 <- c(1,1,0,0,0)\n",
    "x2 <- c(0,0,0,1,1)\n",
    "cosine_sim(x1,x2)"
   ]
  },
  {
   "cell_type": "code",
   "execution_count": 93,
   "metadata": {},
   "outputs": [
    {
     "data": {
      "text/html": [
       "<ol class=list-inline>\n",
       "\t<li>1</li>\n",
       "\t<li>0</li>\n",
       "\t<li>0</li>\n",
       "\t<li>0</li>\n",
       "\t<li>0</li>\n",
       "\t<li>1</li>\n",
       "\t<li>0</li>\n",
       "\t<li>0</li>\n",
       "\t<li>0</li>\n",
       "\t<li>1</li>\n",
       "\t<li>1</li>\n",
       "\t<li>0</li>\n",
       "\t<li>0</li>\n",
       "\t<li>0</li>\n",
       "\t<li>0</li>\n",
       "\t<li>1</li>\n",
       "\t<li>0</li>\n",
       "\t<li>0</li>\n",
       "\t<li>0</li>\n",
       "\t<li>0</li>\n",
       "</ol>\n"
      ],
      "text/latex": [
       "\\begin{enumerate*}\n",
       "\\item 1\n",
       "\\item 0\n",
       "\\item 0\n",
       "\\item 0\n",
       "\\item 0\n",
       "\\item 1\n",
       "\\item 0\n",
       "\\item 0\n",
       "\\item 0\n",
       "\\item 1\n",
       "\\item 1\n",
       "\\item 0\n",
       "\\item 0\n",
       "\\item 0\n",
       "\\item 0\n",
       "\\item 1\n",
       "\\item 0\n",
       "\\item 0\n",
       "\\item 0\n",
       "\\item 0\n",
       "\\end{enumerate*}\n"
      ],
      "text/markdown": [
       "1. 1\n",
       "2. 0\n",
       "3. 0\n",
       "4. 0\n",
       "5. 0\n",
       "6. 1\n",
       "7. 0\n",
       "8. 0\n",
       "9. 0\n",
       "10. 1\n",
       "11. 1\n",
       "12. 0\n",
       "13. 0\n",
       "14. 0\n",
       "15. 0\n",
       "16. 1\n",
       "17. 0\n",
       "18. 0\n",
       "19. 0\n",
       "20. 0\n",
       "\n",
       "\n"
      ],
      "text/plain": [
       " [1] 1 0 0 0 0 1 0 0 0 1 1 0 0 0 0 1 0 0 0 0"
      ]
     },
     "metadata": {},
     "output_type": "display_data"
    },
    {
     "data": {
      "text/html": [
       "<ol class=list-inline>\n",
       "\t<li>0</li>\n",
       "\t<li>0</li>\n",
       "\t<li>1</li>\n",
       "\t<li>0</li>\n",
       "\t<li>0</li>\n",
       "\t<li>1</li>\n",
       "\t<li>0</li>\n",
       "\t<li>1</li>\n",
       "\t<li>0</li>\n",
       "\t<li>1</li>\n",
       "\t<li>0</li>\n",
       "\t<li>0</li>\n",
       "\t<li>0</li>\n",
       "\t<li>1</li>\n",
       "\t<li>0</li>\n",
       "\t<li>1</li>\n",
       "\t<li>1</li>\n",
       "\t<li>1</li>\n",
       "\t<li>0</li>\n",
       "\t<li>0</li>\n",
       "</ol>\n"
      ],
      "text/latex": [
       "\\begin{enumerate*}\n",
       "\\item 0\n",
       "\\item 0\n",
       "\\item 1\n",
       "\\item 0\n",
       "\\item 0\n",
       "\\item 1\n",
       "\\item 0\n",
       "\\item 1\n",
       "\\item 0\n",
       "\\item 1\n",
       "\\item 0\n",
       "\\item 0\n",
       "\\item 0\n",
       "\\item 1\n",
       "\\item 0\n",
       "\\item 1\n",
       "\\item 1\n",
       "\\item 1\n",
       "\\item 0\n",
       "\\item 0\n",
       "\\end{enumerate*}\n"
      ],
      "text/markdown": [
       "1. 0\n",
       "2. 0\n",
       "3. 1\n",
       "4. 0\n",
       "5. 0\n",
       "6. 1\n",
       "7. 0\n",
       "8. 1\n",
       "9. 0\n",
       "10. 1\n",
       "11. 0\n",
       "12. 0\n",
       "13. 0\n",
       "14. 1\n",
       "15. 0\n",
       "16. 1\n",
       "17. 1\n",
       "18. 1\n",
       "19. 0\n",
       "20. 0\n",
       "\n",
       "\n"
      ],
      "text/plain": [
       " [1] 0 0 1 0 0 1 0 1 0 1 0 0 0 1 0 1 1 1 0 0"
      ]
     },
     "metadata": {},
     "output_type": "display_data"
    },
    {
     "data": {
      "text/html": [
       "<table>\n",
       "<caption>A matrix: 1 × 1 of type dbl</caption>\n",
       "<tbody>\n",
       "\t<tr><td>0.4743416</td></tr>\n",
       "</tbody>\n",
       "</table>\n"
      ],
      "text/latex": [
       "A matrix: 1 × 1 of type dbl\n",
       "\\begin{tabular}{l}\n",
       "\t 0.4743416\\\\\n",
       "\\end{tabular}\n"
      ],
      "text/markdown": [
       "\n",
       "A matrix: 1 × 1 of type dbl\n",
       "\n",
       "| 0.4743416 |\n",
       "\n"
      ],
      "text/plain": [
       "     [,1]     \n",
       "[1,] 0.4743416"
      ]
     },
     "metadata": {},
     "output_type": "display_data"
    }
   ],
   "source": [
    "# try an example from our data\n",
    "as.numeric(viewed_movies[1,]) # user 1's viewing history\n",
    "as.numeric(viewed_movies[2,]) # user 2's viewing history\n",
    "cosine_sim(viewed_movies[1,], viewed_movies[2,])"
   ]
  },
  {
   "cell_type": "markdown",
   "metadata": {},
   "source": [
    "Let's get similarities between user pairs. We'll do this with a loop below, because its easier to see what's going, but this will be inefficient and very slow for bigger datasets. As an exercise, see if you can do the same without loops."
   ]
  },
  {
   "cell_type": "code",
   "execution_count": 94,
   "metadata": {},
   "outputs": [],
   "source": [
    "user_similarities = matrix(0, nrow = 15, ncol = 15)\n",
    "for(i in 1:14){\n",
    "  for(j in (i+1):15){\n",
    "    user_similarities[i,j] <- cosine_sim(viewed_movies[i,], viewed_movies[j,])\n",
    "  }\n",
    "}\n",
    "user_similarities <- user_similarities + t(user_similarities)\n",
    "diag(user_similarities) <- 0\n",
    "row.names(user_similarities) <- row.names(viewed_movies)\n",
    "colnames(user_similarities) <- row.names(viewed_movies)"
   ]
  },
  {
   "cell_type": "code",
   "execution_count": 95,
   "metadata": {},
   "outputs": [
    {
     "data": {
      "text/html": [
       "<dl class=dl-horizontal>\n",
       "\t<dt>149</dt>\n",
       "\t\t<dd>0</dd>\n",
       "\t<dt>177</dt>\n",
       "\t\t<dd>0.474341649025257</dd>\n",
       "\t<dt>200</dt>\n",
       "\t\t<dd>0.547722557505166</dd>\n",
       "\t<dt>236</dt>\n",
       "\t\t<dd>0</dd>\n",
       "\t<dt>240</dt>\n",
       "\t\t<dd>0</dd>\n",
       "\t<dt>270</dt>\n",
       "\t\t<dd>0.2</dd>\n",
       "\t<dt>287</dt>\n",
       "\t\t<dd>0.182574185835055</dd>\n",
       "\t<dt>295</dt>\n",
       "\t\t<dd>0.14142135623731</dd>\n",
       "\t<dt>303</dt>\n",
       "\t\t<dd>0.74535599249993</dd>\n",
       "\t<dt>408</dt>\n",
       "\t\t<dd>0.474341649025257</dd>\n",
       "\t<dt>426</dt>\n",
       "\t\t<dd>0.365148371670111</dd>\n",
       "\t<dt>442</dt>\n",
       "\t\t<dd>0.269679944985297</dd>\n",
       "\t<dt>500</dt>\n",
       "\t\t<dd>0.365148371670111</dd>\n",
       "\t<dt>522</dt>\n",
       "\t\t<dd>0.338061701891407</dd>\n",
       "\t<dt>562</dt>\n",
       "\t\t<dd>0.149071198499986</dd>\n",
       "</dl>\n"
      ],
      "text/latex": [
       "\\begin{description*}\n",
       "\\item[149] 0\n",
       "\\item[177] 0.474341649025257\n",
       "\\item[200] 0.547722557505166\n",
       "\\item[236] 0\n",
       "\\item[240] 0\n",
       "\\item[270] 0.2\n",
       "\\item[287] 0.182574185835055\n",
       "\\item[295] 0.14142135623731\n",
       "\\item[303] 0.74535599249993\n",
       "\\item[408] 0.474341649025257\n",
       "\\item[426] 0.365148371670111\n",
       "\\item[442] 0.269679944985297\n",
       "\\item[500] 0.365148371670111\n",
       "\\item[522] 0.338061701891407\n",
       "\\item[562] 0.149071198499986\n",
       "\\end{description*}\n"
      ],
      "text/markdown": [
       "149\n",
       ":   0177\n",
       ":   0.474341649025257200\n",
       ":   0.547722557505166236\n",
       ":   0240\n",
       ":   0270\n",
       ":   0.2287\n",
       ":   0.182574185835055295\n",
       ":   0.14142135623731303\n",
       ":   0.74535599249993408\n",
       ":   0.474341649025257426\n",
       ":   0.365148371670111442\n",
       ":   0.269679944985297500\n",
       ":   0.365148371670111522\n",
       ":   0.338061701891407562\n",
       ":   0.149071198499986\n",
       "\n"
      ],
      "text/plain": [
       "      149       177       200       236       240       270       287       295 \n",
       "0.0000000 0.4743416 0.5477226 0.0000000 0.0000000 0.2000000 0.1825742 0.1414214 \n",
       "      303       408       426       442       500       522       562 \n",
       "0.7453560 0.4743416 0.3651484 0.2696799 0.3651484 0.3380617 0.1490712 "
      ]
     },
     "metadata": {},
     "output_type": "display_data"
    }
   ],
   "source": [
    "# who are the most similar users to user 149?\n",
    "user_similarities[\"149\",]"
   ]
  },
  {
   "cell_type": "markdown",
   "metadata": {},
   "source": [
    "Let's see if this makes sense from the viewing histories. Below we show user 149's history, together with the user who is most similar to user 149 (user 303) and another user who is very dissimilar (user 236)."
   ]
  },
  {
   "cell_type": "code",
   "execution_count": null,
   "metadata": {},
   "outputs": [],
   "source": [
    "viewed_movies[c(\"149\",\"303\",\"236\"),]\n",
    "\n",
    "# extract the movie titles each user has seen \n",
    "colnames(viewed_movies)[viewed_movies[\"149\",] == 1]\n",
    "colnames(viewed_movies)[viewed_movies[\"303\",] == 1]\n",
    "colnames(viewed_movies)[viewed_movies[\"236\",] == 1]\n",
    "\n",
    "# here's a better way to extract movie titles\n",
    "ratings_red %>% filter(userId == 236) %>% select(userId, title)"
   ]
  },
  {
   "cell_type": "markdown",
   "metadata": {},
   "source": [
    "### Recommending movies for a single user"
   ]
  },
  {
   "cell_type": "markdown",
   "metadata": {},
   "source": [
    "As an example, let's consider the process of recommending a movie to one user, say user 149. How would we do this with a user-based collaborative filtering system? \n",
    "\n",
    "First, we need to know what movies have they already seen (so we don't recommend these)."
   ]
  },
  {
   "cell_type": "code",
   "execution_count": 96,
   "metadata": {},
   "outputs": [
    {
     "data": {
      "text/html": [
       "<dl class=dl-horizontal>\n",
       "\t<dt>American Pie (1999)</dt>\n",
       "\t\t<dd>1</dd>\n",
       "\t<dt>Apocalypse Now (1979)</dt>\n",
       "\t\t<dd>0</dd>\n",
       "\t<dt>Armageddon (1998)</dt>\n",
       "\t\t<dd>0</dd>\n",
       "\t<dt>Austin Powers: The Spy Who Shagged Me (1999)</dt>\n",
       "\t\t<dd>0</dd>\n",
       "\t<dt>Beautiful Mind, A (2001)</dt>\n",
       "\t\t<dd>0</dd>\n",
       "\t<dt>Breakfast Club, The (1985)</dt>\n",
       "\t\t<dd>1</dd>\n",
       "\t<dt>Casablanca (1942)</dt>\n",
       "\t\t<dd>0</dd>\n",
       "\t<dt>Clear and Present Danger (1994)</dt>\n",
       "\t\t<dd>0</dd>\n",
       "\t<dt>Crouching Tiger, Hidden Dragon (Wo hu cang long) (2000)</dt>\n",
       "\t\t<dd>0</dd>\n",
       "\t<dt>Fifth Element, The (1997)</dt>\n",
       "\t\t<dd>1</dd>\n",
       "\t<dt>Inception (2010)</dt>\n",
       "\t\t<dd>1</dd>\n",
       "\t<dt>Kill Bill: Vol. 1 (2003)</dt>\n",
       "\t\t<dd>0</dd>\n",
       "\t<dt>Minority Report (2002)</dt>\n",
       "\t\t<dd>0</dd>\n",
       "\t<dt>Outbreak (1995)</dt>\n",
       "\t\t<dd>0</dd>\n",
       "\t<dt>Rain Man (1988)</dt>\n",
       "\t\t<dd>0</dd>\n",
       "\t<dt>Stand by Me (1986)</dt>\n",
       "\t\t<dd>1</dd>\n",
       "\t<dt>Star Trek: Generations (1994)</dt>\n",
       "\t\t<dd>0</dd>\n",
       "\t<dt>Taxi Driver (1976)</dt>\n",
       "\t\t<dd>0</dd>\n",
       "\t<dt>Waterworld (1995)</dt>\n",
       "\t\t<dd>0</dd>\n",
       "\t<dt>Wizard of Oz, The (1939)</dt>\n",
       "\t\t<dd>0</dd>\n",
       "</dl>\n"
      ],
      "text/latex": [
       "\\begin{description*}\n",
       "\\item[American Pie (1999)] 1\n",
       "\\item[Apocalypse Now (1979)] 0\n",
       "\\item[Armageddon (1998)] 0\n",
       "\\item[Austin Powers: The Spy Who Shagged Me (1999)] 0\n",
       "\\item[Beautiful Mind, A (2001)] 0\n",
       "\\item[Breakfast Club, The (1985)] 1\n",
       "\\item[Casablanca (1942)] 0\n",
       "\\item[Clear and Present Danger (1994)] 0\n",
       "\\item[Crouching Tiger, Hidden Dragon (Wo hu cang long) (2000)] 0\n",
       "\\item[Fifth Element, The (1997)] 1\n",
       "\\item[Inception (2010)] 1\n",
       "\\item[Kill Bill: Vol. 1 (2003)] 0\n",
       "\\item[Minority Report (2002)] 0\n",
       "\\item[Outbreak (1995)] 0\n",
       "\\item[Rain Man (1988)] 0\n",
       "\\item[Stand by Me (1986)] 1\n",
       "\\item[Star Trek: Generations (1994)] 0\n",
       "\\item[Taxi Driver (1976)] 0\n",
       "\\item[Waterworld (1995)] 0\n",
       "\\item[Wizard of Oz, The (1939)] 0\n",
       "\\end{description*}\n"
      ],
      "text/markdown": [
       "American Pie (1999)\n",
       ":   1Apocalypse Now (1979)\n",
       ":   0Armageddon (1998)\n",
       ":   0Austin Powers: The Spy Who Shagged Me (1999)\n",
       ":   0Beautiful Mind, A (2001)\n",
       ":   0Breakfast Club, The (1985)\n",
       ":   1Casablanca (1942)\n",
       ":   0Clear and Present Danger (1994)\n",
       ":   0Crouching Tiger, Hidden Dragon (Wo hu cang long) (2000)\n",
       ":   0Fifth Element, The (1997)\n",
       ":   1Inception (2010)\n",
       ":   1Kill Bill: Vol. 1 (2003)\n",
       ":   0Minority Report (2002)\n",
       ":   0Outbreak (1995)\n",
       ":   0Rain Man (1988)\n",
       ":   0Stand by Me (1986)\n",
       ":   1Star Trek: Generations (1994)\n",
       ":   0Taxi Driver (1976)\n",
       ":   0Waterworld (1995)\n",
       ":   0Wizard of Oz, The (1939)\n",
       ":   0\n",
       "\n"
      ],
      "text/plain": [
       "                                    American Pie (1999) \n",
       "                                                      1 \n",
       "                                  Apocalypse Now (1979) \n",
       "                                                      0 \n",
       "                                      Armageddon (1998) \n",
       "                                                      0 \n",
       "           Austin Powers: The Spy Who Shagged Me (1999) \n",
       "                                                      0 \n",
       "                               Beautiful Mind, A (2001) \n",
       "                                                      0 \n",
       "                             Breakfast Club, The (1985) \n",
       "                                                      1 \n",
       "                                      Casablanca (1942) \n",
       "                                                      0 \n",
       "                        Clear and Present Danger (1994) \n",
       "                                                      0 \n",
       "Crouching Tiger, Hidden Dragon (Wo hu cang long) (2000) \n",
       "                                                      0 \n",
       "                              Fifth Element, The (1997) \n",
       "                                                      1 \n",
       "                                       Inception (2010) \n",
       "                                                      1 \n",
       "                               Kill Bill: Vol. 1 (2003) \n",
       "                                                      0 \n",
       "                                 Minority Report (2002) \n",
       "                                                      0 \n",
       "                                        Outbreak (1995) \n",
       "                                                      0 \n",
       "                                        Rain Man (1988) \n",
       "                                                      0 \n",
       "                                     Stand by Me (1986) \n",
       "                                                      1 \n",
       "                          Star Trek: Generations (1994) \n",
       "                                                      0 \n",
       "                                     Taxi Driver (1976) \n",
       "                                                      0 \n",
       "                                      Waterworld (1995) \n",
       "                                                      0 \n",
       "                               Wizard of Oz, The (1939) \n",
       "                                                      0 "
      ]
     },
     "metadata": {},
     "output_type": "display_data"
    }
   ],
   "source": [
    "viewed_movies[\"149\",]"
   ]
  },
  {
   "cell_type": "markdown",
   "metadata": {},
   "source": [
    "The basic idea is now to recommend what's popular by adding up the number of users that have seen each movie, but *to weight each user by their similarity to user 149*. \n",
    "\n",
    "Let's work through the calculations for one movie, say Apocalypse Now (movie 2). The table below shows who's seen Apocalypse Now, and how similar each person is to user 149."
   ]
  },
  {
   "cell_type": "code",
   "execution_count": 97,
   "metadata": {},
   "outputs": [
    {
     "data": {
      "text/html": [
       "<table>\n",
       "<caption>A matrix: 15 × 2 of type dbl</caption>\n",
       "<thead>\n",
       "\t<tr><th></th><th scope=col>seen_movie</th><th scope=col>sim_to_user</th></tr>\n",
       "</thead>\n",
       "<tbody>\n",
       "\t<tr><th scope=row>149</th><td>0</td><td>0.0000000</td></tr>\n",
       "\t<tr><th scope=row>177</th><td>0</td><td>0.4743416</td></tr>\n",
       "\t<tr><th scope=row>200</th><td>0</td><td>0.5477226</td></tr>\n",
       "\t<tr><th scope=row>236</th><td>1</td><td>0.0000000</td></tr>\n",
       "\t<tr><th scope=row>240</th><td>0</td><td>0.0000000</td></tr>\n",
       "\t<tr><th scope=row>270</th><td>1</td><td>0.2000000</td></tr>\n",
       "\t<tr><th scope=row>287</th><td>0</td><td>0.1825742</td></tr>\n",
       "\t<tr><th scope=row>295</th><td>0</td><td>0.1414214</td></tr>\n",
       "\t<tr><th scope=row>303</th><td>0</td><td>0.7453560</td></tr>\n",
       "\t<tr><th scope=row>408</th><td>1</td><td>0.4743416</td></tr>\n",
       "\t<tr><th scope=row>426</th><td>0</td><td>0.3651484</td></tr>\n",
       "\t<tr><th scope=row>442</th><td>1</td><td>0.2696799</td></tr>\n",
       "\t<tr><th scope=row>500</th><td>0</td><td>0.3651484</td></tr>\n",
       "\t<tr><th scope=row>522</th><td>1</td><td>0.3380617</td></tr>\n",
       "\t<tr><th scope=row>562</th><td>1</td><td>0.1490712</td></tr>\n",
       "</tbody>\n",
       "</table>\n"
      ],
      "text/latex": [
       "A matrix: 15 × 2 of type dbl\n",
       "\\begin{tabular}{r|ll}\n",
       "  & seen\\_movie & sim\\_to\\_user\\\\\n",
       "\\hline\n",
       "\t149 & 0 & 0.0000000\\\\\n",
       "\t177 & 0 & 0.4743416\\\\\n",
       "\t200 & 0 & 0.5477226\\\\\n",
       "\t236 & 1 & 0.0000000\\\\\n",
       "\t240 & 0 & 0.0000000\\\\\n",
       "\t270 & 1 & 0.2000000\\\\\n",
       "\t287 & 0 & 0.1825742\\\\\n",
       "\t295 & 0 & 0.1414214\\\\\n",
       "\t303 & 0 & 0.7453560\\\\\n",
       "\t408 & 1 & 0.4743416\\\\\n",
       "\t426 & 0 & 0.3651484\\\\\n",
       "\t442 & 1 & 0.2696799\\\\\n",
       "\t500 & 0 & 0.3651484\\\\\n",
       "\t522 & 1 & 0.3380617\\\\\n",
       "\t562 & 1 & 0.1490712\\\\\n",
       "\\end{tabular}\n"
      ],
      "text/markdown": [
       "\n",
       "A matrix: 15 × 2 of type dbl\n",
       "\n",
       "| <!--/--> | seen_movie | sim_to_user |\n",
       "|---|---|---|\n",
       "| 149 | 0 | 0.0000000 |\n",
       "| 177 | 0 | 0.4743416 |\n",
       "| 200 | 0 | 0.5477226 |\n",
       "| 236 | 1 | 0.0000000 |\n",
       "| 240 | 0 | 0.0000000 |\n",
       "| 270 | 1 | 0.2000000 |\n",
       "| 287 | 0 | 0.1825742 |\n",
       "| 295 | 0 | 0.1414214 |\n",
       "| 303 | 0 | 0.7453560 |\n",
       "| 408 | 1 | 0.4743416 |\n",
       "| 426 | 0 | 0.3651484 |\n",
       "| 442 | 1 | 0.2696799 |\n",
       "| 500 | 0 | 0.3651484 |\n",
       "| 522 | 1 | 0.3380617 |\n",
       "| 562 | 1 | 0.1490712 |\n",
       "\n"
      ],
      "text/plain": [
       "    seen_movie sim_to_user\n",
       "149 0          0.0000000  \n",
       "177 0          0.4743416  \n",
       "200 0          0.5477226  \n",
       "236 1          0.0000000  \n",
       "240 0          0.0000000  \n",
       "270 1          0.2000000  \n",
       "287 0          0.1825742  \n",
       "295 0          0.1414214  \n",
       "303 0          0.7453560  \n",
       "408 1          0.4743416  \n",
       "426 0          0.3651484  \n",
       "442 1          0.2696799  \n",
       "500 0          0.3651484  \n",
       "522 1          0.3380617  \n",
       "562 1          0.1490712  "
      ]
     },
     "metadata": {},
     "output_type": "display_data"
    }
   ],
   "source": [
    "seen_movie <- viewed_movies[,\"Apocalypse Now (1979)\"]\n",
    "sim_to_user <- user_similarities[\"149\",]\n",
    "cbind(seen_movie,sim_to_user)"
   ]
  },
  {
   "cell_type": "markdown",
   "metadata": {},
   "source": [
    "The basic idea in user-based collaborative filtering is that user 236's vote counts less than user 408's, because user 408 is more similar to user 149 (in terms of viewing history). \n",
    "\n",
    "Note that this only means user 236 counts more in the context of making recommendations to user 149. When recommending to users *other than user 149*, user 408 may carry more weight.\n",
    "\n",
    "We can now work out an overall recommendation score for Apocalypse Now by multiplying together the two elements in each row of the table above, and summing these products (taking the dot product):"
   ]
  },
  {
   "cell_type": "code",
   "execution_count": 117,
   "metadata": {},
   "outputs": [
    {
     "data": {
      "text/html": [
       "1.43115449440195"
      ],
      "text/latex": [
       "1.43115449440195"
      ],
      "text/markdown": [
       "1.43115449440195"
      ],
      "text/plain": [
       "[1] 1.431154"
      ]
     },
     "metadata": {},
     "output_type": "display_data"
    }
   ],
   "source": [
    "# overall score for Apocalypse now\n",
    "sum(viewed_movies[,\"Apocalypse Now (1979)\"] * user_similarities[\"149\",])"
   ]
  },
  {
   "cell_type": "markdown",
   "metadata": {},
   "source": [
    "Note this score will increase with (a) the number of people who've seen the movie (more 1's in the first column above) and (b) if the people who've seen it are similar to user 1\n",
    "\n",
    "Let's repeat this calculation for all movies and compare recommendation scores:"
   ]
  },
  {
   "cell_type": "code",
   "execution_count": 99,
   "metadata": {},
   "outputs": [
    {
     "data": {
      "text/html": [
       "<table>\n",
       "<caption>A matrix: 1 × 20 of type dbl</caption>\n",
       "<thead>\n",
       "\t<tr><th scope=col>American Pie (1999)</th><th scope=col>Apocalypse Now (1979)</th><th scope=col>Armageddon (1998)</th><th scope=col>Austin Powers: The Spy Who Shagged Me (1999)</th><th scope=col>Beautiful Mind, A (2001)</th><th scope=col>Breakfast Club, The (1985)</th><th scope=col>Casablanca (1942)</th><th scope=col>Clear and Present Danger (1994)</th><th scope=col>Crouching Tiger, Hidden Dragon (Wo hu cang long) (2000)</th><th scope=col>Fifth Element, The (1997)</th><th scope=col>Inception (2010)</th><th scope=col>Kill Bill: Vol. 1 (2003)</th><th scope=col>Minority Report (2002)</th><th scope=col>Outbreak (1995)</th><th scope=col>Rain Man (1988)</th><th scope=col>Stand by Me (1986)</th><th scope=col>Star Trek: Generations (1994)</th><th scope=col>Taxi Driver (1976)</th><th scope=col>Waterworld (1995)</th><th scope=col>Wizard of Oz, The (1939)</th></tr>\n",
       "</thead>\n",
       "<tbody>\n",
       "\t<tr><td>2.780188</td><td>1.431154</td><td>2.800941</td><td>1.258241</td><td>2.972538</td><td>2.328868</td><td>0.1414214</td><td>0.7440216</td><td>0.4730667</td><td>2.383183</td><td>2.378863</td><td>2.208739</td><td>1.220789</td><td>0.7648342</td><td>2.334009</td><td>1.694039</td><td>1.022064</td><td>0.4743416</td><td>0.5601725</td><td>2.178522</td></tr>\n",
       "</tbody>\n",
       "</table>\n"
      ],
      "text/latex": [
       "A matrix: 1 × 20 of type dbl\n",
       "\\begin{tabular}{llllllllllllllllllll}\n",
       " American Pie (1999) & Apocalypse Now (1979) & Armageddon (1998) & Austin Powers: The Spy Who Shagged Me (1999) & Beautiful Mind, A (2001) & Breakfast Club, The (1985) & Casablanca (1942) & Clear and Present Danger (1994) & Crouching Tiger, Hidden Dragon (Wo hu cang long) (2000) & Fifth Element, The (1997) & Inception (2010) & Kill Bill: Vol. 1 (2003) & Minority Report (2002) & Outbreak (1995) & Rain Man (1988) & Stand by Me (1986) & Star Trek: Generations (1994) & Taxi Driver (1976) & Waterworld (1995) & Wizard of Oz, The (1939)\\\\\n",
       "\\hline\n",
       "\t 2.780188 & 1.431154 & 2.800941 & 1.258241 & 2.972538 & 2.328868 & 0.1414214 & 0.7440216 & 0.4730667 & 2.383183 & 2.378863 & 2.208739 & 1.220789 & 0.7648342 & 2.334009 & 1.694039 & 1.022064 & 0.4743416 & 0.5601725 & 2.178522\\\\\n",
       "\\end{tabular}\n"
      ],
      "text/markdown": [
       "\n",
       "A matrix: 1 × 20 of type dbl\n",
       "\n",
       "| American Pie (1999) | Apocalypse Now (1979) | Armageddon (1998) | Austin Powers: The Spy Who Shagged Me (1999) | Beautiful Mind, A (2001) | Breakfast Club, The (1985) | Casablanca (1942) | Clear and Present Danger (1994) | Crouching Tiger, Hidden Dragon (Wo hu cang long) (2000) | Fifth Element, The (1997) | Inception (2010) | Kill Bill: Vol. 1 (2003) | Minority Report (2002) | Outbreak (1995) | Rain Man (1988) | Stand by Me (1986) | Star Trek: Generations (1994) | Taxi Driver (1976) | Waterworld (1995) | Wizard of Oz, The (1939) |\n",
       "|---|---|---|---|---|---|---|---|---|---|---|---|---|---|---|---|---|---|---|---|\n",
       "| 2.780188 | 1.431154 | 2.800941 | 1.258241 | 2.972538 | 2.328868 | 0.1414214 | 0.7440216 | 0.4730667 | 2.383183 | 2.378863 | 2.208739 | 1.220789 | 0.7648342 | 2.334009 | 1.694039 | 1.022064 | 0.4743416 | 0.5601725 | 2.178522 |\n",
       "\n"
      ],
      "text/plain": [
       "     American Pie (1999) Apocalypse Now (1979) Armageddon (1998)\n",
       "[1,] 2.780188            1.431154              2.800941         \n",
       "     Austin Powers: The Spy Who Shagged Me (1999) Beautiful Mind, A (2001)\n",
       "[1,] 1.258241                                     2.972538                \n",
       "     Breakfast Club, The (1985) Casablanca (1942)\n",
       "[1,] 2.328868                   0.1414214        \n",
       "     Clear and Present Danger (1994)\n",
       "[1,] 0.7440216                      \n",
       "     Crouching Tiger, Hidden Dragon (Wo hu cang long) (2000)\n",
       "[1,] 0.4730667                                              \n",
       "     Fifth Element, The (1997) Inception (2010) Kill Bill: Vol. 1 (2003)\n",
       "[1,] 2.383183                  2.378863         2.208739                \n",
       "     Minority Report (2002) Outbreak (1995) Rain Man (1988) Stand by Me (1986)\n",
       "[1,] 1.220789               0.7648342       2.334009        1.694039          \n",
       "     Star Trek: Generations (1994) Taxi Driver (1976) Waterworld (1995)\n",
       "[1,] 1.022064                      0.4743416          0.5601725        \n",
       "     Wizard of Oz, The (1939)\n",
       "[1,] 2.178522                "
      ]
     },
     "metadata": {},
     "output_type": "display_data"
    }
   ],
   "source": [
    "user_similarities[\"149\",] %*% viewed_movies"
   ]
  },
  {
   "cell_type": "markdown",
   "metadata": {},
   "source": [
    "To come up with a final recommendation, we just need to remember to remove movies user 149 has already seen, and sort the remaining movies in descending order of recommendation score.\n",
    "\n",
    "We do that below, after tidying up the results a bit by putting them in a data frame."
   ]
  },
  {
   "cell_type": "code",
   "execution_count": 100,
   "metadata": {},
   "outputs": [
    {
     "data": {
      "text/html": [
       "<table>\n",
       "<caption>A data.frame: 15 × 3</caption>\n",
       "<thead>\n",
       "\t<tr><th scope=col>title</th><th scope=col>score</th><th scope=col>seen</th></tr>\n",
       "\t<tr><th scope=col>&lt;fct&gt;</th><th scope=col>&lt;dbl&gt;</th><th scope=col>&lt;dbl&gt;</th></tr>\n",
       "</thead>\n",
       "<tbody>\n",
       "\t<tr><td>Beautiful Mind, A (2001)                               </td><td>2.9725383</td><td>0</td></tr>\n",
       "\t<tr><td>Armageddon (1998)                                      </td><td>2.8009413</td><td>0</td></tr>\n",
       "\t<tr><td>Rain Man (1988)                                        </td><td>2.3340090</td><td>0</td></tr>\n",
       "\t<tr><td>Kill Bill: Vol. 1 (2003)                               </td><td>2.2087386</td><td>0</td></tr>\n",
       "\t<tr><td>Wizard of Oz, The (1939)                               </td><td>2.1785215</td><td>0</td></tr>\n",
       "\t<tr><td>Apocalypse Now (1979)                                  </td><td>1.4311545</td><td>0</td></tr>\n",
       "\t<tr><td>Austin Powers: The Spy Who Shagged Me (1999)           </td><td>1.2582412</td><td>0</td></tr>\n",
       "\t<tr><td>Minority Report (2002)                                 </td><td>1.2207893</td><td>0</td></tr>\n",
       "\t<tr><td>Star Trek: Generations (1994)                          </td><td>1.0220642</td><td>0</td></tr>\n",
       "\t<tr><td>Outbreak (1995)                                        </td><td>0.7648342</td><td>0</td></tr>\n",
       "\t<tr><td>Clear and Present Danger (1994)                        </td><td>0.7440216</td><td>0</td></tr>\n",
       "\t<tr><td>Waterworld (1995)                                      </td><td>0.5601725</td><td>0</td></tr>\n",
       "\t<tr><td>Taxi Driver (1976)                                     </td><td>0.4743416</td><td>0</td></tr>\n",
       "\t<tr><td>Crouching Tiger, Hidden Dragon (Wo hu cang long) (2000)</td><td>0.4730667</td><td>0</td></tr>\n",
       "\t<tr><td>Casablanca (1942)                                      </td><td>0.1414214</td><td>0</td></tr>\n",
       "</tbody>\n",
       "</table>\n"
      ],
      "text/latex": [
       "A data.frame: 15 × 3\n",
       "\\begin{tabular}{r|lll}\n",
       " title & score & seen\\\\\n",
       " <fct> & <dbl> & <dbl>\\\\\n",
       "\\hline\n",
       "\t Beautiful Mind, A (2001)                                & 2.9725383 & 0\\\\\n",
       "\t Armageddon (1998)                                       & 2.8009413 & 0\\\\\n",
       "\t Rain Man (1988)                                         & 2.3340090 & 0\\\\\n",
       "\t Kill Bill: Vol. 1 (2003)                                & 2.2087386 & 0\\\\\n",
       "\t Wizard of Oz, The (1939)                                & 2.1785215 & 0\\\\\n",
       "\t Apocalypse Now (1979)                                   & 1.4311545 & 0\\\\\n",
       "\t Austin Powers: The Spy Who Shagged Me (1999)            & 1.2582412 & 0\\\\\n",
       "\t Minority Report (2002)                                  & 1.2207893 & 0\\\\\n",
       "\t Star Trek: Generations (1994)                           & 1.0220642 & 0\\\\\n",
       "\t Outbreak (1995)                                         & 0.7648342 & 0\\\\\n",
       "\t Clear and Present Danger (1994)                         & 0.7440216 & 0\\\\\n",
       "\t Waterworld (1995)                                       & 0.5601725 & 0\\\\\n",
       "\t Taxi Driver (1976)                                      & 0.4743416 & 0\\\\\n",
       "\t Crouching Tiger, Hidden Dragon (Wo hu cang long) (2000) & 0.4730667 & 0\\\\\n",
       "\t Casablanca (1942)                                       & 0.1414214 & 0\\\\\n",
       "\\end{tabular}\n"
      ],
      "text/markdown": [
       "\n",
       "A data.frame: 15 × 3\n",
       "\n",
       "| title &lt;fct&gt; | score &lt;dbl&gt; | seen &lt;dbl&gt; |\n",
       "|---|---|---|\n",
       "| Beautiful Mind, A (2001)                                | 2.9725383 | 0 |\n",
       "| Armageddon (1998)                                       | 2.8009413 | 0 |\n",
       "| Rain Man (1988)                                         | 2.3340090 | 0 |\n",
       "| Kill Bill: Vol. 1 (2003)                                | 2.2087386 | 0 |\n",
       "| Wizard of Oz, The (1939)                                | 2.1785215 | 0 |\n",
       "| Apocalypse Now (1979)                                   | 1.4311545 | 0 |\n",
       "| Austin Powers: The Spy Who Shagged Me (1999)            | 1.2582412 | 0 |\n",
       "| Minority Report (2002)                                  | 1.2207893 | 0 |\n",
       "| Star Trek: Generations (1994)                           | 1.0220642 | 0 |\n",
       "| Outbreak (1995)                                         | 0.7648342 | 0 |\n",
       "| Clear and Present Danger (1994)                         | 0.7440216 | 0 |\n",
       "| Waterworld (1995)                                       | 0.5601725 | 0 |\n",
       "| Taxi Driver (1976)                                      | 0.4743416 | 0 |\n",
       "| Crouching Tiger, Hidden Dragon (Wo hu cang long) (2000) | 0.4730667 | 0 |\n",
       "| Casablanca (1942)                                       | 0.1414214 | 0 |\n",
       "\n"
      ],
      "text/plain": [
       "   title                                                   score     seen\n",
       "1  Beautiful Mind, A (2001)                                2.9725383 0   \n",
       "2  Armageddon (1998)                                       2.8009413 0   \n",
       "3  Rain Man (1988)                                         2.3340090 0   \n",
       "4  Kill Bill: Vol. 1 (2003)                                2.2087386 0   \n",
       "5  Wizard of Oz, The (1939)                                2.1785215 0   \n",
       "6  Apocalypse Now (1979)                                   1.4311545 0   \n",
       "7  Austin Powers: The Spy Who Shagged Me (1999)            1.2582412 0   \n",
       "8  Minority Report (2002)                                  1.2207893 0   \n",
       "9  Star Trek: Generations (1994)                           1.0220642 0   \n",
       "10 Outbreak (1995)                                         0.7648342 0   \n",
       "11 Clear and Present Danger (1994)                         0.7440216 0   \n",
       "12 Waterworld (1995)                                       0.5601725 0   \n",
       "13 Taxi Driver (1976)                                      0.4743416 0   \n",
       "14 Crouching Tiger, Hidden Dragon (Wo hu cang long) (2000) 0.4730667 0   \n",
       "15 Casablanca (1942)                                       0.1414214 0   "
      ]
     },
     "metadata": {},
     "output_type": "display_data"
    }
   ],
   "source": [
    "user_scores <- data.frame(title = colnames(viewed_movies), \n",
    "                          score = as.vector(user_similarities[\"149\",] %*% viewed_movies), \n",
    "                          seen = viewed_movies[\"149\",])\n",
    "user_scores %>% filter(seen == 0) %>% arrange(desc(score)) "
   ]
  },
  {
   "cell_type": "markdown",
   "metadata": {},
   "source": [
    "Now that we've understood the calculations, let's get recommendations for one more user, 236:"
   ]
  },
  {
   "cell_type": "code",
   "execution_count": 110,
   "metadata": {},
   "outputs": [
    {
     "data": {
      "text/html": [
       "<ol class=list-inline>\n",
       "\t<li>'Apocalypse Now (1979)'</li>\n",
       "\t<li>'Casablanca (1942)'</li>\n",
       "\t<li>'Crouching Tiger, Hidden Dragon (Wo hu cang long) (2000)'</li>\n",
       "\t<li>'Taxi Driver (1976)'</li>\n",
       "</ol>\n"
      ],
      "text/latex": [
       "\\begin{enumerate*}\n",
       "\\item 'Apocalypse Now (1979)'\n",
       "\\item 'Casablanca (1942)'\n",
       "\\item 'Crouching Tiger, Hidden Dragon (Wo hu cang long) (2000)'\n",
       "\\item 'Taxi Driver (1976)'\n",
       "\\end{enumerate*}\n"
      ],
      "text/markdown": [
       "1. 'Apocalypse Now (1979)'\n",
       "2. 'Casablanca (1942)'\n",
       "3. 'Crouching Tiger, Hidden Dragon (Wo hu cang long) (2000)'\n",
       "4. 'Taxi Driver (1976)'\n",
       "\n",
       "\n"
      ],
      "text/plain": [
       "[1] \"Apocalypse Now (1979)\"                                  \n",
       "[2] \"Casablanca (1942)\"                                      \n",
       "[3] \"Crouching Tiger, Hidden Dragon (Wo hu cang long) (2000)\"\n",
       "[4] \"Taxi Driver (1976)\"                                     "
      ]
     },
     "metadata": {},
     "output_type": "display_data"
    },
    {
     "data": {
      "text/html": [
       "<table>\n",
       "<caption>A data.frame: 16 × 3</caption>\n",
       "<thead>\n",
       "\t<tr><th scope=col>title</th><th scope=col>score</th><th scope=col>seen</th></tr>\n",
       "\t<tr><th scope=col>&lt;fct&gt;</th><th scope=col>&lt;dbl&gt;</th><th scope=col>&lt;dbl&gt;</th></tr>\n",
       "</thead>\n",
       "<tbody>\n",
       "\t<tr><td>Kill Bill: Vol. 1 (2003)                    </td><td>1.6211541</td><td>0</td></tr>\n",
       "\t<tr><td>Minority Report (2002)                      </td><td>1.4855403</td><td>0</td></tr>\n",
       "\t<tr><td>Beautiful Mind, A (2001)                    </td><td>1.2878208</td><td>0</td></tr>\n",
       "\t<tr><td>Wizard of Oz, The (1939)                    </td><td>1.2561326</td><td>0</td></tr>\n",
       "\t<tr><td>Armageddon (1998)                           </td><td>1.2307488</td><td>0</td></tr>\n",
       "\t<tr><td>Rain Man (1988)                             </td><td>0.8327424</td><td>0</td></tr>\n",
       "\t<tr><td>Outbreak (1995)                             </td><td>0.8263378</td><td>0</td></tr>\n",
       "\t<tr><td>Waterworld (1995)                           </td><td>0.8003168</td><td>0</td></tr>\n",
       "\t<tr><td>American Pie (1999)                         </td><td>0.6730712</td><td>0</td></tr>\n",
       "\t<tr><td>Fifth Element, The (1997)                   </td><td>0.6697812</td><td>0</td></tr>\n",
       "\t<tr><td>Austin Powers: The Spy Who Shagged Me (1999)</td><td>0.6608657</td><td>0</td></tr>\n",
       "\t<tr><td>Inception (2010)                            </td><td>0.6167132</td><td>0</td></tr>\n",
       "\t<tr><td>Breakfast Club, The (1985)                  </td><td>0.5043091</td><td>0</td></tr>\n",
       "\t<tr><td>Star Trek: Generations (1994)               </td><td>0.3809008</td><td>0</td></tr>\n",
       "\t<tr><td>Stand by Me (1986)                          </td><td>0.3535534</td><td>0</td></tr>\n",
       "\t<tr><td>Clear and Present Danger (1994)             </td><td>0.3275324</td><td>0</td></tr>\n",
       "</tbody>\n",
       "</table>\n"
      ],
      "text/latex": [
       "A data.frame: 16 × 3\n",
       "\\begin{tabular}{r|lll}\n",
       " title & score & seen\\\\\n",
       " <fct> & <dbl> & <dbl>\\\\\n",
       "\\hline\n",
       "\t Kill Bill: Vol. 1 (2003)                     & 1.6211541 & 0\\\\\n",
       "\t Minority Report (2002)                       & 1.4855403 & 0\\\\\n",
       "\t Beautiful Mind, A (2001)                     & 1.2878208 & 0\\\\\n",
       "\t Wizard of Oz, The (1939)                     & 1.2561326 & 0\\\\\n",
       "\t Armageddon (1998)                            & 1.2307488 & 0\\\\\n",
       "\t Rain Man (1988)                              & 0.8327424 & 0\\\\\n",
       "\t Outbreak (1995)                              & 0.8263378 & 0\\\\\n",
       "\t Waterworld (1995)                            & 0.8003168 & 0\\\\\n",
       "\t American Pie (1999)                          & 0.6730712 & 0\\\\\n",
       "\t Fifth Element, The (1997)                    & 0.6697812 & 0\\\\\n",
       "\t Austin Powers: The Spy Who Shagged Me (1999) & 0.6608657 & 0\\\\\n",
       "\t Inception (2010)                             & 0.6167132 & 0\\\\\n",
       "\t Breakfast Club, The (1985)                   & 0.5043091 & 0\\\\\n",
       "\t Star Trek: Generations (1994)                & 0.3809008 & 0\\\\\n",
       "\t Stand by Me (1986)                           & 0.3535534 & 0\\\\\n",
       "\t Clear and Present Danger (1994)              & 0.3275324 & 0\\\\\n",
       "\\end{tabular}\n"
      ],
      "text/markdown": [
       "\n",
       "A data.frame: 16 × 3\n",
       "\n",
       "| title &lt;fct&gt; | score &lt;dbl&gt; | seen &lt;dbl&gt; |\n",
       "|---|---|---|\n",
       "| Kill Bill: Vol. 1 (2003)                     | 1.6211541 | 0 |\n",
       "| Minority Report (2002)                       | 1.4855403 | 0 |\n",
       "| Beautiful Mind, A (2001)                     | 1.2878208 | 0 |\n",
       "| Wizard of Oz, The (1939)                     | 1.2561326 | 0 |\n",
       "| Armageddon (1998)                            | 1.2307488 | 0 |\n",
       "| Rain Man (1988)                              | 0.8327424 | 0 |\n",
       "| Outbreak (1995)                              | 0.8263378 | 0 |\n",
       "| Waterworld (1995)                            | 0.8003168 | 0 |\n",
       "| American Pie (1999)                          | 0.6730712 | 0 |\n",
       "| Fifth Element, The (1997)                    | 0.6697812 | 0 |\n",
       "| Austin Powers: The Spy Who Shagged Me (1999) | 0.6608657 | 0 |\n",
       "| Inception (2010)                             | 0.6167132 | 0 |\n",
       "| Breakfast Club, The (1985)                   | 0.5043091 | 0 |\n",
       "| Star Trek: Generations (1994)                | 0.3809008 | 0 |\n",
       "| Stand by Me (1986)                           | 0.3535534 | 0 |\n",
       "| Clear and Present Danger (1994)              | 0.3275324 | 0 |\n",
       "\n"
      ],
      "text/plain": [
       "   title                                        score     seen\n",
       "1  Kill Bill: Vol. 1 (2003)                     1.6211541 0   \n",
       "2  Minority Report (2002)                       1.4855403 0   \n",
       "3  Beautiful Mind, A (2001)                     1.2878208 0   \n",
       "4  Wizard of Oz, The (1939)                     1.2561326 0   \n",
       "5  Armageddon (1998)                            1.2307488 0   \n",
       "6  Rain Man (1988)                              0.8327424 0   \n",
       "7  Outbreak (1995)                              0.8263378 0   \n",
       "8  Waterworld (1995)                            0.8003168 0   \n",
       "9  American Pie (1999)                          0.6730712 0   \n",
       "10 Fifth Element, The (1997)                    0.6697812 0   \n",
       "11 Austin Powers: The Spy Who Shagged Me (1999) 0.6608657 0   \n",
       "12 Inception (2010)                             0.6167132 0   \n",
       "13 Breakfast Club, The (1985)                   0.5043091 0   \n",
       "14 Star Trek: Generations (1994)                0.3809008 0   \n",
       "15 Stand by Me (1986)                           0.3535534 0   \n",
       "16 Clear and Present Danger (1994)              0.3275324 0   "
      ]
     },
     "metadata": {},
     "output_type": "display_data"
    }
   ],
   "source": [
    "# movies seen by user 236\n",
    "colnames(viewed_movies)[viewed_movies[\"236\",] == 1]\n",
    "\n",
    "# recommendations for user 236\n",
    "user_scores <- data.frame(title = colnames(viewed_movies), \n",
    "                          score = as.vector(user_similarities[\"236\",] %*% viewed_movies), \n",
    "                          seen = viewed_movies[\"236\",])\n",
    "user_scores %>% filter(seen == 0) %>% arrange(desc(score)) "
   ]
  },
  {
   "cell_type": "markdown",
   "metadata": {},
   "source": [
    "### A simple function to generate a user-based CF recommendation for any user"
   ]
  },
  {
   "cell_type": "code",
   "execution_count": 102,
   "metadata": {},
   "outputs": [],
   "source": [
    "# a function to generate a recommendation for any user\n",
    "user_based_recommendations <- function(user, user_similarities, viewed_movies){\n",
    "  \n",
    "  # turn into character if not already\n",
    "  user <- ifelse(is.character(user),user,as.character(user))\n",
    "  \n",
    "  # get scores\n",
    "  user_scores <- data.frame(title = colnames(viewed_movies), \n",
    "                            score = as.vector(user_similarities[user,] %*% viewed_movies), \n",
    "                            seen = viewed_movies[user,])\n",
    "  \n",
    "  # sort unseen movies by score and remove the 'seen' column\n",
    "  user_recom <- user_scores %>% \n",
    "    filter(seen == 0) %>% \n",
    "    arrange(desc(score)) %>% \n",
    "    select(-seen) \n",
    "  \n",
    "  return(user_recom)\n",
    "  \n",
    "}"
   ]
  },
  {
   "cell_type": "markdown",
   "metadata": {},
   "source": [
    "Let's check the function is working by running it on a user we've used before:"
   ]
  },
  {
   "cell_type": "code",
   "execution_count": null,
   "metadata": {},
   "outputs": [],
   "source": [
    "user_based_recommendations(user = 149, user_similarities = user_similarities, viewed_movies = viewed_movies)"
   ]
  },
  {
   "cell_type": "markdown",
   "metadata": {},
   "source": [
    "Now do it for all users with `lapply`"
   ]
  },
  {
   "cell_type": "code",
   "execution_count": null,
   "metadata": {},
   "outputs": [],
   "source": [
    "lapply(sorted_my_users, user_based_recommendations, user_similarities, viewed_movies)"
   ]
  },
  {
   "cell_type": "markdown",
   "metadata": {},
   "source": [
    "A variant on the above is a *k-nearest-neighbours* approach that bases recommendations *only on k most similar users*. This is faster when there are many users. Try implement this as an exercise."
   ]
  },
  {
   "cell_type": "markdown",
   "metadata": {},
   "source": [
    "## Item-based collaborative filtering"
   ]
  },
  {
   "cell_type": "markdown",
   "metadata": {},
   "source": [
    "### The basic idea behind item-based collaborative filtering\n",
    "\n",
    "Item-based collaborative filtering works very similarly to user-based counterpart, but is a tiny bit less intuitive (in my opinion). It is also based on similarities, but similarities between *movies* rather than *users*.\n",
    "\n",
    "There are two main conceptual parts to item-based collaborative filtering:\n",
    "\n",
    "1. One movie is similar to another if many of the same users have seen both movies.\n",
    "2. When deciding what movie to recommend to a particular user, movies are evaluated on how similar they are to movies *that the user has already seen*.\n",
    "\n",
    "Let's start by computing the similarities between all pairs of movies. We can reuse the same code we used to compute user similarities, if we first transpose the *viewed_movies* matrix."
   ]
  },
  {
   "cell_type": "code",
   "execution_count": 103,
   "metadata": {},
   "outputs": [],
   "source": [
    "# transpose the viewed_movies matrix\n",
    "movies_user <- t(viewed_movies)\n",
    "\n",
    "# get all similarities between MOVIES\n",
    "movie_similarities = matrix(0, nrow = 20, ncol = 20)\n",
    "for(i in 1:19){\n",
    "  for(j in (i+1):20){\n",
    "    movie_similarities[i,j] <- cosine_sim(viewed_movies[,i], viewed_movies[,j])\n",
    "  }\n",
    "}\n",
    "movie_similarities <- movie_similarities + t(movie_similarities)\n",
    "diag(movie_similarities) <- 0\n",
    "row.names(movie_similarities) <- colnames(viewed_movies)\n",
    "colnames(movie_similarities) <- colnames(viewed_movies)"
   ]
  },
  {
   "cell_type": "markdown",
   "metadata": {},
   "source": [
    "We can use the result to see, for example, what movies are most similar to \"Apocalypse Now\":"
   ]
  },
  {
   "cell_type": "code",
   "execution_count": 104,
   "metadata": {},
   "outputs": [
    {
     "data": {
      "text/html": [
       "<dl class=dl-horizontal>\n",
       "\t<dt>American Pie (1999)</dt>\n",
       "\t\t<dd>0.43</dd>\n",
       "\t<dt>Apocalypse Now (1979)</dt>\n",
       "\t\t<dd>0</dd>\n",
       "\t<dt>Armageddon (1998)</dt>\n",
       "\t\t<dd>0.58</dd>\n",
       "\t<dt>Austin Powers: The Spy Who Shagged Me (1999)</dt>\n",
       "\t\t<dd>0.61</dd>\n",
       "\t<dt>Beautiful Mind, A (2001)</dt>\n",
       "\t\t<dd>0.41</dd>\n",
       "\t<dt>Breakfast Club, The (1985)</dt>\n",
       "\t\t<dd>0.33</dd>\n",
       "\t<dt>Casablanca (1942)</dt>\n",
       "\t\t<dd>0.29</dd>\n",
       "\t<dt>Clear and Present Danger (1994)</dt>\n",
       "\t\t<dd>0.29</dd>\n",
       "\t<dt>Crouching Tiger, Hidden Dragon (Wo hu cang long) (2000)</dt>\n",
       "\t\t<dd>0.37</dd>\n",
       "\t<dt>Fifth Element, The (1997)</dt>\n",
       "\t\t<dd>0.17</dd>\n",
       "\t<dt>Inception (2010)</dt>\n",
       "\t\t<dd>0.31</dd>\n",
       "\t<dt>Kill Bill: Vol. 1 (2003)</dt>\n",
       "\t\t<dd>0.58</dd>\n",
       "\t<dt>Minority Report (2002)</dt>\n",
       "\t\t<dd>0.33</dd>\n",
       "\t<dt>Outbreak (1995)</dt>\n",
       "\t\t<dd>0.24</dd>\n",
       "\t<dt>Rain Man (1988)</dt>\n",
       "\t\t<dd>0.5</dd>\n",
       "\t<dt>Stand by Me (1986)</dt>\n",
       "\t\t<dd>0.2</dd>\n",
       "\t<dt>Star Trek: Generations (1994)</dt>\n",
       "\t\t<dd>0</dd>\n",
       "\t<dt>Taxi Driver (1976)</dt>\n",
       "\t\t<dd>0.24</dd>\n",
       "\t<dt>Waterworld (1995)</dt>\n",
       "\t\t<dd>0.47</dd>\n",
       "\t<dt>Wizard of Oz, The (1939)</dt>\n",
       "\t\t<dd>0.31</dd>\n",
       "</dl>\n"
      ],
      "text/latex": [
       "\\begin{description*}\n",
       "\\item[American Pie (1999)] 0.43\n",
       "\\item[Apocalypse Now (1979)] 0\n",
       "\\item[Armageddon (1998)] 0.58\n",
       "\\item[Austin Powers: The Spy Who Shagged Me (1999)] 0.61\n",
       "\\item[Beautiful Mind, A (2001)] 0.41\n",
       "\\item[Breakfast Club, The (1985)] 0.33\n",
       "\\item[Casablanca (1942)] 0.29\n",
       "\\item[Clear and Present Danger (1994)] 0.29\n",
       "\\item[Crouching Tiger, Hidden Dragon (Wo hu cang long) (2000)] 0.37\n",
       "\\item[Fifth Element, The (1997)] 0.17\n",
       "\\item[Inception (2010)] 0.31\n",
       "\\item[Kill Bill: Vol. 1 (2003)] 0.58\n",
       "\\item[Minority Report (2002)] 0.33\n",
       "\\item[Outbreak (1995)] 0.24\n",
       "\\item[Rain Man (1988)] 0.5\n",
       "\\item[Stand by Me (1986)] 0.2\n",
       "\\item[Star Trek: Generations (1994)] 0\n",
       "\\item[Taxi Driver (1976)] 0.24\n",
       "\\item[Waterworld (1995)] 0.47\n",
       "\\item[Wizard of Oz, The (1939)] 0.31\n",
       "\\end{description*}\n"
      ],
      "text/markdown": [
       "American Pie (1999)\n",
       ":   0.43Apocalypse Now (1979)\n",
       ":   0Armageddon (1998)\n",
       ":   0.58Austin Powers: The Spy Who Shagged Me (1999)\n",
       ":   0.61Beautiful Mind, A (2001)\n",
       ":   0.41Breakfast Club, The (1985)\n",
       ":   0.33Casablanca (1942)\n",
       ":   0.29Clear and Present Danger (1994)\n",
       ":   0.29Crouching Tiger, Hidden Dragon (Wo hu cang long) (2000)\n",
       ":   0.37Fifth Element, The (1997)\n",
       ":   0.17Inception (2010)\n",
       ":   0.31Kill Bill: Vol. 1 (2003)\n",
       ":   0.58Minority Report (2002)\n",
       ":   0.33Outbreak (1995)\n",
       ":   0.24Rain Man (1988)\n",
       ":   0.5Stand by Me (1986)\n",
       ":   0.2Star Trek: Generations (1994)\n",
       ":   0Taxi Driver (1976)\n",
       ":   0.24Waterworld (1995)\n",
       ":   0.47Wizard of Oz, The (1939)\n",
       ":   0.31\n",
       "\n"
      ],
      "text/plain": [
       "                                    American Pie (1999) \n",
       "                                                   0.43 \n",
       "                                  Apocalypse Now (1979) \n",
       "                                                   0.00 \n",
       "                                      Armageddon (1998) \n",
       "                                                   0.58 \n",
       "           Austin Powers: The Spy Who Shagged Me (1999) \n",
       "                                                   0.61 \n",
       "                               Beautiful Mind, A (2001) \n",
       "                                                   0.41 \n",
       "                             Breakfast Club, The (1985) \n",
       "                                                   0.33 \n",
       "                                      Casablanca (1942) \n",
       "                                                   0.29 \n",
       "                        Clear and Present Danger (1994) \n",
       "                                                   0.29 \n",
       "Crouching Tiger, Hidden Dragon (Wo hu cang long) (2000) \n",
       "                                                   0.37 \n",
       "                              Fifth Element, The (1997) \n",
       "                                                   0.17 \n",
       "                                       Inception (2010) \n",
       "                                                   0.31 \n",
       "                               Kill Bill: Vol. 1 (2003) \n",
       "                                                   0.58 \n",
       "                                 Minority Report (2002) \n",
       "                                                   0.33 \n",
       "                                        Outbreak (1995) \n",
       "                                                   0.24 \n",
       "                                        Rain Man (1988) \n",
       "                                                   0.50 \n",
       "                                     Stand by Me (1986) \n",
       "                                                   0.20 \n",
       "                          Star Trek: Generations (1994) \n",
       "                                                   0.00 \n",
       "                                     Taxi Driver (1976) \n",
       "                                                   0.24 \n",
       "                                      Waterworld (1995) \n",
       "                                                   0.47 \n",
       "                               Wizard of Oz, The (1939) \n",
       "                                                   0.31 "
      ]
     },
     "metadata": {},
     "output_type": "display_data"
    }
   ],
   "source": [
    "round(movie_similarities[,\"Apocalypse Now (1979)\"], 2)"
   ]
  },
  {
   "cell_type": "markdown",
   "metadata": {},
   "source": [
    "### Recommending movies for a single user"
   ]
  },
  {
   "cell_type": "markdown",
   "metadata": {},
   "source": [
    "Let's again look at a concrete example of recommending a movie to a particular user, say user 236.\n",
    "\n",
    "User 236 has seen the following movies:"
   ]
  },
  {
   "cell_type": "code",
   "execution_count": 105,
   "metadata": {},
   "outputs": [
    {
     "data": {
      "text/html": [
       "<dl class=dl-horizontal>\n",
       "\t<dt>American Pie (1999)</dt>\n",
       "\t\t<dd>0</dd>\n",
       "\t<dt>Apocalypse Now (1979)</dt>\n",
       "\t\t<dd>1</dd>\n",
       "\t<dt>Armageddon (1998)</dt>\n",
       "\t\t<dd>0</dd>\n",
       "\t<dt>Austin Powers: The Spy Who Shagged Me (1999)</dt>\n",
       "\t\t<dd>0</dd>\n",
       "\t<dt>Beautiful Mind, A (2001)</dt>\n",
       "\t\t<dd>0</dd>\n",
       "\t<dt>Breakfast Club, The (1985)</dt>\n",
       "\t\t<dd>0</dd>\n",
       "\t<dt>Casablanca (1942)</dt>\n",
       "\t\t<dd>1</dd>\n",
       "\t<dt>Clear and Present Danger (1994)</dt>\n",
       "\t\t<dd>0</dd>\n",
       "\t<dt>Crouching Tiger, Hidden Dragon (Wo hu cang long) (2000)</dt>\n",
       "\t\t<dd>1</dd>\n",
       "\t<dt>Fifth Element, The (1997)</dt>\n",
       "\t\t<dd>0</dd>\n",
       "\t<dt>Inception (2010)</dt>\n",
       "\t\t<dd>0</dd>\n",
       "\t<dt>Kill Bill: Vol. 1 (2003)</dt>\n",
       "\t\t<dd>0</dd>\n",
       "\t<dt>Minority Report (2002)</dt>\n",
       "\t\t<dd>0</dd>\n",
       "\t<dt>Outbreak (1995)</dt>\n",
       "\t\t<dd>0</dd>\n",
       "\t<dt>Rain Man (1988)</dt>\n",
       "\t\t<dd>0</dd>\n",
       "\t<dt>Stand by Me (1986)</dt>\n",
       "\t\t<dd>0</dd>\n",
       "\t<dt>Star Trek: Generations (1994)</dt>\n",
       "\t\t<dd>0</dd>\n",
       "\t<dt>Taxi Driver (1976)</dt>\n",
       "\t\t<dd>1</dd>\n",
       "\t<dt>Waterworld (1995)</dt>\n",
       "\t\t<dd>0</dd>\n",
       "\t<dt>Wizard of Oz, The (1939)</dt>\n",
       "\t\t<dd>0</dd>\n",
       "</dl>\n"
      ],
      "text/latex": [
       "\\begin{description*}\n",
       "\\item[American Pie (1999)] 0\n",
       "\\item[Apocalypse Now (1979)] 1\n",
       "\\item[Armageddon (1998)] 0\n",
       "\\item[Austin Powers: The Spy Who Shagged Me (1999)] 0\n",
       "\\item[Beautiful Mind, A (2001)] 0\n",
       "\\item[Breakfast Club, The (1985)] 0\n",
       "\\item[Casablanca (1942)] 1\n",
       "\\item[Clear and Present Danger (1994)] 0\n",
       "\\item[Crouching Tiger, Hidden Dragon (Wo hu cang long) (2000)] 1\n",
       "\\item[Fifth Element, The (1997)] 0\n",
       "\\item[Inception (2010)] 0\n",
       "\\item[Kill Bill: Vol. 1 (2003)] 0\n",
       "\\item[Minority Report (2002)] 0\n",
       "\\item[Outbreak (1995)] 0\n",
       "\\item[Rain Man (1988)] 0\n",
       "\\item[Stand by Me (1986)] 0\n",
       "\\item[Star Trek: Generations (1994)] 0\n",
       "\\item[Taxi Driver (1976)] 1\n",
       "\\item[Waterworld (1995)] 0\n",
       "\\item[Wizard of Oz, The (1939)] 0\n",
       "\\end{description*}\n"
      ],
      "text/markdown": [
       "American Pie (1999)\n",
       ":   0Apocalypse Now (1979)\n",
       ":   1Armageddon (1998)\n",
       ":   0Austin Powers: The Spy Who Shagged Me (1999)\n",
       ":   0Beautiful Mind, A (2001)\n",
       ":   0Breakfast Club, The (1985)\n",
       ":   0Casablanca (1942)\n",
       ":   1Clear and Present Danger (1994)\n",
       ":   0Crouching Tiger, Hidden Dragon (Wo hu cang long) (2000)\n",
       ":   1Fifth Element, The (1997)\n",
       ":   0Inception (2010)\n",
       ":   0Kill Bill: Vol. 1 (2003)\n",
       ":   0Minority Report (2002)\n",
       ":   0Outbreak (1995)\n",
       ":   0Rain Man (1988)\n",
       ":   0Stand by Me (1986)\n",
       ":   0Star Trek: Generations (1994)\n",
       ":   0Taxi Driver (1976)\n",
       ":   1Waterworld (1995)\n",
       ":   0Wizard of Oz, The (1939)\n",
       ":   0\n",
       "\n"
      ],
      "text/plain": [
       "                                    American Pie (1999) \n",
       "                                                      0 \n",
       "                                  Apocalypse Now (1979) \n",
       "                                                      1 \n",
       "                                      Armageddon (1998) \n",
       "                                                      0 \n",
       "           Austin Powers: The Spy Who Shagged Me (1999) \n",
       "                                                      0 \n",
       "                               Beautiful Mind, A (2001) \n",
       "                                                      0 \n",
       "                             Breakfast Club, The (1985) \n",
       "                                                      0 \n",
       "                                      Casablanca (1942) \n",
       "                                                      1 \n",
       "                        Clear and Present Danger (1994) \n",
       "                                                      0 \n",
       "Crouching Tiger, Hidden Dragon (Wo hu cang long) (2000) \n",
       "                                                      1 \n",
       "                              Fifth Element, The (1997) \n",
       "                                                      0 \n",
       "                                       Inception (2010) \n",
       "                                                      0 \n",
       "                               Kill Bill: Vol. 1 (2003) \n",
       "                                                      0 \n",
       "                                 Minority Report (2002) \n",
       "                                                      0 \n",
       "                                        Outbreak (1995) \n",
       "                                                      0 \n",
       "                                        Rain Man (1988) \n",
       "                                                      0 \n",
       "                                     Stand by Me (1986) \n",
       "                                                      0 \n",
       "                          Star Trek: Generations (1994) \n",
       "                                                      0 \n",
       "                                     Taxi Driver (1976) \n",
       "                                                      1 \n",
       "                                      Waterworld (1995) \n",
       "                                                      0 \n",
       "                               Wizard of Oz, The (1939) \n",
       "                                                      0 "
      ]
     },
     "metadata": {},
     "output_type": "display_data"
    }
   ],
   "source": [
    "viewed_movies[\"236\",]"
   ]
  },
  {
   "cell_type": "markdown",
   "metadata": {},
   "source": [
    "Another way of doing the same thing:"
   ]
  },
  {
   "cell_type": "code",
   "execution_count": null,
   "metadata": {},
   "outputs": [],
   "source": [
    "ratings_red %>% filter(userId == 236) %>% select(userId, title)"
   ]
  },
  {
   "cell_type": "markdown",
   "metadata": {},
   "source": [
    "We now implement the main idea behind item-based filtering. **For each movie, we find out the similarity between that movie and each of the four movies user 236 has seen, and sum up those similarities.** The resulting sum is that movie's \"recommendation score\".\n",
    "\n",
    "We start by identifying the movies the user has seen:"
   ]
  },
  {
   "cell_type": "code",
   "execution_count": 106,
   "metadata": {},
   "outputs": [
    {
     "data": {
      "text/html": [
       "<ol class=list-inline>\n",
       "\t<li>'Taxi Driver (1976)'</li>\n",
       "\t<li>'Casablanca (1942)'</li>\n",
       "\t<li>'Apocalypse Now (1979)'</li>\n",
       "\t<li>'Crouching Tiger, Hidden Dragon (Wo hu cang long) (2000)'</li>\n",
       "</ol>\n"
      ],
      "text/latex": [
       "\\begin{enumerate*}\n",
       "\\item 'Taxi Driver (1976)'\n",
       "\\item 'Casablanca (1942)'\n",
       "\\item 'Apocalypse Now (1979)'\n",
       "\\item 'Crouching Tiger, Hidden Dragon (Wo hu cang long) (2000)'\n",
       "\\end{enumerate*}\n"
      ],
      "text/markdown": [
       "1. 'Taxi Driver (1976)'\n",
       "2. 'Casablanca (1942)'\n",
       "3. 'Apocalypse Now (1979)'\n",
       "4. 'Crouching Tiger, Hidden Dragon (Wo hu cang long) (2000)'\n",
       "\n",
       "\n"
      ],
      "text/plain": [
       "[1] \"Taxi Driver (1976)\"                                     \n",
       "[2] \"Casablanca (1942)\"                                      \n",
       "[3] \"Apocalypse Now (1979)\"                                  \n",
       "[4] \"Crouching Tiger, Hidden Dragon (Wo hu cang long) (2000)\""
      ]
     },
     "metadata": {},
     "output_type": "display_data"
    }
   ],
   "source": [
    "user_seen <- ratings_red %>% \n",
    "        filter(userId == 236) %>% \n",
    "        select(title) %>% \n",
    "        unlist() %>% \n",
    "        as.character()\n",
    "user_seen"
   ]
  },
  {
   "cell_type": "markdown",
   "metadata": {},
   "source": [
    "We then compute the similarities between all movies and these \"seen\" movies. For example, similarities with the first seen movie, *Taxi Driver* are:"
   ]
  },
  {
   "cell_type": "code",
   "execution_count": 107,
   "metadata": {},
   "outputs": [
    {
     "data": {
      "text/html": [
       "'Taxi Driver (1976)'"
      ],
      "text/latex": [
       "'Taxi Driver (1976)'"
      ],
      "text/markdown": [
       "'Taxi Driver (1976)'"
      ],
      "text/plain": [
       "[1] \"Taxi Driver (1976)\""
      ]
     },
     "metadata": {},
     "output_type": "display_data"
    },
    {
     "data": {
      "text/html": [
       "<dl class=dl-horizontal>\n",
       "\t<dt>American Pie (1999)</dt>\n",
       "\t\t<dd>0</dd>\n",
       "\t<dt>Apocalypse Now (1979)</dt>\n",
       "\t\t<dd>0.235702260395516</dd>\n",
       "\t<dt>Armageddon (1998)</dt>\n",
       "\t\t<dd>0.204124145231932</dd>\n",
       "\t<dt>Austin Powers: The Spy Who Shagged Me (1999)</dt>\n",
       "\t\t<dd>0</dd>\n",
       "\t<dt>Beautiful Mind, A (2001)</dt>\n",
       "\t\t<dd>0.192450089729875</dd>\n",
       "\t<dt>Breakfast Club, The (1985)</dt>\n",
       "\t\t<dd>0.235702260395516</dd>\n",
       "\t<dt>Casablanca (1942)</dt>\n",
       "\t\t<dd>0.408248290463863</dd>\n",
       "\t<dt>Clear and Present Danger (1994)</dt>\n",
       "\t\t<dd>0.408248290463863</dd>\n",
       "\t<dt>Crouching Tiger, Hidden Dragon (Wo hu cang long) (2000)</dt>\n",
       "\t\t<dd>0.516397779494322</dd>\n",
       "\t<dt>Fifth Element, The (1997)</dt>\n",
       "\t\t<dd>0.235702260395516</dd>\n",
       "\t<dt>Inception (2010)</dt>\n",
       "\t\t<dd>0</dd>\n",
       "\t<dt>Kill Bill: Vol. 1 (2003)</dt>\n",
       "\t\t<dd>0.204124145231932</dd>\n",
       "\t<dt>Minority Report (2002)</dt>\n",
       "\t\t<dd>0.235702260395516</dd>\n",
       "\t<dt>Outbreak (1995)</dt>\n",
       "\t\t<dd>0.333333333333333</dd>\n",
       "\t<dt>Rain Man (1988)</dt>\n",
       "\t\t<dd>0</dd>\n",
       "\t<dt>Stand by Me (1986)</dt>\n",
       "\t\t<dd>0.288675134594813</dd>\n",
       "\t<dt>Star Trek: Generations (1994)</dt>\n",
       "\t\t<dd>0.333333333333333</dd>\n",
       "\t<dt>Taxi Driver (1976)</dt>\n",
       "\t\t<dd>0</dd>\n",
       "\t<dt>Waterworld (1995)</dt>\n",
       "\t\t<dd>0</dd>\n",
       "\t<dt>Wizard of Oz, The (1939)</dt>\n",
       "\t\t<dd>0.218217890235992</dd>\n",
       "</dl>\n"
      ],
      "text/latex": [
       "\\begin{description*}\n",
       "\\item[American Pie (1999)] 0\n",
       "\\item[Apocalypse Now (1979)] 0.235702260395516\n",
       "\\item[Armageddon (1998)] 0.204124145231932\n",
       "\\item[Austin Powers: The Spy Who Shagged Me (1999)] 0\n",
       "\\item[Beautiful Mind, A (2001)] 0.192450089729875\n",
       "\\item[Breakfast Club, The (1985)] 0.235702260395516\n",
       "\\item[Casablanca (1942)] 0.408248290463863\n",
       "\\item[Clear and Present Danger (1994)] 0.408248290463863\n",
       "\\item[Crouching Tiger, Hidden Dragon (Wo hu cang long) (2000)] 0.516397779494322\n",
       "\\item[Fifth Element, The (1997)] 0.235702260395516\n",
       "\\item[Inception (2010)] 0\n",
       "\\item[Kill Bill: Vol. 1 (2003)] 0.204124145231932\n",
       "\\item[Minority Report (2002)] 0.235702260395516\n",
       "\\item[Outbreak (1995)] 0.333333333333333\n",
       "\\item[Rain Man (1988)] 0\n",
       "\\item[Stand by Me (1986)] 0.288675134594813\n",
       "\\item[Star Trek: Generations (1994)] 0.333333333333333\n",
       "\\item[Taxi Driver (1976)] 0\n",
       "\\item[Waterworld (1995)] 0\n",
       "\\item[Wizard of Oz, The (1939)] 0.218217890235992\n",
       "\\end{description*}\n"
      ],
      "text/markdown": [
       "American Pie (1999)\n",
       ":   0Apocalypse Now (1979)\n",
       ":   0.235702260395516Armageddon (1998)\n",
       ":   0.204124145231932Austin Powers: The Spy Who Shagged Me (1999)\n",
       ":   0Beautiful Mind, A (2001)\n",
       ":   0.192450089729875Breakfast Club, The (1985)\n",
       ":   0.235702260395516Casablanca (1942)\n",
       ":   0.408248290463863Clear and Present Danger (1994)\n",
       ":   0.408248290463863Crouching Tiger, Hidden Dragon (Wo hu cang long) (2000)\n",
       ":   0.516397779494322Fifth Element, The (1997)\n",
       ":   0.235702260395516Inception (2010)\n",
       ":   0Kill Bill: Vol. 1 (2003)\n",
       ":   0.204124145231932Minority Report (2002)\n",
       ":   0.235702260395516Outbreak (1995)\n",
       ":   0.333333333333333Rain Man (1988)\n",
       ":   0Stand by Me (1986)\n",
       ":   0.288675134594813Star Trek: Generations (1994)\n",
       ":   0.333333333333333Taxi Driver (1976)\n",
       ":   0Waterworld (1995)\n",
       ":   0Wizard of Oz, The (1939)\n",
       ":   0.218217890235992\n",
       "\n"
      ],
      "text/plain": [
       "                                    American Pie (1999) \n",
       "                                              0.0000000 \n",
       "                                  Apocalypse Now (1979) \n",
       "                                              0.2357023 \n",
       "                                      Armageddon (1998) \n",
       "                                              0.2041241 \n",
       "           Austin Powers: The Spy Who Shagged Me (1999) \n",
       "                                              0.0000000 \n",
       "                               Beautiful Mind, A (2001) \n",
       "                                              0.1924501 \n",
       "                             Breakfast Club, The (1985) \n",
       "                                              0.2357023 \n",
       "                                      Casablanca (1942) \n",
       "                                              0.4082483 \n",
       "                        Clear and Present Danger (1994) \n",
       "                                              0.4082483 \n",
       "Crouching Tiger, Hidden Dragon (Wo hu cang long) (2000) \n",
       "                                              0.5163978 \n",
       "                              Fifth Element, The (1997) \n",
       "                                              0.2357023 \n",
       "                                       Inception (2010) \n",
       "                                              0.0000000 \n",
       "                               Kill Bill: Vol. 1 (2003) \n",
       "                                              0.2041241 \n",
       "                                 Minority Report (2002) \n",
       "                                              0.2357023 \n",
       "                                        Outbreak (1995) \n",
       "                                              0.3333333 \n",
       "                                        Rain Man (1988) \n",
       "                                              0.0000000 \n",
       "                                     Stand by Me (1986) \n",
       "                                              0.2886751 \n",
       "                          Star Trek: Generations (1994) \n",
       "                                              0.3333333 \n",
       "                                     Taxi Driver (1976) \n",
       "                                              0.0000000 \n",
       "                                      Waterworld (1995) \n",
       "                                              0.0000000 \n",
       "                               Wizard of Oz, The (1939) \n",
       "                                              0.2182179 "
      ]
     },
     "metadata": {},
     "output_type": "display_data"
    }
   ],
   "source": [
    "user_seen[1]\n",
    "movie_similarities[,user_seen[1]]"
   ]
  },
  {
   "cell_type": "markdown",
   "metadata": {},
   "source": [
    "We can do the same for each of the four seen movies or, more simply, do all four at once:"
   ]
  },
  {
   "cell_type": "code",
   "execution_count": 108,
   "metadata": {},
   "outputs": [
    {
     "data": {
      "text/html": [
       "<table>\n",
       "<caption>A matrix: 20 × 4 of type dbl</caption>\n",
       "<thead>\n",
       "\t<tr><th></th><th scope=col>Taxi Driver (1976)</th><th scope=col>Casablanca (1942)</th><th scope=col>Apocalypse Now (1979)</th><th scope=col>Crouching Tiger, Hidden Dragon (Wo hu cang long) (2000)</th></tr>\n",
       "</thead>\n",
       "<tbody>\n",
       "\t<tr><th scope=row>American Pie (1999)</th><td>0.0000000</td><td>0.0000000</td><td>0.4330127</td><td>0.1581139</td></tr>\n",
       "\t<tr><th scope=row>Apocalypse Now (1979)</th><td>0.2357023</td><td>0.2886751</td><td>0.0000000</td><td>0.3651484</td></tr>\n",
       "\t<tr><th scope=row>Armageddon (1998)</th><td>0.2041241</td><td>0.0000000</td><td>0.5773503</td><td>0.3162278</td></tr>\n",
       "\t<tr><th scope=row>Austin Powers: The Spy Who Shagged Me (1999)</th><td>0.0000000</td><td>0.0000000</td><td>0.6123724</td><td>0.2236068</td></tr>\n",
       "\t<tr><th scope=row>Beautiful Mind, A (2001)</th><td>0.1924501</td><td>0.2357023</td><td>0.4082483</td><td>0.2981424</td></tr>\n",
       "\t<tr><th scope=row>Breakfast Club, The (1985)</th><td>0.2357023</td><td>0.0000000</td><td>0.3333333</td><td>0.0000000</td></tr>\n",
       "\t<tr><th scope=row>Casablanca (1942)</th><td>0.4082483</td><td>0.0000000</td><td>0.2886751</td><td>0.6324555</td></tr>\n",
       "\t<tr><th scope=row>Clear and Present Danger (1994)</th><td>0.4082483</td><td>0.0000000</td><td>0.2886751</td><td>0.0000000</td></tr>\n",
       "\t<tr><th scope=row>Crouching Tiger, Hidden Dragon (Wo hu cang long) (2000)</th><td>0.5163978</td><td>0.6324555</td><td>0.3651484</td><td>0.0000000</td></tr>\n",
       "\t<tr><th scope=row>Fifth Element, The (1997)</th><td>0.2357023</td><td>0.2886751</td><td>0.1666667</td><td>0.1825742</td></tr>\n",
       "\t<tr><th scope=row>Inception (2010)</th><td>0.0000000</td><td>0.0000000</td><td>0.3086067</td><td>0.1690309</td></tr>\n",
       "\t<tr><th scope=row>Kill Bill: Vol. 1 (2003)</th><td>0.2041241</td><td>0.2500000</td><td>0.5773503</td><td>0.4743416</td></tr>\n",
       "\t<tr><th scope=row>Minority Report (2002)</th><td>0.2357023</td><td>0.2886751</td><td>0.3333333</td><td>0.7302967</td></tr>\n",
       "\t<tr><th scope=row>Outbreak (1995)</th><td>0.3333333</td><td>0.4082483</td><td>0.2357023</td><td>0.5163978</td></tr>\n",
       "\t<tr><th scope=row>Rain Man (1988)</th><td>0.0000000</td><td>0.2886751</td><td>0.5000000</td><td>0.1825742</td></tr>\n",
       "\t<tr><th scope=row>Stand by Me (1986)</th><td>0.2886751</td><td>0.0000000</td><td>0.2041241</td><td>0.0000000</td></tr>\n",
       "\t<tr><th scope=row>Star Trek: Generations (1994)</th><td>0.3333333</td><td>0.0000000</td><td>0.0000000</td><td>0.2581989</td></tr>\n",
       "\t<tr><th scope=row>Taxi Driver (1976)</th><td>0.0000000</td><td>0.4082483</td><td>0.2357023</td><td>0.5163978</td></tr>\n",
       "\t<tr><th scope=row>Waterworld (1995)</th><td>0.0000000</td><td>0.4082483</td><td>0.4714045</td><td>0.5163978</td></tr>\n",
       "\t<tr><th scope=row>Wizard of Oz, The (1939)</th><td>0.2182179</td><td>0.2672612</td><td>0.3086067</td><td>0.5070926</td></tr>\n",
       "</tbody>\n",
       "</table>\n"
      ],
      "text/latex": [
       "A matrix: 20 × 4 of type dbl\n",
       "\\begin{tabular}{r|llll}\n",
       "  & Taxi Driver (1976) & Casablanca (1942) & Apocalypse Now (1979) & Crouching Tiger, Hidden Dragon (Wo hu cang long) (2000)\\\\\n",
       "\\hline\n",
       "\tAmerican Pie (1999) & 0.0000000 & 0.0000000 & 0.4330127 & 0.1581139\\\\\n",
       "\tApocalypse Now (1979) & 0.2357023 & 0.2886751 & 0.0000000 & 0.3651484\\\\\n",
       "\tArmageddon (1998) & 0.2041241 & 0.0000000 & 0.5773503 & 0.3162278\\\\\n",
       "\tAustin Powers: The Spy Who Shagged Me (1999) & 0.0000000 & 0.0000000 & 0.6123724 & 0.2236068\\\\\n",
       "\tBeautiful Mind, A (2001) & 0.1924501 & 0.2357023 & 0.4082483 & 0.2981424\\\\\n",
       "\tBreakfast Club, The (1985) & 0.2357023 & 0.0000000 & 0.3333333 & 0.0000000\\\\\n",
       "\tCasablanca (1942) & 0.4082483 & 0.0000000 & 0.2886751 & 0.6324555\\\\\n",
       "\tClear and Present Danger (1994) & 0.4082483 & 0.0000000 & 0.2886751 & 0.0000000\\\\\n",
       "\tCrouching Tiger, Hidden Dragon (Wo hu cang long) (2000) & 0.5163978 & 0.6324555 & 0.3651484 & 0.0000000\\\\\n",
       "\tFifth Element, The (1997) & 0.2357023 & 0.2886751 & 0.1666667 & 0.1825742\\\\\n",
       "\tInception (2010) & 0.0000000 & 0.0000000 & 0.3086067 & 0.1690309\\\\\n",
       "\tKill Bill: Vol. 1 (2003) & 0.2041241 & 0.2500000 & 0.5773503 & 0.4743416\\\\\n",
       "\tMinority Report (2002) & 0.2357023 & 0.2886751 & 0.3333333 & 0.7302967\\\\\n",
       "\tOutbreak (1995) & 0.3333333 & 0.4082483 & 0.2357023 & 0.5163978\\\\\n",
       "\tRain Man (1988) & 0.0000000 & 0.2886751 & 0.5000000 & 0.1825742\\\\\n",
       "\tStand by Me (1986) & 0.2886751 & 0.0000000 & 0.2041241 & 0.0000000\\\\\n",
       "\tStar Trek: Generations (1994) & 0.3333333 & 0.0000000 & 0.0000000 & 0.2581989\\\\\n",
       "\tTaxi Driver (1976) & 0.0000000 & 0.4082483 & 0.2357023 & 0.5163978\\\\\n",
       "\tWaterworld (1995) & 0.0000000 & 0.4082483 & 0.4714045 & 0.5163978\\\\\n",
       "\tWizard of Oz, The (1939) & 0.2182179 & 0.2672612 & 0.3086067 & 0.5070926\\\\\n",
       "\\end{tabular}\n"
      ],
      "text/markdown": [
       "\n",
       "A matrix: 20 × 4 of type dbl\n",
       "\n",
       "| <!--/--> | Taxi Driver (1976) | Casablanca (1942) | Apocalypse Now (1979) | Crouching Tiger, Hidden Dragon (Wo hu cang long) (2000) |\n",
       "|---|---|---|---|---|\n",
       "| American Pie (1999) | 0.0000000 | 0.0000000 | 0.4330127 | 0.1581139 |\n",
       "| Apocalypse Now (1979) | 0.2357023 | 0.2886751 | 0.0000000 | 0.3651484 |\n",
       "| Armageddon (1998) | 0.2041241 | 0.0000000 | 0.5773503 | 0.3162278 |\n",
       "| Austin Powers: The Spy Who Shagged Me (1999) | 0.0000000 | 0.0000000 | 0.6123724 | 0.2236068 |\n",
       "| Beautiful Mind, A (2001) | 0.1924501 | 0.2357023 | 0.4082483 | 0.2981424 |\n",
       "| Breakfast Club, The (1985) | 0.2357023 | 0.0000000 | 0.3333333 | 0.0000000 |\n",
       "| Casablanca (1942) | 0.4082483 | 0.0000000 | 0.2886751 | 0.6324555 |\n",
       "| Clear and Present Danger (1994) | 0.4082483 | 0.0000000 | 0.2886751 | 0.0000000 |\n",
       "| Crouching Tiger, Hidden Dragon (Wo hu cang long) (2000) | 0.5163978 | 0.6324555 | 0.3651484 | 0.0000000 |\n",
       "| Fifth Element, The (1997) | 0.2357023 | 0.2886751 | 0.1666667 | 0.1825742 |\n",
       "| Inception (2010) | 0.0000000 | 0.0000000 | 0.3086067 | 0.1690309 |\n",
       "| Kill Bill: Vol. 1 (2003) | 0.2041241 | 0.2500000 | 0.5773503 | 0.4743416 |\n",
       "| Minority Report (2002) | 0.2357023 | 0.2886751 | 0.3333333 | 0.7302967 |\n",
       "| Outbreak (1995) | 0.3333333 | 0.4082483 | 0.2357023 | 0.5163978 |\n",
       "| Rain Man (1988) | 0.0000000 | 0.2886751 | 0.5000000 | 0.1825742 |\n",
       "| Stand by Me (1986) | 0.2886751 | 0.0000000 | 0.2041241 | 0.0000000 |\n",
       "| Star Trek: Generations (1994) | 0.3333333 | 0.0000000 | 0.0000000 | 0.2581989 |\n",
       "| Taxi Driver (1976) | 0.0000000 | 0.4082483 | 0.2357023 | 0.5163978 |\n",
       "| Waterworld (1995) | 0.0000000 | 0.4082483 | 0.4714045 | 0.5163978 |\n",
       "| Wizard of Oz, The (1939) | 0.2182179 | 0.2672612 | 0.3086067 | 0.5070926 |\n",
       "\n"
      ],
      "text/plain": [
       "                                                        Taxi Driver (1976)\n",
       "American Pie (1999)                                     0.0000000         \n",
       "Apocalypse Now (1979)                                   0.2357023         \n",
       "Armageddon (1998)                                       0.2041241         \n",
       "Austin Powers: The Spy Who Shagged Me (1999)            0.0000000         \n",
       "Beautiful Mind, A (2001)                                0.1924501         \n",
       "Breakfast Club, The (1985)                              0.2357023         \n",
       "Casablanca (1942)                                       0.4082483         \n",
       "Clear and Present Danger (1994)                         0.4082483         \n",
       "Crouching Tiger, Hidden Dragon (Wo hu cang long) (2000) 0.5163978         \n",
       "Fifth Element, The (1997)                               0.2357023         \n",
       "Inception (2010)                                        0.0000000         \n",
       "Kill Bill: Vol. 1 (2003)                                0.2041241         \n",
       "Minority Report (2002)                                  0.2357023         \n",
       "Outbreak (1995)                                         0.3333333         \n",
       "Rain Man (1988)                                         0.0000000         \n",
       "Stand by Me (1986)                                      0.2886751         \n",
       "Star Trek: Generations (1994)                           0.3333333         \n",
       "Taxi Driver (1976)                                      0.0000000         \n",
       "Waterworld (1995)                                       0.0000000         \n",
       "Wizard of Oz, The (1939)                                0.2182179         \n",
       "                                                        Casablanca (1942)\n",
       "American Pie (1999)                                     0.0000000        \n",
       "Apocalypse Now (1979)                                   0.2886751        \n",
       "Armageddon (1998)                                       0.0000000        \n",
       "Austin Powers: The Spy Who Shagged Me (1999)            0.0000000        \n",
       "Beautiful Mind, A (2001)                                0.2357023        \n",
       "Breakfast Club, The (1985)                              0.0000000        \n",
       "Casablanca (1942)                                       0.0000000        \n",
       "Clear and Present Danger (1994)                         0.0000000        \n",
       "Crouching Tiger, Hidden Dragon (Wo hu cang long) (2000) 0.6324555        \n",
       "Fifth Element, The (1997)                               0.2886751        \n",
       "Inception (2010)                                        0.0000000        \n",
       "Kill Bill: Vol. 1 (2003)                                0.2500000        \n",
       "Minority Report (2002)                                  0.2886751        \n",
       "Outbreak (1995)                                         0.4082483        \n",
       "Rain Man (1988)                                         0.2886751        \n",
       "Stand by Me (1986)                                      0.0000000        \n",
       "Star Trek: Generations (1994)                           0.0000000        \n",
       "Taxi Driver (1976)                                      0.4082483        \n",
       "Waterworld (1995)                                       0.4082483        \n",
       "Wizard of Oz, The (1939)                                0.2672612        \n",
       "                                                        Apocalypse Now (1979)\n",
       "American Pie (1999)                                     0.4330127            \n",
       "Apocalypse Now (1979)                                   0.0000000            \n",
       "Armageddon (1998)                                       0.5773503            \n",
       "Austin Powers: The Spy Who Shagged Me (1999)            0.6123724            \n",
       "Beautiful Mind, A (2001)                                0.4082483            \n",
       "Breakfast Club, The (1985)                              0.3333333            \n",
       "Casablanca (1942)                                       0.2886751            \n",
       "Clear and Present Danger (1994)                         0.2886751            \n",
       "Crouching Tiger, Hidden Dragon (Wo hu cang long) (2000) 0.3651484            \n",
       "Fifth Element, The (1997)                               0.1666667            \n",
       "Inception (2010)                                        0.3086067            \n",
       "Kill Bill: Vol. 1 (2003)                                0.5773503            \n",
       "Minority Report (2002)                                  0.3333333            \n",
       "Outbreak (1995)                                         0.2357023            \n",
       "Rain Man (1988)                                         0.5000000            \n",
       "Stand by Me (1986)                                      0.2041241            \n",
       "Star Trek: Generations (1994)                           0.0000000            \n",
       "Taxi Driver (1976)                                      0.2357023            \n",
       "Waterworld (1995)                                       0.4714045            \n",
       "Wizard of Oz, The (1939)                                0.3086067            \n",
       "                                                        Crouching Tiger, Hidden Dragon (Wo hu cang long) (2000)\n",
       "American Pie (1999)                                     0.1581139                                              \n",
       "Apocalypse Now (1979)                                   0.3651484                                              \n",
       "Armageddon (1998)                                       0.3162278                                              \n",
       "Austin Powers: The Spy Who Shagged Me (1999)            0.2236068                                              \n",
       "Beautiful Mind, A (2001)                                0.2981424                                              \n",
       "Breakfast Club, The (1985)                              0.0000000                                              \n",
       "Casablanca (1942)                                       0.6324555                                              \n",
       "Clear and Present Danger (1994)                         0.0000000                                              \n",
       "Crouching Tiger, Hidden Dragon (Wo hu cang long) (2000) 0.0000000                                              \n",
       "Fifth Element, The (1997)                               0.1825742                                              \n",
       "Inception (2010)                                        0.1690309                                              \n",
       "Kill Bill: Vol. 1 (2003)                                0.4743416                                              \n",
       "Minority Report (2002)                                  0.7302967                                              \n",
       "Outbreak (1995)                                         0.5163978                                              \n",
       "Rain Man (1988)                                         0.1825742                                              \n",
       "Stand by Me (1986)                                      0.0000000                                              \n",
       "Star Trek: Generations (1994)                           0.2581989                                              \n",
       "Taxi Driver (1976)                                      0.5163978                                              \n",
       "Waterworld (1995)                                       0.5163978                                              \n",
       "Wizard of Oz, The (1939)                                0.5070926                                              "
      ]
     },
     "metadata": {},
     "output_type": "display_data"
    }
   ],
   "source": [
    "movie_similarities[,user_seen]"
   ]
  },
  {
   "cell_type": "markdown",
   "metadata": {},
   "source": [
    "Each movie's recommendation score is obtained by summing across columns, each column representing a seen movie:"
   ]
  },
  {
   "cell_type": "code",
   "execution_count": 109,
   "metadata": {},
   "outputs": [
    {
     "data": {
      "text/html": [
       "<dl class=dl-horizontal>\n",
       "\t<dt>Minority Report (2002)</dt>\n",
       "\t\t<dd>1.58800747166388</dd>\n",
       "\t<dt>Crouching Tiger, Hidden Dragon (Wo hu cang long) (2000)</dt>\n",
       "\t\t<dd>1.51400168319811</dd>\n",
       "\t<dt>Kill Bill: Vol. 1 (2003)</dt>\n",
       "\t\t<dd>1.50581606344681</dd>\n",
       "\t<dt>Outbreak (1995)</dt>\n",
       "\t\t<dd>1.49368166368703</dd>\n",
       "\t<dt>Waterworld (1995)</dt>\n",
       "\t\t<dd>1.39605059074922</dd>\n",
       "\t<dt>Casablanca (1942)</dt>\n",
       "\t\t<dd>1.32937895709235</dd>\n",
       "\t<dt>Wizard of Oz, The (1939)</dt>\n",
       "\t\t<dd>1.30117838490971</dd>\n",
       "\t<dt>Taxi Driver (1976)</dt>\n",
       "\t\t<dd>1.1603483303537</dd>\n",
       "\t<dt>Beautiful Mind, A (2001)</dt>\n",
       "\t\t<dd>1.13454303758923</dd>\n",
       "\t<dt>Armageddon (1998)</dt>\n",
       "\t\t<dd>1.0977021804384</dd>\n",
       "\t<dt>Rain Man (1988)</dt>\n",
       "\t\t<dd>0.971249320429868</dd>\n",
       "\t<dt>Apocalypse Now (1979)</dt>\n",
       "\t\t<dd>0.889525766660439</dd>\n",
       "\t<dt>Fifth Element, The (1997)</dt>\n",
       "\t\t<dd>0.873618247492051</dd>\n",
       "\t<dt>Austin Powers: The Spy Who Shagged Me (1999)</dt>\n",
       "\t\t<dd>0.835979233445774</dd>\n",
       "\t<dt>Clear and Present Danger (1994)</dt>\n",
       "\t\t<dd>0.696923425058676</dd>\n",
       "\t<dt>Star Trek: Generations (1994)</dt>\n",
       "\t\t<dd>0.591532223080494</dd>\n",
       "\t<dt>American Pie (1999)</dt>\n",
       "\t\t<dd>0.591126584900638</dd>\n",
       "\t<dt>Breakfast Club, The (1985)</dt>\n",
       "\t\t<dd>0.569035593728849</dd>\n",
       "\t<dt>Stand by Me (1986)</dt>\n",
       "\t\t<dd>0.492799279826744</dd>\n",
       "\t<dt>Inception (2010)</dt>\n",
       "\t\t<dd>0.477637550869887</dd>\n",
       "</dl>\n"
      ],
      "text/latex": [
       "\\begin{description*}\n",
       "\\item[Minority Report (2002)] 1.58800747166388\n",
       "\\item[Crouching Tiger, Hidden Dragon (Wo hu cang long) (2000)] 1.51400168319811\n",
       "\\item[Kill Bill: Vol. 1 (2003)] 1.50581606344681\n",
       "\\item[Outbreak (1995)] 1.49368166368703\n",
       "\\item[Waterworld (1995)] 1.39605059074922\n",
       "\\item[Casablanca (1942)] 1.32937895709235\n",
       "\\item[Wizard of Oz, The (1939)] 1.30117838490971\n",
       "\\item[Taxi Driver (1976)] 1.1603483303537\n",
       "\\item[Beautiful Mind, A (2001)] 1.13454303758923\n",
       "\\item[Armageddon (1998)] 1.0977021804384\n",
       "\\item[Rain Man (1988)] 0.971249320429868\n",
       "\\item[Apocalypse Now (1979)] 0.889525766660439\n",
       "\\item[Fifth Element, The (1997)] 0.873618247492051\n",
       "\\item[Austin Powers: The Spy Who Shagged Me (1999)] 0.835979233445774\n",
       "\\item[Clear and Present Danger (1994)] 0.696923425058676\n",
       "\\item[Star Trek: Generations (1994)] 0.591532223080494\n",
       "\\item[American Pie (1999)] 0.591126584900638\n",
       "\\item[Breakfast Club, The (1985)] 0.569035593728849\n",
       "\\item[Stand by Me (1986)] 0.492799279826744\n",
       "\\item[Inception (2010)] 0.477637550869887\n",
       "\\end{description*}\n"
      ],
      "text/markdown": [
       "Minority Report (2002)\n",
       ":   1.58800747166388Crouching Tiger, Hidden Dragon (Wo hu cang long) (2000)\n",
       ":   1.51400168319811Kill Bill: Vol. 1 (2003)\n",
       ":   1.50581606344681Outbreak (1995)\n",
       ":   1.49368166368703Waterworld (1995)\n",
       ":   1.39605059074922Casablanca (1942)\n",
       ":   1.32937895709235Wizard of Oz, The (1939)\n",
       ":   1.30117838490971Taxi Driver (1976)\n",
       ":   1.1603483303537Beautiful Mind, A (2001)\n",
       ":   1.13454303758923Armageddon (1998)\n",
       ":   1.0977021804384Rain Man (1988)\n",
       ":   0.971249320429868Apocalypse Now (1979)\n",
       ":   0.889525766660439Fifth Element, The (1997)\n",
       ":   0.873618247492051Austin Powers: The Spy Who Shagged Me (1999)\n",
       ":   0.835979233445774Clear and Present Danger (1994)\n",
       ":   0.696923425058676Star Trek: Generations (1994)\n",
       ":   0.591532223080494American Pie (1999)\n",
       ":   0.591126584900638Breakfast Club, The (1985)\n",
       ":   0.569035593728849Stand by Me (1986)\n",
       ":   0.492799279826744Inception (2010)\n",
       ":   0.477637550869887\n",
       "\n"
      ],
      "text/plain": [
       "                                 Minority Report (2002) \n",
       "                                              1.5880075 \n",
       "Crouching Tiger, Hidden Dragon (Wo hu cang long) (2000) \n",
       "                                              1.5140017 \n",
       "                               Kill Bill: Vol. 1 (2003) \n",
       "                                              1.5058161 \n",
       "                                        Outbreak (1995) \n",
       "                                              1.4936817 \n",
       "                                      Waterworld (1995) \n",
       "                                              1.3960506 \n",
       "                                      Casablanca (1942) \n",
       "                                              1.3293790 \n",
       "                               Wizard of Oz, The (1939) \n",
       "                                              1.3011784 \n",
       "                                     Taxi Driver (1976) \n",
       "                                              1.1603483 \n",
       "                               Beautiful Mind, A (2001) \n",
       "                                              1.1345430 \n",
       "                                      Armageddon (1998) \n",
       "                                              1.0977022 \n",
       "                                        Rain Man (1988) \n",
       "                                              0.9712493 \n",
       "                                  Apocalypse Now (1979) \n",
       "                                              0.8895258 \n",
       "                              Fifth Element, The (1997) \n",
       "                                              0.8736182 \n",
       "           Austin Powers: The Spy Who Shagged Me (1999) \n",
       "                                              0.8359792 \n",
       "                        Clear and Present Danger (1994) \n",
       "                                              0.6969234 \n",
       "                          Star Trek: Generations (1994) \n",
       "                                              0.5915322 \n",
       "                                    American Pie (1999) \n",
       "                                              0.5911266 \n",
       "                             Breakfast Club, The (1985) \n",
       "                                              0.5690356 \n",
       "                                     Stand by Me (1986) \n",
       "                                              0.4927993 \n",
       "                                       Inception (2010) \n",
       "                                              0.4776376 "
      ]
     },
     "metadata": {},
     "output_type": "display_data"
    }
   ],
   "source": [
    "apply(movie_similarities[,user_seen],1,sum) %>% sort(decreasing = TRUE)"
   ]
  },
  {
   "cell_type": "markdown",
   "metadata": {},
   "source": [
    "The preceding explanation hopefully makes the details of the calculations clear, but it is quite unwieldy. We can do all the calculations more neatly as:"
   ]
  },
  {
   "cell_type": "code",
   "execution_count": null,
   "metadata": {},
   "outputs": [],
   "source": [
    "user_scores <- tibble(title = row.names(movie_similarities), \n",
    "                      score = apply(movie_similarities[,user_seen],1,sum),\n",
    "                      seen = viewed_movies[\"236\",])\n",
    "user_scores %>% filter(seen == 0) %>% arrange(desc(score))"
   ]
  },
  {
   "cell_type": "markdown",
   "metadata": {},
   "source": [
    "So we'd end up recommending \"Minority Report\" to this particular user.\n",
    "\n",
    "Let's repeat the process to generate a recommendation for one more user, user 149:"
   ]
  },
  {
   "cell_type": "code",
   "execution_count": null,
   "metadata": {},
   "outputs": [],
   "source": [
    "# do for user 149\n",
    "user <- \"149\"\n",
    "user_seen <- ratings_red %>% filter(userId == user) %>% select(title) %>% unlist() %>% as.character()\n",
    "user_scores <- tibble(title = row.names(movie_similarities), \n",
    "                      score = apply(movie_similarities[,user_seen],1,sum),\n",
    "                      seen = viewed_movies[user,])\n",
    "user_scores %>% filter(seen == 0) %>% arrange(desc(score))"
   ]
  },
  {
   "cell_type": "markdown",
   "metadata": {},
   "source": [
    "### A simple function to generate an item-based CF recommendation for any user"
   ]
  },
  {
   "cell_type": "code",
   "execution_count": null,
   "metadata": {},
   "outputs": [],
   "source": [
    "# a function to generate an item-based recommendation for any user\n",
    "item_based_recommendations <- function(user, movie_similarities, viewed_movies){\n",
    "  \n",
    "  # turn into character if not already\n",
    "  user <- ifelse(is.character(user),user,as.character(user))\n",
    "  \n",
    "  # get scores\n",
    "  user_seen <- row.names(movie_similarities)[viewed_movies[user,] == TRUE]\n",
    "  user_scores <- tibble(title = row.names(movie_similarities), \n",
    "                        score = apply(movie_similarities[,user_seen],1,sum),\n",
    "                        seen = viewed_movies[user,])\n",
    "  # sort unseen movies by score and remove the 'seen' column\n",
    "  user_recom <- user_scores %>% filter(seen == 0) %>% arrange(desc(score)) %>% select(-seen)\n",
    "\n",
    "  return(user_recom)\n",
    "  \n",
    "}"
   ]
  },
  {
   "cell_type": "markdown",
   "metadata": {},
   "source": [
    "Let's check that its working with a user we've seen before, user 236:"
   ]
  },
  {
   "cell_type": "code",
   "execution_count": null,
   "metadata": {},
   "outputs": [],
   "source": [
    "item_based_recommendations(user = 236, movie_similarities = movie_similarities, viewed_movies = viewed_movies)"
   ]
  },
  {
   "cell_type": "markdown",
   "metadata": {},
   "source": [
    "And now do it for all users with `lapply'"
   ]
  },
  {
   "cell_type": "code",
   "execution_count": null,
   "metadata": {},
   "outputs": [],
   "source": [
    "lapply(sorted_my_users, item_based_recommendations, movie_similarities, viewed_movies)"
   ]
  },
  {
   "cell_type": "markdown",
   "metadata": {},
   "source": [
    "## Collaborative filtering with matrix factorization \n",
    "\n",
    "In this section we're going to look at a different way of doing collaborative filtering, one based on the idea of *matrix factorization*, a topic from linear algebra.\n",
    "\n",
    "Matrix factorization, also called matrix decomposition, takes a matrix and represents it as a product of other (usually two) matrices. There are many ways to do matrix factorization, and different problems tend to use different methods.\n",
    "\n",
    "In recommendation systems, matrix factorization is used to decompose the ratings matrix into the product of two matrices. This is done in such a way that the known ratings are matched as closely as possible. \n",
    "\n",
    "The key feature of matrix factorization for recommendation systems is that while the ratings matrix is incomplete (i.e. some entries are blank), the two matrices the ratings matrix is decomposed into are *complete* (no blank entries). This gives a straightforward way of filling in blank spaces in the original ratings matrix, as we'll see.\n",
    "\n",
    "Its actually easier to see the underlying logic and calculations in a spreadsheet setting, so we'll first save the ratings matrix as a .csv file and then jump over to Excel for a bit, before returning to work in R again."
   ]
  },
  {
   "cell_type": "code",
   "execution_count": 111,
   "metadata": {},
   "outputs": [],
   "source": [
    "# get ratings in wide format\n",
    "ratings_wide <- ratings_red %>% \n",
    "  select(userId,title,rating) %>% \n",
    "  complete(userId, title) %>% \n",
    "  spread(key = title, value = rating)\n",
    "\n",
    "# convert data to matrix form \n",
    "sorted_my_users <- as.character(unlist(ratings_wide[,1]))\n",
    "ratings_wide <- as.matrix(ratings_wide[,-1])\n",
    "row.names(ratings_wide) <- sorted_my_users\n",
    "\n",
    "# save as csv for Excel demo\n",
    "write.csv(ratings_wide,\"output/ratings_for_excel_example.csv\")"
   ]
  },
  {
   "cell_type": "markdown",
   "metadata": {},
   "source": [
    "Now let's set up the same computations in R, which will be faster and easier to generalise beyond a particular size dataset. We start by defining a function that will compute the sum of squared differences between the observed movie ratings and any other set of predicted ratings (for example, ones predicted by matrix factorization). Note the we only count movies that have already been rated in the accuracy calculation."
   ]
  },
  {
   "cell_type": "code",
   "execution_count": 112,
   "metadata": {},
   "outputs": [],
   "source": [
    "recommender_accuracy <- function(x, observed_ratings){\n",
    "    \n",
    "  # extract user and movie factors from parameter vector (note x is defined such that \n",
    "  # the first 75 elements are latent factors for users and rest are for movies)\n",
    "  user_factors <- matrix(x[1:75],15,5)\n",
    "  movie_factors <- matrix(x[76:175],5,20)\n",
    "  \n",
    "  # get predictions from dot products of respective user and movie factor\n",
    "  predicted_ratings <- user_factors %*% movie_factors\n",
    "  \n",
    "  # model accuracy is sum of squared errors over all rated movies\n",
    "  errors <- (observed_ratings - predicted_ratings)^2 \n",
    "  accuracy <- sqrt(mean(errors[!is.na(observed_ratings)]))   # only use rated movies\n",
    "  \n",
    "  return(accuracy)\n",
    "}"
   ]
  },
  {
   "cell_type": "markdown",
   "metadata": {},
   "source": [
    "> **Exercise**: This function isn't general, because it refers specifically to a ratings matrix with 15 users, 20 movies, and 5 latent factors. Make the function general."
   ]
  },
  {
   "cell_type": "markdown",
   "metadata": {},
   "source": [
    "We'll now optimize the values in the user and movie latent factors, choosing them so that the root mean square error (the square root of the average squared difference between observed and predicted ratings) is a minimum. I've done this using R's inbuilt numerical optimizer `optim()`, with the default \"Nelder-Mead\" method. There are better ways to do this - experiment! Always check whether the optimizer has converged (although you can't always trust this), see `help(optim)` for details."
   ]
  },
  {
   "cell_type": "code",
   "execution_count": 113,
   "metadata": {
    "scrolled": true
   },
   "outputs": [
    {
     "data": {
      "text/html": [
       "1"
      ],
      "text/latex": [
       "1"
      ],
      "text/markdown": [
       "1"
      ],
      "text/plain": [
       "[1] 1"
      ]
     },
     "metadata": {},
     "output_type": "display_data"
    },
    {
     "data": {
      "text/html": [
       "0.258712811344317"
      ],
      "text/latex": [
       "0.258712811344317"
      ],
      "text/markdown": [
       "0.258712811344317"
      ],
      "text/plain": [
       "[1] 0.2587128"
      ]
     },
     "metadata": {},
     "output_type": "display_data"
    }
   ],
   "source": [
    "set.seed(10)\n",
    "# optimization step\n",
    "rec1 <- optim(par=runif(175), recommender_accuracy, \n",
    "            observed_ratings = ratings_wide, control=list(maxit=100000))\n",
    "rec1$convergence\n",
    "rec1$value"
   ]
  },
  {
   "cell_type": "markdown",
   "metadata": {},
   "source": [
    "The best value of the objective function found by `optim()` after 100000 iterations is 0.258, but note that it hasn't converged yet, so we should really run for longer or try another optimizer! Ignoring this for now, we can extract the optimal user and movie factors. With a bit of work, these can be interpreted and often give useful information. Unfortunately we don't have time to look at this further (although it is similar to the interpretation of principal components, if you are familiar with that)."
   ]
  },
  {
   "cell_type": "code",
   "execution_count": 114,
   "metadata": {},
   "outputs": [
    {
     "data": {
      "text/html": [
       "<table>\n",
       "<caption>A matrix: 6 × 5 of type dbl</caption>\n",
       "<tbody>\n",
       "\t<tr><td> 0.3657830</td><td> 2.7268681</td><td> 0.6118837</td><td> 0.5915031</td><td> 0.5388406</td></tr>\n",
       "\t<tr><td>-0.3584511</td><td> 1.4483009</td><td> 0.1445300</td><td> 3.9665257</td><td> 0.4519185</td></tr>\n",
       "\t<tr><td>-1.1586760</td><td> 1.1801953</td><td>-0.3340436</td><td> 3.3474468</td><td> 0.5945029</td></tr>\n",
       "\t<tr><td> 2.3956245</td><td> 1.4171811</td><td> 0.6028387</td><td>-0.4774059</td><td>-2.9170233</td></tr>\n",
       "\t<tr><td> 3.8781238</td><td>-0.4556751</td><td> 0.2479186</td><td> 1.5770055</td><td> 0.8684524</td></tr>\n",
       "\t<tr><td> 2.2149462</td><td> 0.7954067</td><td> 0.7399249</td><td> 0.1134245</td><td>-1.1141201</td></tr>\n",
       "</tbody>\n",
       "</table>\n"
      ],
      "text/latex": [
       "A matrix: 6 × 5 of type dbl\n",
       "\\begin{tabular}{lllll}\n",
       "\t  0.3657830 &  2.7268681 &  0.6118837 &  0.5915031 &  0.5388406\\\\\n",
       "\t -0.3584511 &  1.4483009 &  0.1445300 &  3.9665257 &  0.4519185\\\\\n",
       "\t -1.1586760 &  1.1801953 & -0.3340436 &  3.3474468 &  0.5945029\\\\\n",
       "\t  2.3956245 &  1.4171811 &  0.6028387 & -0.4774059 & -2.9170233\\\\\n",
       "\t  3.8781238 & -0.4556751 &  0.2479186 &  1.5770055 &  0.8684524\\\\\n",
       "\t  2.2149462 &  0.7954067 &  0.7399249 &  0.1134245 & -1.1141201\\\\\n",
       "\\end{tabular}\n"
      ],
      "text/markdown": [
       "\n",
       "A matrix: 6 × 5 of type dbl\n",
       "\n",
       "|  0.3657830 |  2.7268681 |  0.6118837 |  0.5915031 |  0.5388406 |\n",
       "| -0.3584511 |  1.4483009 |  0.1445300 |  3.9665257 |  0.4519185 |\n",
       "| -1.1586760 |  1.1801953 | -0.3340436 |  3.3474468 |  0.5945029 |\n",
       "|  2.3956245 |  1.4171811 |  0.6028387 | -0.4774059 | -2.9170233 |\n",
       "|  3.8781238 | -0.4556751 |  0.2479186 |  1.5770055 |  0.8684524 |\n",
       "|  2.2149462 |  0.7954067 |  0.7399249 |  0.1134245 | -1.1141201 |\n",
       "\n"
      ],
      "text/plain": [
       "     [,1]       [,2]       [,3]       [,4]       [,5]      \n",
       "[1,]  0.3657830  2.7268681  0.6118837  0.5915031  0.5388406\n",
       "[2,] -0.3584511  1.4483009  0.1445300  3.9665257  0.4519185\n",
       "[3,] -1.1586760  1.1801953 -0.3340436  3.3474468  0.5945029\n",
       "[4,]  2.3956245  1.4171811  0.6028387 -0.4774059 -2.9170233\n",
       "[5,]  3.8781238 -0.4556751  0.2479186  1.5770055  0.8684524\n",
       "[6,]  2.2149462  0.7954067  0.7399249  0.1134245 -1.1141201"
      ]
     },
     "metadata": {},
     "output_type": "display_data"
    }
   ],
   "source": [
    "# extract optimal user factors\n",
    "user_factors <- matrix(rec1$par[1:75],15,5)\n",
    "head(user_factors)"
   ]
  },
  {
   "cell_type": "code",
   "execution_count": 115,
   "metadata": {},
   "outputs": [
    {
     "data": {
      "text/html": [
       "<table>\n",
       "<caption>A matrix: 5 × 20 of type dbl</caption>\n",
       "<tbody>\n",
       "\t<tr><td>0.8897293</td><td> 1.0935242</td><td>-0.9464366</td><td> 1.4006422</td><td> 0.6064796</td><td> 0.9428172</td><td>-0.7147964</td><td> 0.4015494</td><td> 0.3123863</td><td> 0.6102844</td><td> 0.3513919</td><td> 0.9861259</td><td>0.7456028</td><td> 0.3259996</td><td> 0.7134509</td><td> 1.427887</td><td> 0.3648229</td><td> 1.3502739</td><td> 0.7810916</td><td>0.7038951</td></tr>\n",
       "\t<tr><td>0.6096810</td><td> 1.1843201</td><td> 1.6947961</td><td> 0.3717246</td><td> 0.3912175</td><td> 0.9700681</td><td> 0.8112541</td><td> 1.1702875</td><td>-1.0225496</td><td> 1.4569461</td><td> 1.6938504</td><td> 0.5535347</td><td>2.3285074</td><td> 0.0461059</td><td> 0.9337365</td><td> 1.096742</td><td>-0.2743746</td><td> 2.3285977</td><td> 0.4156057</td><td>0.8435226</td></tr>\n",
       "\t<tr><td>1.6166807</td><td> 1.5763010</td><td>-0.3074508</td><td>-1.5712743</td><td> 0.4193076</td><td>-0.5207672</td><td> 1.1674692</td><td>-1.8203013</td><td> 0.2476967</td><td> 0.6434199</td><td> 0.8325815</td><td> 0.4092764</td><td>1.7934327</td><td> 0.2166642</td><td> 1.0682245</td><td> 1.135006</td><td> 1.4934491</td><td>-0.5324783</td><td> 1.0687913</td><td>1.4344043</td></tr>\n",
       "\t<tr><td>0.6136185</td><td>-1.1419063</td><td> 0.4361951</td><td>-0.2146516</td><td> 1.9620240</td><td> 0.9729611</td><td>-4.2578095</td><td> 0.6896335</td><td> 2.4218357</td><td> 0.8215509</td><td> 0.9052081</td><td> 0.5272057</td><td>0.7493992</td><td> 1.2393460</td><td> 1.1172589</td><td> 1.170068</td><td> 1.1219603</td><td> 0.3021888</td><td>-0.1618643</td><td>1.0733206</td></tr>\n",
       "\t<tr><td>0.2804760</td><td> 0.2288244</td><td>-2.9590191</td><td>-5.0187050</td><td>-2.4163176</td><td> 0.6632936</td><td>-0.5934876</td><td>-0.2747528</td><td>-1.7981541</td><td>-1.4443502</td><td>-1.4804007</td><td>-1.7033162</td><td>1.1223406</td><td>-1.8454364</td><td>-0.9872299</td><td>-1.794029</td><td>-0.1636815</td><td> 0.5653309</td><td> 0.2941909</td><td>0.5923625</td></tr>\n",
       "</tbody>\n",
       "</table>\n"
      ],
      "text/latex": [
       "A matrix: 5 × 20 of type dbl\n",
       "\\begin{tabular}{llllllllllllllllllll}\n",
       "\t 0.8897293 &  1.0935242 & -0.9464366 &  1.4006422 &  0.6064796 &  0.9428172 & -0.7147964 &  0.4015494 &  0.3123863 &  0.6102844 &  0.3513919 &  0.9861259 & 0.7456028 &  0.3259996 &  0.7134509 &  1.427887 &  0.3648229 &  1.3502739 &  0.7810916 & 0.7038951\\\\\n",
       "\t 0.6096810 &  1.1843201 &  1.6947961 &  0.3717246 &  0.3912175 &  0.9700681 &  0.8112541 &  1.1702875 & -1.0225496 &  1.4569461 &  1.6938504 &  0.5535347 & 2.3285074 &  0.0461059 &  0.9337365 &  1.096742 & -0.2743746 &  2.3285977 &  0.4156057 & 0.8435226\\\\\n",
       "\t 1.6166807 &  1.5763010 & -0.3074508 & -1.5712743 &  0.4193076 & -0.5207672 &  1.1674692 & -1.8203013 &  0.2476967 &  0.6434199 &  0.8325815 &  0.4092764 & 1.7934327 &  0.2166642 &  1.0682245 &  1.135006 &  1.4934491 & -0.5324783 &  1.0687913 & 1.4344043\\\\\n",
       "\t 0.6136185 & -1.1419063 &  0.4361951 & -0.2146516 &  1.9620240 &  0.9729611 & -4.2578095 &  0.6896335 &  2.4218357 &  0.8215509 &  0.9052081 &  0.5272057 & 0.7493992 &  1.2393460 &  1.1172589 &  1.170068 &  1.1219603 &  0.3021888 & -0.1618643 & 1.0733206\\\\\n",
       "\t 0.2804760 &  0.2288244 & -2.9590191 & -5.0187050 & -2.4163176 &  0.6632936 & -0.5934876 & -0.2747528 & -1.7981541 & -1.4443502 & -1.4804007 & -1.7033162 & 1.1223406 & -1.8454364 & -0.9872299 & -1.794029 & -0.1636815 &  0.5653309 &  0.2941909 & 0.5923625\\\\\n",
       "\\end{tabular}\n"
      ],
      "text/markdown": [
       "\n",
       "A matrix: 5 × 20 of type dbl\n",
       "\n",
       "| 0.8897293 |  1.0935242 | -0.9464366 |  1.4006422 |  0.6064796 |  0.9428172 | -0.7147964 |  0.4015494 |  0.3123863 |  0.6102844 |  0.3513919 |  0.9861259 | 0.7456028 |  0.3259996 |  0.7134509 |  1.427887 |  0.3648229 |  1.3502739 |  0.7810916 | 0.7038951 |\n",
       "| 0.6096810 |  1.1843201 |  1.6947961 |  0.3717246 |  0.3912175 |  0.9700681 |  0.8112541 |  1.1702875 | -1.0225496 |  1.4569461 |  1.6938504 |  0.5535347 | 2.3285074 |  0.0461059 |  0.9337365 |  1.096742 | -0.2743746 |  2.3285977 |  0.4156057 | 0.8435226 |\n",
       "| 1.6166807 |  1.5763010 | -0.3074508 | -1.5712743 |  0.4193076 | -0.5207672 |  1.1674692 | -1.8203013 |  0.2476967 |  0.6434199 |  0.8325815 |  0.4092764 | 1.7934327 |  0.2166642 |  1.0682245 |  1.135006 |  1.4934491 | -0.5324783 |  1.0687913 | 1.4344043 |\n",
       "| 0.6136185 | -1.1419063 |  0.4361951 | -0.2146516 |  1.9620240 |  0.9729611 | -4.2578095 |  0.6896335 |  2.4218357 |  0.8215509 |  0.9052081 |  0.5272057 | 0.7493992 |  1.2393460 |  1.1172589 |  1.170068 |  1.1219603 |  0.3021888 | -0.1618643 | 1.0733206 |\n",
       "| 0.2804760 |  0.2288244 | -2.9590191 | -5.0187050 | -2.4163176 |  0.6632936 | -0.5934876 | -0.2747528 | -1.7981541 | -1.4443502 | -1.4804007 | -1.7033162 | 1.1223406 | -1.8454364 | -0.9872299 | -1.794029 | -0.1636815 |  0.5653309 |  0.2941909 | 0.5923625 |\n",
       "\n"
      ],
      "text/plain": [
       "     [,1]      [,2]       [,3]       [,4]       [,5]       [,6]      \n",
       "[1,] 0.8897293  1.0935242 -0.9464366  1.4006422  0.6064796  0.9428172\n",
       "[2,] 0.6096810  1.1843201  1.6947961  0.3717246  0.3912175  0.9700681\n",
       "[3,] 1.6166807  1.5763010 -0.3074508 -1.5712743  0.4193076 -0.5207672\n",
       "[4,] 0.6136185 -1.1419063  0.4361951 -0.2146516  1.9620240  0.9729611\n",
       "[5,] 0.2804760  0.2288244 -2.9590191 -5.0187050 -2.4163176  0.6632936\n",
       "     [,7]       [,8]       [,9]       [,10]      [,11]      [,12]     \n",
       "[1,] -0.7147964  0.4015494  0.3123863  0.6102844  0.3513919  0.9861259\n",
       "[2,]  0.8112541  1.1702875 -1.0225496  1.4569461  1.6938504  0.5535347\n",
       "[3,]  1.1674692 -1.8203013  0.2476967  0.6434199  0.8325815  0.4092764\n",
       "[4,] -4.2578095  0.6896335  2.4218357  0.8215509  0.9052081  0.5272057\n",
       "[5,] -0.5934876 -0.2747528 -1.7981541 -1.4443502 -1.4804007 -1.7033162\n",
       "     [,13]     [,14]      [,15]      [,16]     [,17]      [,18]      [,19]     \n",
       "[1,] 0.7456028  0.3259996  0.7134509  1.427887  0.3648229  1.3502739  0.7810916\n",
       "[2,] 2.3285074  0.0461059  0.9337365  1.096742 -0.2743746  2.3285977  0.4156057\n",
       "[3,] 1.7934327  0.2166642  1.0682245  1.135006  1.4934491 -0.5324783  1.0687913\n",
       "[4,] 0.7493992  1.2393460  1.1172589  1.170068  1.1219603  0.3021888 -0.1618643\n",
       "[5,] 1.1223406 -1.8454364 -0.9872299 -1.794029 -0.1636815  0.5653309  0.2941909\n",
       "     [,20]    \n",
       "[1,] 0.7038951\n",
       "[2,] 0.8435226\n",
       "[3,] 1.4344043\n",
       "[4,] 1.0733206\n",
       "[5,] 0.5923625"
      ]
     },
     "metadata": {},
     "output_type": "display_data"
    }
   ],
   "source": [
    "# extract optimal movie factors\n",
    "movie_factors <- matrix(rec1$par[76:175],5,20)\n",
    "head(movie_factors)"
   ]
  },
  {
   "cell_type": "markdown",
   "metadata": {},
   "source": [
    "Most importantly, we can get **predicted movie ratings** for any user, by taking the appropriate dot product of user and movie factors. Here we show the predictions for user 1:"
   ]
  },
  {
   "cell_type": "code",
   "execution_count": 116,
   "metadata": {},
   "outputs": [
    {
     "data": {
      "text/html": [
       "<table>\n",
       "<caption>A matrix: 2 × 20 of type dbl</caption>\n",
       "<tbody>\n",
       "\t<tr><td>3.5</td><td> 4</td><td>2.8</td><td>-2.3</td><td>1.4</td><td>3.6</td><td>-0.2</td><td>2.5</td><td>-2.1</td><td>4.3</td><td>5</td><td>1.5</td><td>8.8</td><td>0.1</td><td>3.6</td><td>3.9</td><td>0.9</td><td> 7</td><td>2.1</td><td>4.4</td></tr>\n",
       "\t<tr><td>3.0</td><td>NA</td><td> NA</td><td>  NA</td><td> NA</td><td>4.0</td><td>  NA</td><td> NA</td><td>  NA</td><td>4.0</td><td>5</td><td> NA</td><td> NA</td><td> NA</td><td> NA</td><td>4.0</td><td> NA</td><td>NA</td><td> NA</td><td> NA</td></tr>\n",
       "</tbody>\n",
       "</table>\n"
      ],
      "text/latex": [
       "A matrix: 2 × 20 of type dbl\n",
       "\\begin{tabular}{llllllllllllllllllll}\n",
       "\t 3.5 &  4 & 2.8 & -2.3 & 1.4 & 3.6 & -0.2 & 2.5 & -2.1 & 4.3 & 5 & 1.5 & 8.8 & 0.1 & 3.6 & 3.9 & 0.9 &  7 & 2.1 & 4.4\\\\\n",
       "\t 3.0 & NA &  NA &   NA &  NA & 4.0 &   NA &  NA &   NA & 4.0 & 5 &  NA &  NA &  NA &  NA & 4.0 &  NA & NA &  NA &  NA\\\\\n",
       "\\end{tabular}\n"
      ],
      "text/markdown": [
       "\n",
       "A matrix: 2 × 20 of type dbl\n",
       "\n",
       "| 3.5 |  4 | 2.8 | -2.3 | 1.4 | 3.6 | -0.2 | 2.5 | -2.1 | 4.3 | 5 | 1.5 | 8.8 | 0.1 | 3.6 | 3.9 | 0.9 |  7 | 2.1 | 4.4 |\n",
       "| 3.0 | NA |  NA |   NA |  NA | 4.0 |   NA |  NA |   NA | 4.0 | 5 |  NA |  NA |  NA |  NA | 4.0 |  NA | NA |  NA |  NA |\n",
       "\n"
      ],
      "text/plain": [
       "     [,1] [,2] [,3] [,4] [,5] [,6] [,7] [,8] [,9] [,10] [,11] [,12] [,13] [,14]\n",
       "[1,] 3.5   4   2.8  -2.3 1.4  3.6  -0.2 2.5  -2.1 4.3   5     1.5   8.8   0.1  \n",
       "[2,] 3.0  NA    NA    NA  NA  4.0    NA  NA    NA 4.0   5      NA    NA    NA  \n",
       "     [,15] [,16] [,17] [,18] [,19] [,20]\n",
       "[1,] 3.6   3.9   0.9    7    2.1   4.4  \n",
       "[2,]  NA   4.0    NA   NA     NA    NA  "
      ]
     },
     "metadata": {},
     "output_type": "display_data"
    }
   ],
   "source": [
    "# check predictions for one user\n",
    "predicted_ratings <- user_factors %*% movie_factors\n",
    "rbind(round(predicted_ratings[1,],1), as.numeric(ratings_wide[1,]))"
   ]
  },
  {
   "cell_type": "markdown",
   "metadata": {},
   "source": [
    "### Adding L2 regularization\n",
    "\n",
    "One trick that can improve the performance of matrix factorization collaborative filtering is to add L2 regularization. L2 regularization adds a penalty term to the function that we're trying to minimize, which penalizes large parameter values. The L2 norm of a vector $\\mathbf{x}$ is given by \n",
    "\n",
    "$||\\mathbf{x}||_2=\\sqrt{x_1^2+x_2^2+\\dots+x_n^2}$\n",
    "\n",
    "We first rewrite the *evaluate_fit* function to make use of L2 regularization:"
   ]
  },
  {
   "cell_type": "code",
   "execution_count": null,
   "metadata": {},
   "outputs": [],
   "source": [
    "## adds L2 regularization, often improves accuracy\n",
    "\n",
    "evaluate_fit_l2 <- function(x, observed_ratings, lambda){\n",
    "  \n",
    "  # extract user and movie factors from parameter vector\n",
    "  user_factors <- matrix(x[1:75],15,5)\n",
    "  movie_factors <- matrix(x[76:175],5,20)\n",
    "  \n",
    "  # get predictions from dot products\n",
    "  predicted_ratings <- user_factors %*% movie_factors\n",
    "  \n",
    "  errors <- (observed_ratings - predicted_ratings)^2 \n",
    "  \n",
    "  # L2 norm penalizes large parameter values\n",
    "  penalty <- sqrt(sum(user_factors^2, movie_factors^2))\n",
    "  \n",
    "  # model accuracy contains an error term and a weighted penalty \n",
    "  accuracy <- sqrt(mean(errors[!is.na(observed_ratings)])) + lambda * penalty\n",
    "  \n",
    "  return(accuracy)\n",
    "}"
   ]
  },
  {
   "cell_type": "markdown",
   "metadata": {},
   "source": [
    "We now rerun the optimization with this new evaluation function:"
   ]
  },
  {
   "cell_type": "code",
   "execution_count": null,
   "metadata": {},
   "outputs": [],
   "source": [
    "set.seed(10)\n",
    "# optimization step\n",
    "rec2 <- optim(par=runif(175), evaluate_fit_l2, \n",
    "            lambda = 3e-2, observed_ratings = ratings_wide, control=list(maxit=100000))\n",
    "rec2$convergence\n",
    "rec2$value"
   ]
  },
  {
   "cell_type": "markdown",
   "metadata": {},
   "source": [
    "The best value found is **worse** than before, but remember that we changed the objective function to include the L2 penalty term, so the numbers are not comparable. We need to extract just the RMSE that we're interested in. To do that we first need to extract the optimal parameter values (user and movie factors), and multiply these matrices together to get predicted ratings. From there, its easy to calculate the errors."
   ]
  },
  {
   "cell_type": "code",
   "execution_count": null,
   "metadata": {},
   "outputs": [],
   "source": [
    "# extract optimal user and movie factors\n",
    "user_factors <- matrix(rec2$par[1:75],15,5)\n",
    "movie_factors <- matrix(rec2$par[76:175],5,20)\n",
    "\n",
    "# get predicted ratings\n",
    "predicted_ratings <- user_factors %*% movie_factors\n",
    "\n",
    "# check accuracy\n",
    "errors <- (ratings_wide - predicted_ratings)^2 \n",
    "sqrt(mean(errors[!is.na(ratings_wide)]))"
   ]
  },
  {
   "cell_type": "markdown",
   "metadata": {},
   "source": [
    "Compare this with what we achieved without L2 regularization: did it work? As before, we can extract user and movie factors, and get predictions for any user."
   ]
  },
  {
   "cell_type": "code",
   "execution_count": null,
   "metadata": {},
   "outputs": [],
   "source": [
    "# check predictions for one user\n",
    "rbind(round(predicted_ratings[1,],1), as.numeric(ratings_wide[1,]))"
   ]
  },
  {
   "cell_type": "markdown",
   "metadata": {},
   "source": [
    "### Adding bias terms\n",
    "\n",
    "We've already seen bias terms in the Excel example. Bias terms are additive factors that model the fact that some users are more generous than others (and so will give higher ratings, on average) and some movies are better than others (and so will get higher ratings, on average). \n",
    "\n",
    "Let's adapt our evaluation function further to include a bias terms for both users and movies:"
   ]
  },
  {
   "cell_type": "code",
   "execution_count": null,
   "metadata": {},
   "outputs": [],
   "source": [
    "## add an additive bias term for each user and movie\n",
    "\n",
    "evaluate_fit_l2_bias <- function(x, observed_ratings, lambda){\n",
    "  # extract user and movie factors and bias terms from parameter vector\n",
    "  user_factors <- matrix(x[1:75],15,5)\n",
    "  movie_factors <- matrix(x[76:175],5,20)\n",
    "  # the bias vectors are repeated to make the later matrix calculations easier \n",
    "  user_bias <- matrix(x[176:190],nrow=15,ncol=20)\n",
    "  movie_bias <- t(matrix(x[191:210],nrow=20,ncol=15))\n",
    "  \n",
    "  # get predictions from dot products + bias terms\n",
    "  predicted_ratings <- user_factors %*% movie_factors + user_bias + movie_bias\n",
    "  \n",
    "  errors <- (observed_ratings - predicted_ratings)^2 \n",
    "  \n",
    "  # L2 norm penalizes large parameter values (note not applied to bias terms)\n",
    "  penalty <- sqrt(sum(user_factors^2, movie_factors^2))\n",
    "  \n",
    "  # model accuracy contains an error term and a weighted penalty \n",
    "  accuracy <- sqrt(mean(errors[!is.na(observed_ratings)])) + lambda * penalty\n",
    "  \n",
    "  return(accuracy)\n",
    "}"
   ]
  },
  {
   "cell_type": "markdown",
   "metadata": {},
   "source": [
    "Again, rerun the optimization:"
   ]
  },
  {
   "cell_type": "code",
   "execution_count": null,
   "metadata": {},
   "outputs": [],
   "source": [
    "set.seed(10)\n",
    "# optimization step (note longer parameter vector to include bias)\n",
    "rec3 <- optim(par=runif(220),evaluate_fit_l2_bias,\n",
    "              observed_ratings = ratings_wide, lambda = 3e-2, control=list(maxit=100000))\n",
    "rec3$convergence\n",
    "rec3$value"
   ]
  },
  {
   "cell_type": "markdown",
   "metadata": {},
   "source": [
    "This value isn't comparable to either of the previous values, for the same reason as before: the objective function has changed to include bias terms. Extracting just the RMSE:"
   ]
  },
  {
   "cell_type": "code",
   "execution_count": null,
   "metadata": {},
   "outputs": [],
   "source": [
    "# extract optimal user and movie factors and bias terms\n",
    "user_factors <- matrix(rec3$par[1:75],15,5)\n",
    "movie_factors <- matrix(rec3$par[76:175],5,20)\n",
    "user_bias <- matrix(rec3$par[176:190],nrow=15,ncol=20)\n",
    "movie_bias <- t(matrix(rec3$par[191:210],nrow=20,ncol=15))\n",
    "\n",
    "# get predicted ratings\n",
    "predicted_ratings <- user_factors %*% movie_factors + user_bias + movie_bias\n",
    "\n",
    "# check accuracy\n",
    "errors <- (ratings_wide - predicted_ratings)^2 \n",
    "sqrt(mean(errors[!is.na(ratings_wide)]))"
   ]
  },
  {
   "cell_type": "markdown",
   "metadata": {},
   "source": [
    "This is indeed an improvement over what we've seen before (at least, for the parameter settings above!). \n",
    "\n",
    "We can examine and interpret the user or movie latent factors, or bias terms, if we want to. Below we show the movie bias terms, which give a reasonable reflection of movie quality (with some notable exceptions!)"
   ]
  },
  {
   "cell_type": "code",
   "execution_count": null,
   "metadata": {},
   "outputs": [],
   "source": [
    "data.frame(movies = colnames(viewed_movies), bias = movie_bias[1,]) %>% arrange(desc(bias))"
   ]
  },
  {
   "cell_type": "markdown",
   "metadata": {},
   "source": [
    "Finally, we again get predicted ratings for one user:"
   ]
  },
  {
   "cell_type": "code",
   "execution_count": null,
   "metadata": {},
   "outputs": [],
   "source": [
    "# check predictions for one user\n",
    "rbind(round(predicted_ratings[1,],1), as.numeric(ratings_wide[1,]))"
   ]
  },
  {
   "cell_type": "markdown",
   "metadata": {},
   "source": [
    "### Further resources \n",
    "\n",
    "https://gab41.lab41.org/the-nine-must-have-datasets-for-investigating-recommender-systems-ce9421bf981c\n",
    "\n",
    "http://shuaizhang.tech/2017/03/15/Datasets-For-Recommender-System/\n",
    "\n",
    "https://www.kaggle.com/retailrocket/ecommerce-dataset/home"
   ]
  },
  {
   "cell_type": "markdown",
   "metadata": {},
   "source": [
    "## Exercises\n",
    "\n",
    "There are a few places in the notebook where an exercise is indicated. Specifically:\n",
    "\n",
    "1. Adapt the pairwise similarity function so that it doesn't use loops.\n",
    "2. Implement a k-nearest-neighbours version of item-based collaborative filtering.\n",
    "3. Adapt the `recommender_accuracy()` function so that it can be used with an arbitrary number of users and movies.\n",
    "4. Experiment with the optimizers used in the matrix factorization collaborative filter.\n",
    "5. The course data folder contains a spreadsheet file *course_recommender.xlsx* which captures the modules selected by the MSc Data Science class this year. This is a bit of an artificial example, because students cannot take *all* modules on offer, but we'll ignore this constraint and treat this *student X course* matrix as input data for a recommender system. Build a recommender system that recommends, for any student, which module to take \"next\". Try out all the approaches we've covered -- user-based, item-based, and matrix factorization-based. Which students are most similar to you? Which courses are most similar?"
   ]
  }
 ],
 "metadata": {
  "kernelspec": {
   "display_name": "R",
   "language": "R",
   "name": "ir"
  },
  "language_info": {
   "codemirror_mode": "r",
   "file_extension": ".r",
   "mimetype": "text/x-r-source",
   "name": "R",
   "pygments_lexer": "r",
   "version": "3.4.2"
  }
 },
 "nbformat": 4,
 "nbformat_minor": 2
}
